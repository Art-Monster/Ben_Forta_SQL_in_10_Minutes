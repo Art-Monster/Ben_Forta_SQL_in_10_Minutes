{
 "cells": [
  {
   "cell_type": "markdown",
   "id": "5164dfff",
   "metadata": {},
   "source": [
    "# Освой самостоятельно SQL\n",
    "## за 10 минут"
   ]
  },
  {
   "cell_type": "markdown",
   "id": "73c1c68c",
   "metadata": {},
   "source": [
    "# УР0К1\n",
    "# Основы SQL"
   ]
  },
  {
   "cell_type": "markdown",
   "id": "f3bca63c",
   "metadata": {},
   "source": [
    "### Базы данных\n",
    "Термин база данных используется в самых разных областях, но \n",
    "мы (применительно к SQL) будем считать базу данных набором сведений, хранящихся неким упорядоченным способом.\\\n",
    "\n",
    "Процесс написания инструкций требует хорошего понимания структуры базы данных. Без знания того, какая информация в \n",
    "какой таблице хранится, как таблицы связаны одна с другой и как распределены данные в строках, невозможно написать эффективный \n",
    "SQL-код.\n"
   ]
  },
  {
   "cell_type": "code",
   "execution_count": 1,
   "id": "9490cb45",
   "metadata": {},
   "outputs": [
    {
     "data": {
      "text/plain": [
       "(('name', None, None, None, None, None, None),)"
      ]
     },
     "execution_count": 1,
     "metadata": {},
     "output_type": "execute_result"
    }
   ],
   "source": [
    "import sqlite3\n",
    "\n",
    "#Таблица sqlite_master - это главная таблица (master table), \n",
    "# в которой отслеживаются таблицы и виды, содержащиеся в базе данных.\n",
    "\n",
    "query = \"\"\"SELECT name FROM sqlite_master WHERE type='table';\"\"\"\n",
    "con = sqlite3.connect('tysql/tysql.sqlite')\n",
    "cursor = con.execute(query)\n",
    "cursor.description"
   ]
  },
  {
   "cell_type": "code",
   "execution_count": 2,
   "id": "5891c330",
   "metadata": {},
   "outputs": [
    {
     "data": {
      "text/plain": [
       "[('Customers',), ('OrderItems',), ('Orders',), ('Products',), ('Vendors',)]"
      ]
     },
     "execution_count": 2,
     "metadata": {},
     "output_type": "execute_result"
    }
   ],
   "source": [
    "rows = cursor.fetchall()\n",
    "rows"
   ]
  },
  {
   "cell_type": "markdown",
   "id": "a6013f23",
   "metadata": {},
   "source": [
    "Мы видим, что в нашем распоряжении есть таблицы [('Customers',), ('OrderItems',), ('Orders',), ('Products',), ('Vendors',)]"
   ]
  },
  {
   "cell_type": "markdown",
   "id": "17e7a260",
   "metadata": {},
   "source": [
    "# УРОК 2\n",
    "# Извлечение данных из таблиц"
   ]
  },
  {
   "cell_type": "markdown",
   "id": "1c649791",
   "metadata": {},
   "source": [
    "с помощью инструкции SELECT можно запросить все столбцы, не перечисляя каждый из них. Для этого вместо имен столбцов указывается групповой символ “звездочка” (*)"
   ]
  },
  {
   "cell_type": "code",
   "execution_count": 3,
   "id": "c7b2c617",
   "metadata": {
    "scrolled": true
   },
   "outputs": [
    {
     "data": {
      "text/html": [
       "<div>\n",
       "<style scoped>\n",
       "    .dataframe tbody tr th:only-of-type {\n",
       "        vertical-align: middle;\n",
       "    }\n",
       "\n",
       "    .dataframe tbody tr th {\n",
       "        vertical-align: top;\n",
       "    }\n",
       "\n",
       "    .dataframe thead th {\n",
       "        text-align: right;\n",
       "    }\n",
       "</style>\n",
       "<table border=\"1\" class=\"dataframe\">\n",
       "  <thead>\n",
       "    <tr style=\"text-align: right;\">\n",
       "      <th></th>\n",
       "      <th>order_num</th>\n",
       "      <th>order_item</th>\n",
       "      <th>prod_id</th>\n",
       "      <th>quantity</th>\n",
       "      <th>item_price</th>\n",
       "    </tr>\n",
       "  </thead>\n",
       "  <tbody>\n",
       "    <tr>\n",
       "      <th>0</th>\n",
       "      <td>20005</td>\n",
       "      <td>1</td>\n",
       "      <td>BR01</td>\n",
       "      <td>100</td>\n",
       "      <td>5.49</td>\n",
       "    </tr>\n",
       "    <tr>\n",
       "      <th>1</th>\n",
       "      <td>20005</td>\n",
       "      <td>2</td>\n",
       "      <td>BR03</td>\n",
       "      <td>100</td>\n",
       "      <td>10.99</td>\n",
       "    </tr>\n",
       "    <tr>\n",
       "      <th>2</th>\n",
       "      <td>20006</td>\n",
       "      <td>1</td>\n",
       "      <td>BR01</td>\n",
       "      <td>20</td>\n",
       "      <td>5.99</td>\n",
       "    </tr>\n",
       "    <tr>\n",
       "      <th>3</th>\n",
       "      <td>20006</td>\n",
       "      <td>2</td>\n",
       "      <td>BR02</td>\n",
       "      <td>10</td>\n",
       "      <td>8.99</td>\n",
       "    </tr>\n",
       "    <tr>\n",
       "      <th>4</th>\n",
       "      <td>20006</td>\n",
       "      <td>3</td>\n",
       "      <td>BR03</td>\n",
       "      <td>10</td>\n",
       "      <td>11.99</td>\n",
       "    </tr>\n",
       "    <tr>\n",
       "      <th>5</th>\n",
       "      <td>20007</td>\n",
       "      <td>1</td>\n",
       "      <td>BR03</td>\n",
       "      <td>50</td>\n",
       "      <td>11.49</td>\n",
       "    </tr>\n",
       "    <tr>\n",
       "      <th>6</th>\n",
       "      <td>20007</td>\n",
       "      <td>2</td>\n",
       "      <td>BNBG01</td>\n",
       "      <td>100</td>\n",
       "      <td>2.99</td>\n",
       "    </tr>\n",
       "    <tr>\n",
       "      <th>7</th>\n",
       "      <td>20007</td>\n",
       "      <td>3</td>\n",
       "      <td>BNBG02</td>\n",
       "      <td>100</td>\n",
       "      <td>2.99</td>\n",
       "    </tr>\n",
       "    <tr>\n",
       "      <th>8</th>\n",
       "      <td>20007</td>\n",
       "      <td>4</td>\n",
       "      <td>BNBG03</td>\n",
       "      <td>100</td>\n",
       "      <td>2.99</td>\n",
       "    </tr>\n",
       "    <tr>\n",
       "      <th>9</th>\n",
       "      <td>20007</td>\n",
       "      <td>5</td>\n",
       "      <td>RGAN01</td>\n",
       "      <td>50</td>\n",
       "      <td>4.49</td>\n",
       "    </tr>\n",
       "    <tr>\n",
       "      <th>10</th>\n",
       "      <td>20008</td>\n",
       "      <td>1</td>\n",
       "      <td>RGAN01</td>\n",
       "      <td>5</td>\n",
       "      <td>4.99</td>\n",
       "    </tr>\n",
       "    <tr>\n",
       "      <th>11</th>\n",
       "      <td>20008</td>\n",
       "      <td>2</td>\n",
       "      <td>BR03</td>\n",
       "      <td>5</td>\n",
       "      <td>11.99</td>\n",
       "    </tr>\n",
       "    <tr>\n",
       "      <th>12</th>\n",
       "      <td>20008</td>\n",
       "      <td>3</td>\n",
       "      <td>BNBG01</td>\n",
       "      <td>10</td>\n",
       "      <td>3.49</td>\n",
       "    </tr>\n",
       "    <tr>\n",
       "      <th>13</th>\n",
       "      <td>20008</td>\n",
       "      <td>4</td>\n",
       "      <td>BNBG02</td>\n",
       "      <td>10</td>\n",
       "      <td>3.49</td>\n",
       "    </tr>\n",
       "    <tr>\n",
       "      <th>14</th>\n",
       "      <td>20008</td>\n",
       "      <td>5</td>\n",
       "      <td>BNBG03</td>\n",
       "      <td>10</td>\n",
       "      <td>3.49</td>\n",
       "    </tr>\n",
       "    <tr>\n",
       "      <th>15</th>\n",
       "      <td>20009</td>\n",
       "      <td>1</td>\n",
       "      <td>BNBG01</td>\n",
       "      <td>250</td>\n",
       "      <td>2.49</td>\n",
       "    </tr>\n",
       "    <tr>\n",
       "      <th>16</th>\n",
       "      <td>20009</td>\n",
       "      <td>2</td>\n",
       "      <td>BNBG02</td>\n",
       "      <td>250</td>\n",
       "      <td>2.49</td>\n",
       "    </tr>\n",
       "    <tr>\n",
       "      <th>17</th>\n",
       "      <td>20009</td>\n",
       "      <td>3</td>\n",
       "      <td>BNBG03</td>\n",
       "      <td>250</td>\n",
       "      <td>2.49</td>\n",
       "    </tr>\n",
       "    <tr>\n",
       "      <th>18</th>\n",
       "      <td>20100</td>\n",
       "      <td>1</td>\n",
       "      <td>BR01</td>\n",
       "      <td>100</td>\n",
       "      <td>5.49</td>\n",
       "    </tr>\n",
       "  </tbody>\n",
       "</table>\n",
       "</div>"
      ],
      "text/plain": [
       "    order_num  order_item prod_id  quantity  item_price\n",
       "0       20005           1    BR01       100        5.49\n",
       "1       20005           2    BR03       100       10.99\n",
       "2       20006           1    BR01        20        5.99\n",
       "3       20006           2    BR02        10        8.99\n",
       "4       20006           3    BR03        10       11.99\n",
       "5       20007           1    BR03        50       11.49\n",
       "6       20007           2  BNBG01       100        2.99\n",
       "7       20007           3  BNBG02       100        2.99\n",
       "8       20007           4  BNBG03       100        2.99\n",
       "9       20007           5  RGAN01        50        4.49\n",
       "10      20008           1  RGAN01         5        4.99\n",
       "11      20008           2    BR03         5       11.99\n",
       "12      20008           3  BNBG01        10        3.49\n",
       "13      20008           4  BNBG02        10        3.49\n",
       "14      20008           5  BNBG03        10        3.49\n",
       "15      20009           1  BNBG01       250        2.49\n",
       "16      20009           2  BNBG02       250        2.49\n",
       "17      20009           3  BNBG03       250        2.49\n",
       "18      20100           1    BR01       100        5.49"
      ]
     },
     "execution_count": 3,
     "metadata": {},
     "output_type": "execute_result"
    }
   ],
   "source": [
    "import sqlalchemy as sqla\n",
    "import pandas as pd\n",
    "db = sqla.create_engine('sqlite:///tysql/tysql.sqlite')\n",
    "pd.read_sql('select * from OrderItems', db)"
   ]
  },
  {
   "cell_type": "code",
   "execution_count": 4,
   "id": "3381150d",
   "metadata": {
    "scrolled": true
   },
   "outputs": [
    {
     "data": {
      "text/html": [
       "<div>\n",
       "<style scoped>\n",
       "    .dataframe tbody tr th:only-of-type {\n",
       "        vertical-align: middle;\n",
       "    }\n",
       "\n",
       "    .dataframe tbody tr th {\n",
       "        vertical-align: top;\n",
       "    }\n",
       "\n",
       "    .dataframe thead th {\n",
       "        text-align: right;\n",
       "    }\n",
       "</style>\n",
       "<table border=\"1\" class=\"dataframe\">\n",
       "  <thead>\n",
       "    <tr style=\"text-align: right;\">\n",
       "      <th></th>\n",
       "      <th>type</th>\n",
       "      <th>name</th>\n",
       "      <th>tbl_name</th>\n",
       "      <th>rootpage</th>\n",
       "      <th>sql</th>\n",
       "    </tr>\n",
       "  </thead>\n",
       "  <tbody>\n",
       "    <tr>\n",
       "      <th>0</th>\n",
       "      <td>table</td>\n",
       "      <td>Customers</td>\n",
       "      <td>Customers</td>\n",
       "      <td>2</td>\n",
       "      <td>CREATE TABLE Customers\\n(\\n  cust_id      char...</td>\n",
       "    </tr>\n",
       "    <tr>\n",
       "      <th>1</th>\n",
       "      <td>table</td>\n",
       "      <td>OrderItems</td>\n",
       "      <td>OrderItems</td>\n",
       "      <td>4</td>\n",
       "      <td>CREATE TABLE OrderItems\\n(\\n  order_num  int  ...</td>\n",
       "    </tr>\n",
       "    <tr>\n",
       "      <th>2</th>\n",
       "      <td>table</td>\n",
       "      <td>Orders</td>\n",
       "      <td>Orders</td>\n",
       "      <td>7</td>\n",
       "      <td>CREATE TABLE Orders\\n(\\n  order_num  int      ...</td>\n",
       "    </tr>\n",
       "    <tr>\n",
       "      <th>3</th>\n",
       "      <td>table</td>\n",
       "      <td>Products</td>\n",
       "      <td>Products</td>\n",
       "      <td>10</td>\n",
       "      <td>CREATE TABLE Products\\n(\\n  prod_id    char(10...</td>\n",
       "    </tr>\n",
       "    <tr>\n",
       "      <th>4</th>\n",
       "      <td>table</td>\n",
       "      <td>Vendors</td>\n",
       "      <td>Vendors</td>\n",
       "      <td>12</td>\n",
       "      <td>CREATE TABLE Vendors\\n(\\n  vend_id      char(1...</td>\n",
       "    </tr>\n",
       "  </tbody>\n",
       "</table>\n",
       "</div>"
      ],
      "text/plain": [
       "    type        name    tbl_name  rootpage  \\\n",
       "0  table   Customers   Customers         2   \n",
       "1  table  OrderItems  OrderItems         4   \n",
       "2  table      Orders      Orders         7   \n",
       "3  table    Products    Products        10   \n",
       "4  table     Vendors     Vendors        12   \n",
       "\n",
       "                                                 sql  \n",
       "0  CREATE TABLE Customers\\n(\\n  cust_id      char...  \n",
       "1  CREATE TABLE OrderItems\\n(\\n  order_num  int  ...  \n",
       "2  CREATE TABLE Orders\\n(\\n  order_num  int      ...  \n",
       "3  CREATE TABLE Products\\n(\\n  prod_id    char(10...  \n",
       "4  CREATE TABLE Vendors\\n(\\n  vend_id      char(1...  "
      ]
     },
     "execution_count": 4,
     "metadata": {},
     "output_type": "execute_result"
    }
   ],
   "source": [
    "pd.read_sql('SELECT * FROM sqlite_master WHERE type=\"table\";', db)"
   ]
  },
  {
   "cell_type": "markdown",
   "id": "8aef9b30",
   "metadata": {},
   "source": [
    "Как же получить список уникальных значений?\n",
    "Решение заключается в применении ключевого слова DISTINCT, \n",
    "которое заставляет СУБД вернуть только уникальные значения."
   ]
  },
  {
   "cell_type": "code",
   "execution_count": 5,
   "id": "99ec3272",
   "metadata": {},
   "outputs": [
    {
     "data": {
      "text/html": [
       "<div>\n",
       "<style scoped>\n",
       "    .dataframe tbody tr th:only-of-type {\n",
       "        vertical-align: middle;\n",
       "    }\n",
       "\n",
       "    .dataframe tbody tr th {\n",
       "        vertical-align: top;\n",
       "    }\n",
       "\n",
       "    .dataframe thead th {\n",
       "        text-align: right;\n",
       "    }\n",
       "</style>\n",
       "<table border=\"1\" class=\"dataframe\">\n",
       "  <thead>\n",
       "    <tr style=\"text-align: right;\">\n",
       "      <th></th>\n",
       "      <th>prod_id</th>\n",
       "      <th>vend_id</th>\n",
       "      <th>prod_name</th>\n",
       "      <th>prod_price</th>\n",
       "      <th>prod_desc</th>\n",
       "    </tr>\n",
       "  </thead>\n",
       "  <tbody>\n",
       "    <tr>\n",
       "      <th>0</th>\n",
       "      <td>BR01</td>\n",
       "      <td>BRS01</td>\n",
       "      <td>8 inch teddy bear</td>\n",
       "      <td>5.99</td>\n",
       "      <td>8 inch teddy bear, comes with cap and jacket</td>\n",
       "    </tr>\n",
       "    <tr>\n",
       "      <th>1</th>\n",
       "      <td>BNBG02</td>\n",
       "      <td>DLL01</td>\n",
       "      <td>Bird bean bag toy</td>\n",
       "      <td>3.49</td>\n",
       "      <td>Bird bean bag toy, eggs are not included</td>\n",
       "    </tr>\n",
       "    <tr>\n",
       "      <th>2</th>\n",
       "      <td>BNBG01</td>\n",
       "      <td>DLL01</td>\n",
       "      <td>Fish bean bag toy</td>\n",
       "      <td>3.49</td>\n",
       "      <td>Fish bean bag toy, complete with bean bag worm...</td>\n",
       "    </tr>\n",
       "    <tr>\n",
       "      <th>3</th>\n",
       "      <td>RYL01</td>\n",
       "      <td>FNG01</td>\n",
       "      <td>King doll</td>\n",
       "      <td>9.49</td>\n",
       "      <td>12 inch king doll with royal garments and crown</td>\n",
       "    </tr>\n",
       "    <tr>\n",
       "      <th>4</th>\n",
       "      <td>RYL02</td>\n",
       "      <td>FNG01</td>\n",
       "      <td>Queen doll</td>\n",
       "      <td>9.49</td>\n",
       "      <td>12 inch queen doll with royal garments and crown</td>\n",
       "    </tr>\n",
       "  </tbody>\n",
       "</table>\n",
       "</div>"
      ],
      "text/plain": [
       "  prod_id vend_id          prod_name  prod_price  \\\n",
       "0    BR01   BRS01  8 inch teddy bear        5.99   \n",
       "1  BNBG02   DLL01  Bird bean bag toy        3.49   \n",
       "2  BNBG01   DLL01  Fish bean bag toy        3.49   \n",
       "3   RYL01   FNG01          King doll        9.49   \n",
       "4   RYL02   FNG01         Queen doll        9.49   \n",
       "\n",
       "                                           prod_desc  \n",
       "0       8 inch teddy bear, comes with cap and jacket  \n",
       "1           Bird bean bag toy, eggs are not included  \n",
       "2  Fish bean bag toy, complete with bean bag worm...  \n",
       "3    12 inch king doll with royal garments and crown  \n",
       "4   12 inch queen doll with royal garments and crown  "
      ]
     },
     "execution_count": 5,
     "metadata": {},
     "output_type": "execute_result"
    }
   ],
   "source": [
    "pd.read_sql('SELECT DISTINCT * \\\n",
    "            FROM Products \\\n",
    "            ORDER BY prod_name \\\n",
    "            LIMIT 2,5;', db)"
   ]
  },
  {
   "cell_type": "markdown",
   "id": "73cc2d43",
   "metadata": {},
   "source": [
    "Для извлечения нескольких столбцов из таблицы применяется \n",
    "та же самая инструкция SELECT. Отличие состоит в том, что после \n",
    "ключевого слова SELECT необходимо через запятую указать несколько имен столбцов"
   ]
  },
  {
   "cell_type": "code",
   "execution_count": 6,
   "id": "0ad37cee",
   "metadata": {
    "scrolled": true
   },
   "outputs": [
    {
     "data": {
      "text/html": [
       "<div>\n",
       "<style scoped>\n",
       "    .dataframe tbody tr th:only-of-type {\n",
       "        vertical-align: middle;\n",
       "    }\n",
       "\n",
       "    .dataframe tbody tr th {\n",
       "        vertical-align: top;\n",
       "    }\n",
       "\n",
       "    .dataframe thead th {\n",
       "        text-align: right;\n",
       "    }\n",
       "</style>\n",
       "<table border=\"1\" class=\"dataframe\">\n",
       "  <thead>\n",
       "    <tr style=\"text-align: right;\">\n",
       "      <th></th>\n",
       "      <th>prod_id</th>\n",
       "      <th>prod_price</th>\n",
       "      <th>prod_name</th>\n",
       "    </tr>\n",
       "  </thead>\n",
       "  <tbody>\n",
       "    <tr>\n",
       "      <th>0</th>\n",
       "      <td>BNBG02</td>\n",
       "      <td>3.49</td>\n",
       "      <td>Bird bean bag toy</td>\n",
       "    </tr>\n",
       "    <tr>\n",
       "      <th>1</th>\n",
       "      <td>BNBG01</td>\n",
       "      <td>3.49</td>\n",
       "      <td>Fish bean bag toy</td>\n",
       "    </tr>\n",
       "    <tr>\n",
       "      <th>2</th>\n",
       "      <td>BNBG03</td>\n",
       "      <td>3.49</td>\n",
       "      <td>Rabbit bean bag toy</td>\n",
       "    </tr>\n",
       "    <tr>\n",
       "      <th>3</th>\n",
       "      <td>RGAN01</td>\n",
       "      <td>4.99</td>\n",
       "      <td>Raggedy Ann</td>\n",
       "    </tr>\n",
       "    <tr>\n",
       "      <th>4</th>\n",
       "      <td>BR01</td>\n",
       "      <td>5.99</td>\n",
       "      <td>8 inch teddy bear</td>\n",
       "    </tr>\n",
       "    <tr>\n",
       "      <th>5</th>\n",
       "      <td>BR02</td>\n",
       "      <td>8.99</td>\n",
       "      <td>12 inch teddy bear</td>\n",
       "    </tr>\n",
       "    <tr>\n",
       "      <th>6</th>\n",
       "      <td>RYL01</td>\n",
       "      <td>9.49</td>\n",
       "      <td>King doll</td>\n",
       "    </tr>\n",
       "    <tr>\n",
       "      <th>7</th>\n",
       "      <td>RYL02</td>\n",
       "      <td>9.49</td>\n",
       "      <td>Queen doll</td>\n",
       "    </tr>\n",
       "    <tr>\n",
       "      <th>8</th>\n",
       "      <td>BR03</td>\n",
       "      <td>11.99</td>\n",
       "      <td>18 inch teddy bear</td>\n",
       "    </tr>\n",
       "  </tbody>\n",
       "</table>\n",
       "</div>"
      ],
      "text/plain": [
       "  prod_id  prod_price            prod_name\n",
       "0  BNBG02        3.49    Bird bean bag toy\n",
       "1  BNBG01        3.49    Fish bean bag toy\n",
       "2  BNBG03        3.49  Rabbit bean bag toy\n",
       "3  RGAN01        4.99          Raggedy Ann\n",
       "4    BR01        5.99    8 inch teddy bear\n",
       "5    BR02        8.99   12 inch teddy bear\n",
       "6   RYL01        9.49            King doll\n",
       "7   RYL02        9.49           Queen doll\n",
       "8    BR03       11.99   18 inch teddy bear"
      ]
     },
     "execution_count": 6,
     "metadata": {},
     "output_type": "execute_result"
    }
   ],
   "source": [
    "pd.read_sql('SELECT prod_id, prod_price, prod_name \\\n",
    "            FROM Products \\\n",
    "            ORDER BY prod_price, prod_name;', db)"
   ]
  },
  {
   "cell_type": "markdown",
   "id": "71d91fef",
   "metadata": {},
   "source": [
    "# УРОКЗ\n",
    "# Сортировка полученных данных\n",
    "На этом уроке вы узнаете, как использовать предложение ORDER BY\n",
    "инструкции SELECT для сортировки результатов запроса."
   ]
  },
  {
   "cell_type": "markdown",
   "id": "4c77bd0f",
   "metadata": {},
   "source": [
    "Для сортировки извлекаемых инструкцией SELECT данных предназначено предложение ORDER BY. В нем указывается имя одного \n",
    "или нескольких столбцов, по которым и сортируются результаты запроса."
   ]
  },
  {
   "cell_type": "code",
   "execution_count": 7,
   "id": "3ba3267f",
   "metadata": {},
   "outputs": [
    {
     "data": {
      "text/html": [
       "<div>\n",
       "<style scoped>\n",
       "    .dataframe tbody tr th:only-of-type {\n",
       "        vertical-align: middle;\n",
       "    }\n",
       "\n",
       "    .dataframe tbody tr th {\n",
       "        vertical-align: top;\n",
       "    }\n",
       "\n",
       "    .dataframe thead th {\n",
       "        text-align: right;\n",
       "    }\n",
       "</style>\n",
       "<table border=\"1\" class=\"dataframe\">\n",
       "  <thead>\n",
       "    <tr style=\"text-align: right;\">\n",
       "      <th></th>\n",
       "      <th>prod_id</th>\n",
       "      <th>prod_price</th>\n",
       "      <th>prod_name</th>\n",
       "    </tr>\n",
       "  </thead>\n",
       "  <tbody>\n",
       "    <tr>\n",
       "      <th>0</th>\n",
       "      <td>BNBG02</td>\n",
       "      <td>3.49</td>\n",
       "      <td>Bird bean bag toy</td>\n",
       "    </tr>\n",
       "    <tr>\n",
       "      <th>1</th>\n",
       "      <td>BNBG01</td>\n",
       "      <td>3.49</td>\n",
       "      <td>Fish bean bag toy</td>\n",
       "    </tr>\n",
       "    <tr>\n",
       "      <th>2</th>\n",
       "      <td>BNBG03</td>\n",
       "      <td>3.49</td>\n",
       "      <td>Rabbit bean bag toy</td>\n",
       "    </tr>\n",
       "    <tr>\n",
       "      <th>3</th>\n",
       "      <td>RGAN01</td>\n",
       "      <td>4.99</td>\n",
       "      <td>Raggedy Ann</td>\n",
       "    </tr>\n",
       "    <tr>\n",
       "      <th>4</th>\n",
       "      <td>BR01</td>\n",
       "      <td>5.99</td>\n",
       "      <td>8 inch teddy bear</td>\n",
       "    </tr>\n",
       "    <tr>\n",
       "      <th>5</th>\n",
       "      <td>BR02</td>\n",
       "      <td>8.99</td>\n",
       "      <td>12 inch teddy bear</td>\n",
       "    </tr>\n",
       "    <tr>\n",
       "      <th>6</th>\n",
       "      <td>RYL01</td>\n",
       "      <td>9.49</td>\n",
       "      <td>King doll</td>\n",
       "    </tr>\n",
       "    <tr>\n",
       "      <th>7</th>\n",
       "      <td>RYL02</td>\n",
       "      <td>9.49</td>\n",
       "      <td>Queen doll</td>\n",
       "    </tr>\n",
       "    <tr>\n",
       "      <th>8</th>\n",
       "      <td>BR03</td>\n",
       "      <td>11.99</td>\n",
       "      <td>18 inch teddy bear</td>\n",
       "    </tr>\n",
       "  </tbody>\n",
       "</table>\n",
       "</div>"
      ],
      "text/plain": [
       "  prod_id  prod_price            prod_name\n",
       "0  BNBG02        3.49    Bird bean bag toy\n",
       "1  BNBG01        3.49    Fish bean bag toy\n",
       "2  BNBG03        3.49  Rabbit bean bag toy\n",
       "3  RGAN01        4.99          Raggedy Ann\n",
       "4    BR01        5.99    8 inch teddy bear\n",
       "5    BR02        8.99   12 inch teddy bear\n",
       "6   RYL01        9.49            King doll\n",
       "7   RYL02        9.49           Queen doll\n",
       "8    BR03       11.99   18 inch teddy bear"
      ]
     },
     "execution_count": 7,
     "metadata": {},
     "output_type": "execute_result"
    }
   ],
   "source": [
    "pd.read_sql('SELECT prod_id, prod_price, prod_name FROM Products ORDER BY 2, 3;', db)"
   ]
  },
  {
   "cell_type": "markdown",
   "id": "074edd11",
   "metadata": {},
   "source": [
    "Данные можно сортировать не только по возрастанию (от А до Я). \n",
    "Такой порядок задан по умолчанию, но в предложении ORDER BY \n",
    "можно также указывать порядок по убыванию (от Я до А). Для этого \n",
    "предназначено ключевое слово DESC."
   ]
  },
  {
   "cell_type": "code",
   "execution_count": 8,
   "id": "46d99a5f",
   "metadata": {},
   "outputs": [
    {
     "data": {
      "text/html": [
       "<div>\n",
       "<style scoped>\n",
       "    .dataframe tbody tr th:only-of-type {\n",
       "        vertical-align: middle;\n",
       "    }\n",
       "\n",
       "    .dataframe tbody tr th {\n",
       "        vertical-align: top;\n",
       "    }\n",
       "\n",
       "    .dataframe thead th {\n",
       "        text-align: right;\n",
       "    }\n",
       "</style>\n",
       "<table border=\"1\" class=\"dataframe\">\n",
       "  <thead>\n",
       "    <tr style=\"text-align: right;\">\n",
       "      <th></th>\n",
       "      <th>prod_id</th>\n",
       "      <th>prod_price</th>\n",
       "      <th>prod_name</th>\n",
       "    </tr>\n",
       "  </thead>\n",
       "  <tbody>\n",
       "    <tr>\n",
       "      <th>0</th>\n",
       "      <td>BR03</td>\n",
       "      <td>11.99</td>\n",
       "      <td>18 inch teddy bear</td>\n",
       "    </tr>\n",
       "    <tr>\n",
       "      <th>1</th>\n",
       "      <td>RYL01</td>\n",
       "      <td>9.49</td>\n",
       "      <td>King doll</td>\n",
       "    </tr>\n",
       "    <tr>\n",
       "      <th>2</th>\n",
       "      <td>RYL02</td>\n",
       "      <td>9.49</td>\n",
       "      <td>Queen doll</td>\n",
       "    </tr>\n",
       "    <tr>\n",
       "      <th>3</th>\n",
       "      <td>BR02</td>\n",
       "      <td>8.99</td>\n",
       "      <td>12 inch teddy bear</td>\n",
       "    </tr>\n",
       "    <tr>\n",
       "      <th>4</th>\n",
       "      <td>BR01</td>\n",
       "      <td>5.99</td>\n",
       "      <td>8 inch teddy bear</td>\n",
       "    </tr>\n",
       "    <tr>\n",
       "      <th>5</th>\n",
       "      <td>RGAN01</td>\n",
       "      <td>4.99</td>\n",
       "      <td>Raggedy Ann</td>\n",
       "    </tr>\n",
       "    <tr>\n",
       "      <th>6</th>\n",
       "      <td>BNBG01</td>\n",
       "      <td>3.49</td>\n",
       "      <td>Fish bean bag toy</td>\n",
       "    </tr>\n",
       "    <tr>\n",
       "      <th>7</th>\n",
       "      <td>BNBG02</td>\n",
       "      <td>3.49</td>\n",
       "      <td>Bird bean bag toy</td>\n",
       "    </tr>\n",
       "    <tr>\n",
       "      <th>8</th>\n",
       "      <td>BNBG03</td>\n",
       "      <td>3.49</td>\n",
       "      <td>Rabbit bean bag toy</td>\n",
       "    </tr>\n",
       "  </tbody>\n",
       "</table>\n",
       "</div>"
      ],
      "text/plain": [
       "  prod_id  prod_price            prod_name\n",
       "0    BR03       11.99   18 inch teddy bear\n",
       "1   RYL01        9.49            King doll\n",
       "2   RYL02        9.49           Queen doll\n",
       "3    BR02        8.99   12 inch teddy bear\n",
       "4    BR01        5.99    8 inch teddy bear\n",
       "5  RGAN01        4.99          Raggedy Ann\n",
       "6  BNBG01        3.49    Fish bean bag toy\n",
       "7  BNBG02        3.49    Bird bean bag toy\n",
       "8  BNBG03        3.49  Rabbit bean bag toy"
      ]
     },
     "execution_count": 8,
     "metadata": {},
     "output_type": "execute_result"
    }
   ],
   "source": [
    "pd.read_sql('SELECT prod_id, prod_price, prod_name FROM Products ORDER BY prod_price DESC;', db)"
   ]
  },
  {
   "cell_type": "markdown",
   "id": "10fc88c3",
   "metadata": {},
   "source": [
    "Предложение LIMIT 5 OFFSET 5 заставляет СУБД вернуть \n",
    "пять строк, начиная со строки 5. Первое число — это количество \n",
    "строк для извлечения, а второе — начальная точка. \n",
    "\n",
    "СОВЕТ: краткая форма записи для MySQL, MariaDB и SQLite\n",
    "MySQL, MariaDB и SQLite поддерживают краткую форму предложения l i m i t 3 o f f s e t 4, позволяя записать его как LIMIT 3,4. В данной форме число перед запятой задает количество \n",
    "строк, а после запятой — начальную точку.\n"
   ]
  },
  {
   "cell_type": "code",
   "execution_count": 9,
   "id": "3bc031b0",
   "metadata": {},
   "outputs": [
    {
     "data": {
      "text/html": [
       "<div>\n",
       "<style scoped>\n",
       "    .dataframe tbody tr th:only-of-type {\n",
       "        vertical-align: middle;\n",
       "    }\n",
       "\n",
       "    .dataframe tbody tr th {\n",
       "        vertical-align: top;\n",
       "    }\n",
       "\n",
       "    .dataframe thead th {\n",
       "        text-align: right;\n",
       "    }\n",
       "</style>\n",
       "<table border=\"1\" class=\"dataframe\">\n",
       "  <thead>\n",
       "    <tr style=\"text-align: right;\">\n",
       "      <th></th>\n",
       "      <th>prod_id</th>\n",
       "      <th>prod_price</th>\n",
       "      <th>prod_name</th>\n",
       "    </tr>\n",
       "  </thead>\n",
       "  <tbody>\n",
       "    <tr>\n",
       "      <th>0</th>\n",
       "      <td>BNBG01</td>\n",
       "      <td>3.49</td>\n",
       "      <td>Fish bean bag toy</td>\n",
       "    </tr>\n",
       "    <tr>\n",
       "      <th>1</th>\n",
       "      <td>BNBG03</td>\n",
       "      <td>3.49</td>\n",
       "      <td>Rabbit bean bag toy</td>\n",
       "    </tr>\n",
       "  </tbody>\n",
       "</table>\n",
       "</div>"
      ],
      "text/plain": [
       "  prod_id  prod_price            prod_name\n",
       "0  BNBG01        3.49    Fish bean bag toy\n",
       "1  BNBG03        3.49  Rabbit bean bag toy"
      ]
     },
     "execution_count": 9,
     "metadata": {},
     "output_type": "execute_result"
    }
   ],
   "source": [
    "pd.read_sql('SELECT prod_id, prod_price, prod_name \\\n",
    "            FROM Products WHERE prod_price =3.49 ORDER BY prod_name \\\n",
    "            LIMIT 1,4;', db)"
   ]
  },
  {
   "cell_type": "markdown",
   "id": "fa63f8ed",
   "metadata": {},
   "source": [
    "# УРОК 4\n",
    "# Фильтрация данных\n",
    "На этом уроке вы узнаете, как использовать предложение WHERE\n",
    "инструкции SELECT для задания условий фильтрации строк."
   ]
  },
  {
   "cell_type": "markdown",
   "id": "da009534",
   "metadata": {},
   "source": [
    "В инструкции SELECT данные фильтруются путем указания критерия отбора в предложении WHERE. \n",
    "Это предложение указывается сразу после названия таблицы (в предложении FROM) следующим \n",
    "образом."
   ]
  },
  {
   "cell_type": "code",
   "execution_count": 10,
   "id": "7f2c1405",
   "metadata": {
    "scrolled": true
   },
   "outputs": [
    {
     "data": {
      "text/html": [
       "<div>\n",
       "<style scoped>\n",
       "    .dataframe tbody tr th:only-of-type {\n",
       "        vertical-align: middle;\n",
       "    }\n",
       "\n",
       "    .dataframe tbody tr th {\n",
       "        vertical-align: top;\n",
       "    }\n",
       "\n",
       "    .dataframe thead th {\n",
       "        text-align: right;\n",
       "    }\n",
       "</style>\n",
       "<table border=\"1\" class=\"dataframe\">\n",
       "  <thead>\n",
       "    <tr style=\"text-align: right;\">\n",
       "      <th></th>\n",
       "      <th>prod_id</th>\n",
       "      <th>prod_price</th>\n",
       "      <th>prod_name</th>\n",
       "    </tr>\n",
       "  </thead>\n",
       "  <tbody>\n",
       "    <tr>\n",
       "      <th>0</th>\n",
       "      <td>BR01</td>\n",
       "      <td>5.99</td>\n",
       "      <td>8 inch teddy bear</td>\n",
       "    </tr>\n",
       "    <tr>\n",
       "      <th>1</th>\n",
       "      <td>BR02</td>\n",
       "      <td>8.99</td>\n",
       "      <td>12 inch teddy bear</td>\n",
       "    </tr>\n",
       "    <tr>\n",
       "      <th>2</th>\n",
       "      <td>BR03</td>\n",
       "      <td>11.99</td>\n",
       "      <td>18 inch teddy bear</td>\n",
       "    </tr>\n",
       "    <tr>\n",
       "      <th>3</th>\n",
       "      <td>RYL01</td>\n",
       "      <td>9.49</td>\n",
       "      <td>King doll</td>\n",
       "    </tr>\n",
       "    <tr>\n",
       "      <th>4</th>\n",
       "      <td>RYL02</td>\n",
       "      <td>9.49</td>\n",
       "      <td>Queen doll</td>\n",
       "    </tr>\n",
       "  </tbody>\n",
       "</table>\n",
       "</div>"
      ],
      "text/plain": [
       "  prod_id  prod_price           prod_name\n",
       "0    BR01        5.99   8 inch teddy bear\n",
       "1    BR02        8.99  12 inch teddy bear\n",
       "2    BR03       11.99  18 inch teddy bear\n",
       "3   RYL01        9.49           King doll\n",
       "4   RYL02        9.49          Queen doll"
      ]
     },
     "execution_count": 10,
     "metadata": {},
     "output_type": "execute_result"
    }
   ],
   "source": [
    "pd.read_sql(\"SELECT prod_id, prod_price, prod_name \\\n",
    "            FROM Products WHERE vend_id <> 'DLL01';\", db)"
   ]
  },
  {
   "cell_type": "markdown",
   "id": "5e85723e",
   "metadata": {},
   "source": [
    "ПРЕДУПРЕЖДЕНИЕ: положение предложения w h e r e\n",
    "При использовании обоих предложений, order by и where, убедитесь, что предложение order by следует за предложением where, иначе возникнет ошибка (см. урок 3)"
   ]
  },
  {
   "cell_type": "code",
   "execution_count": 11,
   "id": "a324c6b7",
   "metadata": {},
   "outputs": [
    {
     "data": {
      "text/html": [
       "<div>\n",
       "<style scoped>\n",
       "    .dataframe tbody tr th:only-of-type {\n",
       "        vertical-align: middle;\n",
       "    }\n",
       "\n",
       "    .dataframe tbody tr th {\n",
       "        vertical-align: top;\n",
       "    }\n",
       "\n",
       "    .dataframe thead th {\n",
       "        text-align: right;\n",
       "    }\n",
       "</style>\n",
       "<table border=\"1\" class=\"dataframe\">\n",
       "  <thead>\n",
       "    <tr style=\"text-align: right;\">\n",
       "      <th></th>\n",
       "      <th>prod_id</th>\n",
       "      <th>prod_price</th>\n",
       "      <th>prod_name</th>\n",
       "    </tr>\n",
       "  </thead>\n",
       "  <tbody>\n",
       "    <tr>\n",
       "      <th>0</th>\n",
       "      <td>BR01</td>\n",
       "      <td>5.99</td>\n",
       "      <td>8 inch teddy bear</td>\n",
       "    </tr>\n",
       "    <tr>\n",
       "      <th>1</th>\n",
       "      <td>BR02</td>\n",
       "      <td>8.99</td>\n",
       "      <td>12 inch teddy bear</td>\n",
       "    </tr>\n",
       "    <tr>\n",
       "      <th>2</th>\n",
       "      <td>RYL01</td>\n",
       "      <td>9.49</td>\n",
       "      <td>King doll</td>\n",
       "    </tr>\n",
       "    <tr>\n",
       "      <th>3</th>\n",
       "      <td>RYL02</td>\n",
       "      <td>9.49</td>\n",
       "      <td>Queen doll</td>\n",
       "    </tr>\n",
       "  </tbody>\n",
       "</table>\n",
       "</div>"
      ],
      "text/plain": [
       "  prod_id  prod_price           prod_name\n",
       "0    BR01        5.99   8 inch teddy bear\n",
       "1    BR02        8.99  12 inch teddy bear\n",
       "2   RYL01        9.49           King doll\n",
       "3   RYL02        9.49          Queen doll"
      ]
     },
     "execution_count": 11,
     "metadata": {},
     "output_type": "execute_result"
    }
   ],
   "source": [
    "# Для сравнения с диапазоном значений можно использовать оператор BETWEEN\n",
    "\n",
    "pd.read_sql(\"SELECT prod_id, prod_price, prod_name \\\n",
    "            FROM Products WHERE prod_price BETWEEN 5 AND 10;\", db)"
   ]
  },
  {
   "cell_type": "markdown",
   "id": "c128f725",
   "metadata": {},
   "source": [
    "Чтобы проверить, содержит ли столбец значение NULL, нельзя \n",
    "просто записать = NULL. Для предложения WHERE предусмотрено специальное выражение, которое используется для проверки значений \n",
    "NULL в столбцах: IS NULL."
   ]
  },
  {
   "cell_type": "code",
   "execution_count": 12,
   "id": "aaa1c619",
   "metadata": {},
   "outputs": [
    {
     "data": {
      "text/html": [
       "<div>\n",
       "<style scoped>\n",
       "    .dataframe tbody tr th:only-of-type {\n",
       "        vertical-align: middle;\n",
       "    }\n",
       "\n",
       "    .dataframe tbody tr th {\n",
       "        vertical-align: top;\n",
       "    }\n",
       "\n",
       "    .dataframe thead th {\n",
       "        text-align: right;\n",
       "    }\n",
       "</style>\n",
       "<table border=\"1\" class=\"dataframe\">\n",
       "  <thead>\n",
       "    <tr style=\"text-align: right;\">\n",
       "      <th></th>\n",
       "      <th>cust_id</th>\n",
       "      <th>cust_name</th>\n",
       "      <th>cust_address</th>\n",
       "      <th>cust_city</th>\n",
       "      <th>cust_state</th>\n",
       "      <th>cust_zip</th>\n",
       "      <th>cust_country</th>\n",
       "      <th>cust_contact</th>\n",
       "      <th>cust_email</th>\n",
       "    </tr>\n",
       "  </thead>\n",
       "  <tbody>\n",
       "    <tr>\n",
       "      <th>0</th>\n",
       "      <td>1000000002</td>\n",
       "      <td>Kids Place</td>\n",
       "      <td>333 South Lake Drive</td>\n",
       "      <td>Columbus</td>\n",
       "      <td>OH</td>\n",
       "      <td>43333</td>\n",
       "      <td>USA</td>\n",
       "      <td>Michelle Green</td>\n",
       "      <td>None</td>\n",
       "    </tr>\n",
       "    <tr>\n",
       "      <th>1</th>\n",
       "      <td>1000000005</td>\n",
       "      <td>The Toy Store</td>\n",
       "      <td>4545 53rd Street</td>\n",
       "      <td>Chicago</td>\n",
       "      <td>IL</td>\n",
       "      <td>54545</td>\n",
       "      <td>USA</td>\n",
       "      <td>Kim Howard</td>\n",
       "      <td>None</td>\n",
       "    </tr>\n",
       "    <tr>\n",
       "      <th>2</th>\n",
       "      <td>1000000010</td>\n",
       "      <td>Toys Emporium</td>\n",
       "      <td>None</td>\n",
       "      <td>None</td>\n",
       "      <td>None</td>\n",
       "      <td>None</td>\n",
       "      <td>None</td>\n",
       "      <td>None</td>\n",
       "      <td>None</td>\n",
       "    </tr>\n",
       "  </tbody>\n",
       "</table>\n",
       "</div>"
      ],
      "text/plain": [
       "      cust_id      cust_name          cust_address cust_city cust_state  \\\n",
       "0  1000000002     Kids Place  333 South Lake Drive  Columbus         OH   \n",
       "1  1000000005  The Toy Store      4545 53rd Street   Chicago         IL   \n",
       "2  1000000010  Toys Emporium                  None      None       None   \n",
       "\n",
       "  cust_zip cust_country    cust_contact cust_email  \n",
       "0    43333          USA  Michelle Green       None  \n",
       "1    54545          USA      Kim Howard       None  \n",
       "2     None         None            None       None  "
      ]
     },
     "execution_count": 12,
     "metadata": {},
     "output_type": "execute_result"
    }
   ],
   "source": [
    "pd.read_sql(\"SELECT * \\\n",
    "            FROM Customers WHERE cust_email IS NULL;\", db)"
   ]
  },
  {
   "cell_type": "markdown",
   "id": "6eeb00bb",
   "metadata": {},
   "source": [
    "# УРОК 5\n",
    "# Расширенная фильтрация данных\n",
    "На этом уроке вы узнаете, как комбинировать предложения WHERE\n",
    "для создания сложных условий отбора. Будет также продемонстрировано применение операторов NOT и IN."
   ]
  },
  {
   "cell_type": "code",
   "execution_count": 13,
   "id": "0141773e",
   "metadata": {},
   "outputs": [
    {
     "data": {
      "text/html": [
       "<div>\n",
       "<style scoped>\n",
       "    .dataframe tbody tr th:only-of-type {\n",
       "        vertical-align: middle;\n",
       "    }\n",
       "\n",
       "    .dataframe tbody tr th {\n",
       "        vertical-align: top;\n",
       "    }\n",
       "\n",
       "    .dataframe thead th {\n",
       "        text-align: right;\n",
       "    }\n",
       "</style>\n",
       "<table border=\"1\" class=\"dataframe\">\n",
       "  <thead>\n",
       "    <tr style=\"text-align: right;\">\n",
       "      <th></th>\n",
       "      <th>prod_id</th>\n",
       "      <th>prod_price</th>\n",
       "      <th>prod_name</th>\n",
       "    </tr>\n",
       "  </thead>\n",
       "  <tbody>\n",
       "    <tr>\n",
       "      <th>0</th>\n",
       "      <td>BNBG01</td>\n",
       "      <td>3.49</td>\n",
       "      <td>Fish bean bag toy</td>\n",
       "    </tr>\n",
       "    <tr>\n",
       "      <th>1</th>\n",
       "      <td>BNBG02</td>\n",
       "      <td>3.49</td>\n",
       "      <td>Bird bean bag toy</td>\n",
       "    </tr>\n",
       "    <tr>\n",
       "      <th>2</th>\n",
       "      <td>BNBG03</td>\n",
       "      <td>3.49</td>\n",
       "      <td>Rabbit bean bag toy</td>\n",
       "    </tr>\n",
       "  </tbody>\n",
       "</table>\n",
       "</div>"
      ],
      "text/plain": [
       "  prod_id  prod_price            prod_name\n",
       "0  BNBG01        3.49    Fish bean bag toy\n",
       "1  BNBG02        3.49    Bird bean bag toy\n",
       "2  BNBG03        3.49  Rabbit bean bag toy"
      ]
     },
     "execution_count": 13,
     "metadata": {},
     "output_type": "execute_result"
    }
   ],
   "source": [
    "# Чтобы отфильтровать данные по нескольким столбцам, \n",
    "# необходимо воспользоваться оператором AND для добавления \n",
    "# условий в предложение WHERE. Вот как это делается.\n",
    "\n",
    "pd.read_sql(\"SELECT prod_id, prod_price, prod_name \\\n",
    "            FROM Products \\\n",
    "            WHERE vend_id = 'DLL01' AND prod_price <=4;\", db)"
   ]
  },
  {
   "cell_type": "markdown",
   "id": "c90e860a",
   "metadata": {},
   "source": [
    "Действие оператора OR противоположно действию оператора \n",
    "AND. Он заставляет СУБД извлекать только те строки, которые удовлетворяют хотя бы одному условию"
   ]
  },
  {
   "cell_type": "code",
   "execution_count": 14,
   "id": "fe84fc72",
   "metadata": {},
   "outputs": [
    {
     "data": {
      "text/html": [
       "<div>\n",
       "<style scoped>\n",
       "    .dataframe tbody tr th:only-of-type {\n",
       "        vertical-align: middle;\n",
       "    }\n",
       "\n",
       "    .dataframe tbody tr th {\n",
       "        vertical-align: top;\n",
       "    }\n",
       "\n",
       "    .dataframe thead th {\n",
       "        text-align: right;\n",
       "    }\n",
       "</style>\n",
       "<table border=\"1\" class=\"dataframe\">\n",
       "  <thead>\n",
       "    <tr style=\"text-align: right;\">\n",
       "      <th></th>\n",
       "      <th>prod_id</th>\n",
       "      <th>prod_price</th>\n",
       "      <th>prod_name</th>\n",
       "    </tr>\n",
       "  </thead>\n",
       "  <tbody>\n",
       "    <tr>\n",
       "      <th>0</th>\n",
       "      <td>BR03</td>\n",
       "      <td>11.99</td>\n",
       "      <td>18 inch teddy bear</td>\n",
       "    </tr>\n",
       "  </tbody>\n",
       "</table>\n",
       "</div>"
      ],
      "text/plain": [
       "  prod_id  prod_price           prod_name\n",
       "0    BR03       11.99  18 inch teddy bear"
      ]
     },
     "execution_count": 14,
     "metadata": {},
     "output_type": "execute_result"
    }
   ],
   "source": [
    "pd.read_sql(\"SELECT prod_id, prod_price, prod_name \\\n",
    "            FROM Products \\\n",
    "            WHERE (vend_id = 'DLL01' OR vend_id = 'BRS01')\\\n",
    "            AND prod_price >= 10;\", db)"
   ]
  },
  {
   "cell_type": "code",
   "execution_count": 15,
   "id": "4511a753",
   "metadata": {},
   "outputs": [
    {
     "data": {
      "text/html": [
       "<div>\n",
       "<style scoped>\n",
       "    .dataframe tbody tr th:only-of-type {\n",
       "        vertical-align: middle;\n",
       "    }\n",
       "\n",
       "    .dataframe tbody tr th {\n",
       "        vertical-align: top;\n",
       "    }\n",
       "\n",
       "    .dataframe thead th {\n",
       "        text-align: right;\n",
       "    }\n",
       "</style>\n",
       "<table border=\"1\" class=\"dataframe\">\n",
       "  <thead>\n",
       "    <tr style=\"text-align: right;\">\n",
       "      <th></th>\n",
       "      <th>prod_id</th>\n",
       "      <th>prod_price</th>\n",
       "      <th>prod_name</th>\n",
       "      <th>vend_id</th>\n",
       "    </tr>\n",
       "  </thead>\n",
       "  <tbody>\n",
       "    <tr>\n",
       "      <th>0</th>\n",
       "      <td>BR02</td>\n",
       "      <td>8.99</td>\n",
       "      <td>12 inch teddy bear</td>\n",
       "      <td>BRS01</td>\n",
       "    </tr>\n",
       "    <tr>\n",
       "      <th>1</th>\n",
       "      <td>BR03</td>\n",
       "      <td>11.99</td>\n",
       "      <td>18 inch teddy bear</td>\n",
       "      <td>BRS01</td>\n",
       "    </tr>\n",
       "    <tr>\n",
       "      <th>2</th>\n",
       "      <td>BR01</td>\n",
       "      <td>5.99</td>\n",
       "      <td>8 inch teddy bear</td>\n",
       "      <td>BRS01</td>\n",
       "    </tr>\n",
       "    <tr>\n",
       "      <th>3</th>\n",
       "      <td>BNBG02</td>\n",
       "      <td>3.49</td>\n",
       "      <td>Bird bean bag toy</td>\n",
       "      <td>DLL01</td>\n",
       "    </tr>\n",
       "    <tr>\n",
       "      <th>4</th>\n",
       "      <td>BNBG01</td>\n",
       "      <td>3.49</td>\n",
       "      <td>Fish bean bag toy</td>\n",
       "      <td>DLL01</td>\n",
       "    </tr>\n",
       "    <tr>\n",
       "      <th>5</th>\n",
       "      <td>BNBG03</td>\n",
       "      <td>3.49</td>\n",
       "      <td>Rabbit bean bag toy</td>\n",
       "      <td>DLL01</td>\n",
       "    </tr>\n",
       "    <tr>\n",
       "      <th>6</th>\n",
       "      <td>RGAN01</td>\n",
       "      <td>4.99</td>\n",
       "      <td>Raggedy Ann</td>\n",
       "      <td>DLL01</td>\n",
       "    </tr>\n",
       "  </tbody>\n",
       "</table>\n",
       "</div>"
      ],
      "text/plain": [
       "  prod_id  prod_price            prod_name vend_id\n",
       "0    BR02        8.99   12 inch teddy bear   BRS01\n",
       "1    BR03       11.99   18 inch teddy bear   BRS01\n",
       "2    BR01        5.99    8 inch teddy bear   BRS01\n",
       "3  BNBG02        3.49    Bird bean bag toy   DLL01\n",
       "4  BNBG01        3.49    Fish bean bag toy   DLL01\n",
       "5  BNBG03        3.49  Rabbit bean bag toy   DLL01\n",
       "6  RGAN01        4.99          Raggedy Ann   DLL01"
      ]
     },
     "execution_count": 15,
     "metadata": {},
     "output_type": "execute_result"
    }
   ],
   "source": [
    "# Оператор In служит для указания диапазона условий, \n",
    "# любое из которых может быть выполнено. \n",
    "# При этом значения, заключенные в скобки, \n",
    "# перечисляются через запятую. Рассмотрим следующий пример.\n",
    "pd.read_sql(\"SELECT prod_id, prod_price, prod_name, vend_id \\\n",
    "            FROM Products \\\n",
    "            WHERE vend_id IN ('DLL01', 'BRS01')\\\n",
    "            AND prod_price >= 1 ORDER BY prod_name;\", db)"
   ]
  },
  {
   "cell_type": "code",
   "execution_count": 16,
   "id": "7cf50255",
   "metadata": {},
   "outputs": [
    {
     "data": {
      "text/html": [
       "<div>\n",
       "<style scoped>\n",
       "    .dataframe tbody tr th:only-of-type {\n",
       "        vertical-align: middle;\n",
       "    }\n",
       "\n",
       "    .dataframe tbody tr th {\n",
       "        vertical-align: top;\n",
       "    }\n",
       "\n",
       "    .dataframe thead th {\n",
       "        text-align: right;\n",
       "    }\n",
       "</style>\n",
       "<table border=\"1\" class=\"dataframe\">\n",
       "  <thead>\n",
       "    <tr style=\"text-align: right;\">\n",
       "      <th></th>\n",
       "      <th>prod_id</th>\n",
       "      <th>prod_price</th>\n",
       "      <th>prod_name</th>\n",
       "      <th>vend_id</th>\n",
       "    </tr>\n",
       "  </thead>\n",
       "  <tbody>\n",
       "    <tr>\n",
       "      <th>0</th>\n",
       "      <td>BR02</td>\n",
       "      <td>8.99</td>\n",
       "      <td>12 inch teddy bear</td>\n",
       "      <td>BRS01</td>\n",
       "    </tr>\n",
       "    <tr>\n",
       "      <th>1</th>\n",
       "      <td>BR03</td>\n",
       "      <td>11.99</td>\n",
       "      <td>18 inch teddy bear</td>\n",
       "      <td>BRS01</td>\n",
       "    </tr>\n",
       "    <tr>\n",
       "      <th>2</th>\n",
       "      <td>BR01</td>\n",
       "      <td>5.99</td>\n",
       "      <td>8 inch teddy bear</td>\n",
       "      <td>BRS01</td>\n",
       "    </tr>\n",
       "    <tr>\n",
       "      <th>3</th>\n",
       "      <td>RYL01</td>\n",
       "      <td>9.49</td>\n",
       "      <td>King doll</td>\n",
       "      <td>FNG01</td>\n",
       "    </tr>\n",
       "    <tr>\n",
       "      <th>4</th>\n",
       "      <td>RYL02</td>\n",
       "      <td>9.49</td>\n",
       "      <td>Queen doll</td>\n",
       "      <td>FNG01</td>\n",
       "    </tr>\n",
       "  </tbody>\n",
       "</table>\n",
       "</div>"
      ],
      "text/plain": [
       "  prod_id  prod_price           prod_name vend_id\n",
       "0    BR02        8.99  12 inch teddy bear   BRS01\n",
       "1    BR03       11.99  18 inch teddy bear   BRS01\n",
       "2    BR01        5.99   8 inch teddy bear   BRS01\n",
       "3   RYL01        9.49           King doll   FNG01\n",
       "4   RYL02        9.49          Queen doll   FNG01"
      ]
     },
     "execution_count": 16,
     "metadata": {},
     "output_type": "execute_result"
    }
   ],
   "source": [
    "# В следующем примере демонстрируется применение логического оператора NOT. \n",
    "# Здесь извлекается список товаров, предлагаемых всеми поставщиками, кроме DLL01.\n",
    "pd.read_sql(\"SELECT prod_id, prod_price, prod_name, vend_id \\\n",
    "            FROM Products \\\n",
    "            WHERE NOT vend_id ='DLL01'\\\n",
    "            ORDER BY prod_name;\", db)\n"
   ]
  },
  {
   "cell_type": "code",
   "execution_count": 17,
   "id": "b123158e",
   "metadata": {},
   "outputs": [
    {
     "data": {
      "text/html": [
       "<div>\n",
       "<style scoped>\n",
       "    .dataframe tbody tr th:only-of-type {\n",
       "        vertical-align: middle;\n",
       "    }\n",
       "\n",
       "    .dataframe tbody tr th {\n",
       "        vertical-align: top;\n",
       "    }\n",
       "\n",
       "    .dataframe thead th {\n",
       "        text-align: right;\n",
       "    }\n",
       "</style>\n",
       "<table border=\"1\" class=\"dataframe\">\n",
       "  <thead>\n",
       "    <tr style=\"text-align: right;\">\n",
       "      <th></th>\n",
       "      <th>prod_id</th>\n",
       "      <th>prod_price</th>\n",
       "      <th>prod_name</th>\n",
       "      <th>vend_id</th>\n",
       "    </tr>\n",
       "  </thead>\n",
       "  <tbody>\n",
       "    <tr>\n",
       "      <th>0</th>\n",
       "      <td>BR02</td>\n",
       "      <td>8.99</td>\n",
       "      <td>12 inch teddy bear</td>\n",
       "      <td>BRS01</td>\n",
       "    </tr>\n",
       "    <tr>\n",
       "      <th>1</th>\n",
       "      <td>BR03</td>\n",
       "      <td>11.99</td>\n",
       "      <td>18 inch teddy bear</td>\n",
       "      <td>BRS01</td>\n",
       "    </tr>\n",
       "    <tr>\n",
       "      <th>2</th>\n",
       "      <td>BR01</td>\n",
       "      <td>5.99</td>\n",
       "      <td>8 inch teddy bear</td>\n",
       "      <td>BRS01</td>\n",
       "    </tr>\n",
       "    <tr>\n",
       "      <th>3</th>\n",
       "      <td>RYL01</td>\n",
       "      <td>9.49</td>\n",
       "      <td>King doll</td>\n",
       "      <td>FNG01</td>\n",
       "    </tr>\n",
       "    <tr>\n",
       "      <th>4</th>\n",
       "      <td>RYL02</td>\n",
       "      <td>9.49</td>\n",
       "      <td>Queen doll</td>\n",
       "      <td>FNG01</td>\n",
       "    </tr>\n",
       "  </tbody>\n",
       "</table>\n",
       "</div>"
      ],
      "text/plain": [
       "  prod_id  prod_price           prod_name vend_id\n",
       "0    BR02        8.99  12 inch teddy bear   BRS01\n",
       "1    BR03       11.99  18 inch teddy bear   BRS01\n",
       "2    BR01        5.99   8 inch teddy bear   BRS01\n",
       "3   RYL01        9.49           King doll   FNG01\n",
       "4   RYL02        9.49          Queen doll   FNG01"
      ]
     },
     "execution_count": 17,
     "metadata": {},
     "output_type": "execute_result"
    }
   ],
   "source": [
    "# Предыдущий запрос можно было бы записать при помощи оператора <>.\n",
    "pd.read_sql(\"SELECT prod_id, prod_price, prod_name, vend_id \\\n",
    "            FROM Products \\\n",
    "            WHERE vend_id <> 'DLL01'\\\n",
    "            ORDER BY prod_name;\", db)"
   ]
  },
  {
   "cell_type": "markdown",
   "id": "d58e096e",
   "metadata": {},
   "source": [
    "# УРОН 6\n",
    "# Фильтрация с использованием метасимволов\n",
    "На этом уроке вы узнаете, что такое метасимволы, как их использовать и выполнять поиск с применением метасимволов и логического оператора LIKE для фильтрации извлекаемых данных"
   ]
  },
  {
   "cell_type": "code",
   "execution_count": 18,
   "id": "6ff6bcf7",
   "metadata": {},
   "outputs": [
    {
     "data": {
      "text/html": [
       "<div>\n",
       "<style scoped>\n",
       "    .dataframe tbody tr th:only-of-type {\n",
       "        vertical-align: middle;\n",
       "    }\n",
       "\n",
       "    .dataframe tbody tr th {\n",
       "        vertical-align: top;\n",
       "    }\n",
       "\n",
       "    .dataframe thead th {\n",
       "        text-align: right;\n",
       "    }\n",
       "</style>\n",
       "<table border=\"1\" class=\"dataframe\">\n",
       "  <thead>\n",
       "    <tr style=\"text-align: right;\">\n",
       "      <th></th>\n",
       "      <th>prod_id</th>\n",
       "      <th>prod_price</th>\n",
       "      <th>prod_name</th>\n",
       "      <th>vend_id</th>\n",
       "    </tr>\n",
       "  </thead>\n",
       "  <tbody>\n",
       "    <tr>\n",
       "      <th>0</th>\n",
       "      <td>BNBG01</td>\n",
       "      <td>3.49</td>\n",
       "      <td>Fish bean bag toy</td>\n",
       "      <td>DLL01</td>\n",
       "    </tr>\n",
       "  </tbody>\n",
       "</table>\n",
       "</div>"
      ],
      "text/plain": [
       "  prod_id  prod_price          prod_name vend_id\n",
       "0  BNBG01        3.49  Fish bean bag toy   DLL01"
      ]
     },
     "execution_count": 18,
     "metadata": {},
     "output_type": "execute_result"
    }
   ],
   "source": [
    "# В шаблоне поиска знак % означает найти \n",
    "# все вхождения любого символа. Например, \n",
    "# чтобы найти все товары, названия которых \n",
    "# начинаются со слова Fish, можно выполнить следующий запрос.\n",
    "\n",
    "pd.read_sql(\"SELECT prod_id, prod_price, prod_name, vend_id \\\n",
    "            FROM Products \\\n",
    "            WHERE prod_name LIKE 'Fish%'\\\n",
    "            ORDER BY prod_name;\", db)"
   ]
  },
  {
   "cell_type": "code",
   "execution_count": 19,
   "id": "e878f50b",
   "metadata": {},
   "outputs": [
    {
     "data": {
      "text/html": [
       "<div>\n",
       "<style scoped>\n",
       "    .dataframe tbody tr th:only-of-type {\n",
       "        vertical-align: middle;\n",
       "    }\n",
       "\n",
       "    .dataframe tbody tr th {\n",
       "        vertical-align: top;\n",
       "    }\n",
       "\n",
       "    .dataframe thead th {\n",
       "        text-align: right;\n",
       "    }\n",
       "</style>\n",
       "<table border=\"1\" class=\"dataframe\">\n",
       "  <thead>\n",
       "    <tr style=\"text-align: right;\">\n",
       "      <th></th>\n",
       "      <th>prod_id</th>\n",
       "      <th>prod_price</th>\n",
       "      <th>prod_name</th>\n",
       "      <th>vend_id</th>\n",
       "    </tr>\n",
       "  </thead>\n",
       "  <tbody>\n",
       "    <tr>\n",
       "      <th>0</th>\n",
       "      <td>BR02</td>\n",
       "      <td>8.99</td>\n",
       "      <td>12 inch teddy bear</td>\n",
       "      <td>BRS01</td>\n",
       "    </tr>\n",
       "    <tr>\n",
       "      <th>1</th>\n",
       "      <td>BR03</td>\n",
       "      <td>11.99</td>\n",
       "      <td>18 inch teddy bear</td>\n",
       "      <td>BRS01</td>\n",
       "    </tr>\n",
       "  </tbody>\n",
       "</table>\n",
       "</div>"
      ],
      "text/plain": [
       "  prod_id  prod_price           prod_name vend_id\n",
       "0    BR02        8.99  12 inch teddy bear   BRS01\n",
       "1    BR03       11.99  18 inch teddy bear   BRS01"
      ]
     },
     "execution_count": 19,
     "metadata": {},
     "output_type": "execute_result"
    }
   ],
   "source": [
    "# Еще одним полезным метасимволом является \n",
    "# знак подчеркивания (_). Он используется \n",
    "# так же, как и знак %, но при этом учитывается \n",
    "# не множество символов, а только один.\n",
    "\n",
    "pd.read_sql(\"SELECT prod_id, prod_price, prod_name, vend_id \\\n",
    "            FROM Products \\\n",
    "            WHERE prod_name LIKE '__ inch teddy bear%'\\\n",
    "            ORDER BY prod_name;\", db)"
   ]
  },
  {
   "cell_type": "code",
   "execution_count": 20,
   "id": "8b64ba1f",
   "metadata": {},
   "outputs": [
    {
     "data": {
      "text/html": [
       "<div>\n",
       "<style scoped>\n",
       "    .dataframe tbody tr th:only-of-type {\n",
       "        vertical-align: middle;\n",
       "    }\n",
       "\n",
       "    .dataframe tbody tr th {\n",
       "        vertical-align: top;\n",
       "    }\n",
       "\n",
       "    .dataframe thead th {\n",
       "        text-align: right;\n",
       "    }\n",
       "</style>\n",
       "<table border=\"1\" class=\"dataframe\">\n",
       "  <thead>\n",
       "    <tr style=\"text-align: right;\">\n",
       "      <th></th>\n",
       "      <th>cust_contact</th>\n",
       "    </tr>\n",
       "  </thead>\n",
       "  <tbody>\n",
       "    <tr>\n",
       "      <th>0</th>\n",
       "      <td>Jim Jones</td>\n",
       "    </tr>\n",
       "    <tr>\n",
       "      <th>1</th>\n",
       "      <td>John Smith</td>\n",
       "    </tr>\n",
       "    <tr>\n",
       "      <th>2</th>\n",
       "      <td>Michelle Green</td>\n",
       "    </tr>\n",
       "  </tbody>\n",
       "</table>\n",
       "</div>"
      ],
      "text/plain": [
       "     cust_contact\n",
       "0       Jim Jones\n",
       "1      John Smith\n",
       "2  Michelle Green"
      ]
     },
     "execution_count": 20,
     "metadata": {},
     "output_type": "execute_result"
    }
   ],
   "source": [
    "# Например, чтобы найти всех клиентов, \n",
    "# имена которых начинаются на букву J или М, \n",
    "# необходимо выполнить следующий запрос.\n",
    "\n",
    "pd.read_sql(\"SELECT cust_contact FROM Customers\\\n",
    "            WHERE cust_contact LIKE 'J%' or cust_contact LIKE 'M%'\\\n",
    "            ORDER BY cust_contact;\", db)"
   ]
  },
  {
   "cell_type": "markdown",
   "id": "df50ce44",
   "metadata": {},
   "source": [
    "# УРОК 7\n",
    "# Создание вычисляемых полей\n",
    "На этом уроке вы узнаете, что такое вычисляемые поля, как их создавать и как применять псевдонимы для ссылки на такие поля из\n",
    "приложений."
   ]
  },
  {
   "cell_type": "code",
   "execution_count": 21,
   "id": "00e804dc",
   "metadata": {},
   "outputs": [
    {
     "data": {
      "text/html": [
       "<div>\n",
       "<style scoped>\n",
       "    .dataframe tbody tr th:only-of-type {\n",
       "        vertical-align: middle;\n",
       "    }\n",
       "\n",
       "    .dataframe tbody tr th {\n",
       "        vertical-align: top;\n",
       "    }\n",
       "\n",
       "    .dataframe thead th {\n",
       "        text-align: right;\n",
       "    }\n",
       "</style>\n",
       "<table border=\"1\" class=\"dataframe\">\n",
       "  <thead>\n",
       "    <tr style=\"text-align: right;\">\n",
       "      <th></th>\n",
       "      <th>vend_name || ' (' || vend_country || ') '</th>\n",
       "    </tr>\n",
       "  </thead>\n",
       "  <tbody>\n",
       "    <tr>\n",
       "      <th>0</th>\n",
       "      <td>Bear Emporium (USA)</td>\n",
       "    </tr>\n",
       "    <tr>\n",
       "      <th>1</th>\n",
       "      <td>Bears R Us (USA)</td>\n",
       "    </tr>\n",
       "    <tr>\n",
       "      <th>2</th>\n",
       "      <td>Doll House Inc. (USA)</td>\n",
       "    </tr>\n",
       "    <tr>\n",
       "      <th>3</th>\n",
       "      <td>Fun and Games (England)</td>\n",
       "    </tr>\n",
       "    <tr>\n",
       "      <th>4</th>\n",
       "      <td>Furball Inc. (USA)</td>\n",
       "    </tr>\n",
       "    <tr>\n",
       "      <th>5</th>\n",
       "      <td>Jouets et ours (France)</td>\n",
       "    </tr>\n",
       "  </tbody>\n",
       "</table>\n",
       "</div>"
      ],
      "text/plain": [
       "  vend_name || ' (' || vend_country || ') '\n",
       "0                      Bear Emporium (USA) \n",
       "1                         Bears R Us (USA) \n",
       "2                    Doll House Inc. (USA) \n",
       "3                  Fun and Games (England) \n",
       "4                       Furball Inc. (USA) \n",
       "5                  Jouets et ours (France) "
      ]
     },
     "execution_count": 21,
     "metadata": {},
     "output_type": "execute_result"
    }
   ],
   "source": [
    "# В инструкции SELECT можно выполнить конкатенацию \n",
    "# двух столбцов при помощи специального оператора. \n",
    "# В зависимости от СУБД это может быть знак “плюс” (+) \n",
    "# или две вертикальные черточки (| |). В случае MySQL \n",
    "# и MariaDB придется использовать специальную функцию.\n",
    "\n",
    "pd.read_sql(\"SELECT vend_name || ' (' || vend_country || ') '\\\n",
    "            FROM Vendors\\\n",
    "            ORDER BY vend_name;\", db)"
   ]
  },
  {
   "cell_type": "code",
   "execution_count": 22,
   "id": "da9fc818",
   "metadata": {},
   "outputs": [
    {
     "data": {
      "text/html": [
       "<div>\n",
       "<style scoped>\n",
       "    .dataframe tbody tr th:only-of-type {\n",
       "        vertical-align: middle;\n",
       "    }\n",
       "\n",
       "    .dataframe tbody tr th {\n",
       "        vertical-align: top;\n",
       "    }\n",
       "\n",
       "    .dataframe thead th {\n",
       "        text-align: right;\n",
       "    }\n",
       "</style>\n",
       "<table border=\"1\" class=\"dataframe\">\n",
       "  <thead>\n",
       "    <tr style=\"text-align: right;\">\n",
       "      <th></th>\n",
       "      <th>TRIM(vend_name) || ' (' || TRIM(vend_country) || ')'</th>\n",
       "    </tr>\n",
       "  </thead>\n",
       "  <tbody>\n",
       "    <tr>\n",
       "      <th>0</th>\n",
       "      <td>Bear Emporium (USA)</td>\n",
       "    </tr>\n",
       "    <tr>\n",
       "      <th>1</th>\n",
       "      <td>Bears R Us (USA)</td>\n",
       "    </tr>\n",
       "    <tr>\n",
       "      <th>2</th>\n",
       "      <td>Doll House Inc. (USA)</td>\n",
       "    </tr>\n",
       "    <tr>\n",
       "      <th>3</th>\n",
       "      <td>Fun and Games (England)</td>\n",
       "    </tr>\n",
       "    <tr>\n",
       "      <th>4</th>\n",
       "      <td>Furball Inc. (USA)</td>\n",
       "    </tr>\n",
       "    <tr>\n",
       "      <th>5</th>\n",
       "      <td>Jouets et ours (France)</td>\n",
       "    </tr>\n",
       "  </tbody>\n",
       "</table>\n",
       "</div>"
      ],
      "text/plain": [
       "  TRIM(vend_name) || ' (' || TRIM(vend_country) || ')'\n",
       "0                                Bear Emporium (USA)  \n",
       "1                                   Bears R Us (USA)  \n",
       "2                              Doll House Inc. (USA)  \n",
       "3                            Fun and Games (England)  \n",
       "4                                 Furball Inc. (USA)  \n",
       "5                            Jouets et ours (France)  "
      ]
     },
     "execution_count": 22,
     "metadata": {},
     "output_type": "execute_result"
    }
   ],
   "source": [
    "# необходимо убрать лишние пробелы. \n",
    "# Это можно сделать с помощью SQL-функции RTRIM ().\n",
    "\n",
    "pd.read_sql(\"SELECT TRIM(vend_name) || ' (' || TRIM(vend_country) || ')'\\\n",
    "            FROM Vendors\\\n",
    "            ORDER BY vend_name;\", db)"
   ]
  },
  {
   "cell_type": "code",
   "execution_count": 23,
   "id": "fe31fdee",
   "metadata": {},
   "outputs": [
    {
     "data": {
      "text/html": [
       "<div>\n",
       "<style scoped>\n",
       "    .dataframe tbody tr th:only-of-type {\n",
       "        vertical-align: middle;\n",
       "    }\n",
       "\n",
       "    .dataframe tbody tr th {\n",
       "        vertical-align: top;\n",
       "    }\n",
       "\n",
       "    .dataframe thead th {\n",
       "        text-align: right;\n",
       "    }\n",
       "</style>\n",
       "<table border=\"1\" class=\"dataframe\">\n",
       "  <thead>\n",
       "    <tr style=\"text-align: right;\">\n",
       "      <th></th>\n",
       "      <th>vend_title</th>\n",
       "    </tr>\n",
       "  </thead>\n",
       "  <tbody>\n",
       "    <tr>\n",
       "      <th>0</th>\n",
       "      <td>Bear Emporium (USA)</td>\n",
       "    </tr>\n",
       "    <tr>\n",
       "      <th>1</th>\n",
       "      <td>Bears R Us (USA)</td>\n",
       "    </tr>\n",
       "    <tr>\n",
       "      <th>2</th>\n",
       "      <td>Doll House Inc. (USA)</td>\n",
       "    </tr>\n",
       "    <tr>\n",
       "      <th>3</th>\n",
       "      <td>Fun and Games (England)</td>\n",
       "    </tr>\n",
       "    <tr>\n",
       "      <th>4</th>\n",
       "      <td>Furball Inc. (USA)</td>\n",
       "    </tr>\n",
       "    <tr>\n",
       "      <th>5</th>\n",
       "      <td>Jouets et ours (France)</td>\n",
       "    </tr>\n",
       "  </tbody>\n",
       "</table>\n",
       "</div>"
      ],
      "text/plain": [
       "                vend_title\n",
       "0      Bear Emporium (USA)\n",
       "1         Bears R Us (USA)\n",
       "2    Doll House Inc. (USA)\n",
       "3  Fun and Games (England)\n",
       "4       Furball Inc. (USA)\n",
       "5  Jouets et ours (France)"
      ]
     },
     "execution_count": 23,
     "metadata": {},
     "output_type": "execute_result"
    }
   ],
   "source": [
    "# Псевдоним — это альтернативное имя для поля или значения. \n",
    "# Псевдонимы присваиваются с помощью ключевого слова AS.\n",
    "\n",
    "pd.read_sql(\"SELECT TRIM(vend_name) || ' (' || TRIM(vend_country) || ')' AS vend_title\\\n",
    "            FROM Vendors\\\n",
    "            ORDER BY vend_name;\", db)"
   ]
  },
  {
   "cell_type": "code",
   "execution_count": 24,
   "id": "a615c8b2",
   "metadata": {
    "scrolled": false
   },
   "outputs": [
    {
     "data": {
      "text/html": [
       "<div>\n",
       "<style scoped>\n",
       "    .dataframe tbody tr th:only-of-type {\n",
       "        vertical-align: middle;\n",
       "    }\n",
       "\n",
       "    .dataframe tbody tr th {\n",
       "        vertical-align: top;\n",
       "    }\n",
       "\n",
       "    .dataframe thead th {\n",
       "        text-align: right;\n",
       "    }\n",
       "</style>\n",
       "<table border=\"1\" class=\"dataframe\">\n",
       "  <thead>\n",
       "    <tr style=\"text-align: right;\">\n",
       "      <th></th>\n",
       "      <th>vend_id</th>\n",
       "      <th>vend_name</th>\n",
       "      <th>vend_address</th>\n",
       "      <th>vend_city</th>\n",
       "      <th>vend_state</th>\n",
       "      <th>vend_zip</th>\n",
       "      <th>vend_country</th>\n",
       "    </tr>\n",
       "  </thead>\n",
       "  <tbody>\n",
       "    <tr>\n",
       "      <th>0</th>\n",
       "      <td>BRE02</td>\n",
       "      <td>Bear Emporium</td>\n",
       "      <td>500 Park Street</td>\n",
       "      <td>Anytown</td>\n",
       "      <td>OH</td>\n",
       "      <td>44333</td>\n",
       "      <td>USA</td>\n",
       "    </tr>\n",
       "    <tr>\n",
       "      <th>1</th>\n",
       "      <td>BRS01</td>\n",
       "      <td>Bears R Us</td>\n",
       "      <td>123 Main Street</td>\n",
       "      <td>Bear Town</td>\n",
       "      <td>MI</td>\n",
       "      <td>44444</td>\n",
       "      <td>USA</td>\n",
       "    </tr>\n",
       "    <tr>\n",
       "      <th>2</th>\n",
       "      <td>DLL01</td>\n",
       "      <td>Doll House Inc.</td>\n",
       "      <td>555 High Street</td>\n",
       "      <td>Dollsville</td>\n",
       "      <td>CA</td>\n",
       "      <td>99999</td>\n",
       "      <td>USA</td>\n",
       "    </tr>\n",
       "    <tr>\n",
       "      <th>3</th>\n",
       "      <td>FNG01</td>\n",
       "      <td>Fun and Games</td>\n",
       "      <td>42 Galaxy Road</td>\n",
       "      <td>London</td>\n",
       "      <td>None</td>\n",
       "      <td>N16 6PS</td>\n",
       "      <td>England</td>\n",
       "    </tr>\n",
       "    <tr>\n",
       "      <th>4</th>\n",
       "      <td>FRB01</td>\n",
       "      <td>Furball Inc.</td>\n",
       "      <td>1000 5th Avenue</td>\n",
       "      <td>New York</td>\n",
       "      <td>NY</td>\n",
       "      <td>11111</td>\n",
       "      <td>USA</td>\n",
       "    </tr>\n",
       "    <tr>\n",
       "      <th>5</th>\n",
       "      <td>JTS01</td>\n",
       "      <td>Jouets et ours</td>\n",
       "      <td>1 Rue Amusement</td>\n",
       "      <td>Paris</td>\n",
       "      <td>None</td>\n",
       "      <td>45678</td>\n",
       "      <td>France</td>\n",
       "    </tr>\n",
       "  </tbody>\n",
       "</table>\n",
       "</div>"
      ],
      "text/plain": [
       "  vend_id        vend_name     vend_address   vend_city vend_state vend_zip  \\\n",
       "0   BRE02    Bear Emporium  500 Park Street     Anytown         OH    44333   \n",
       "1   BRS01       Bears R Us  123 Main Street   Bear Town         MI    44444   \n",
       "2   DLL01  Doll House Inc.  555 High Street  Dollsville         CA    99999   \n",
       "3   FNG01    Fun and Games   42 Galaxy Road      London       None  N16 6PS   \n",
       "4   FRB01     Furball Inc.  1000 5th Avenue    New York         NY    11111   \n",
       "5   JTS01   Jouets et ours  1 Rue Amusement       Paris       None    45678   \n",
       "\n",
       "  vend_country  \n",
       "0          USA  \n",
       "1          USA  \n",
       "2          USA  \n",
       "3      England  \n",
       "4          USA  \n",
       "5       France  "
      ]
     },
     "execution_count": 24,
     "metadata": {},
     "output_type": "execute_result"
    }
   ],
   "source": [
    "pd.read_sql(\"SELECT *\\\n",
    "            FROM Vendors\\\n",
    "            ORDER BY vend_name;\", db)"
   ]
  },
  {
   "cell_type": "markdown",
   "id": "f04236ee",
   "metadata": {},
   "source": [
    "### Выполнение математических вычислений\n"
   ]
  },
  {
   "cell_type": "code",
   "execution_count": 25,
   "id": "54efaa9b",
   "metadata": {},
   "outputs": [
    {
     "data": {
      "text/html": [
       "<div>\n",
       "<style scoped>\n",
       "    .dataframe tbody tr th:only-of-type {\n",
       "        vertical-align: middle;\n",
       "    }\n",
       "\n",
       "    .dataframe tbody tr th {\n",
       "        vertical-align: top;\n",
       "    }\n",
       "\n",
       "    .dataframe thead th {\n",
       "        text-align: right;\n",
       "    }\n",
       "</style>\n",
       "<table border=\"1\" class=\"dataframe\">\n",
       "  <thead>\n",
       "    <tr style=\"text-align: right;\">\n",
       "      <th></th>\n",
       "      <th>prod_id</th>\n",
       "      <th>quantity</th>\n",
       "      <th>item_price</th>\n",
       "    </tr>\n",
       "  </thead>\n",
       "  <tbody>\n",
       "    <tr>\n",
       "      <th>0</th>\n",
       "      <td>RGAN01</td>\n",
       "      <td>5</td>\n",
       "      <td>4.99</td>\n",
       "    </tr>\n",
       "    <tr>\n",
       "      <th>1</th>\n",
       "      <td>BR03</td>\n",
       "      <td>5</td>\n",
       "      <td>11.99</td>\n",
       "    </tr>\n",
       "    <tr>\n",
       "      <th>2</th>\n",
       "      <td>BNBG01</td>\n",
       "      <td>10</td>\n",
       "      <td>3.49</td>\n",
       "    </tr>\n",
       "    <tr>\n",
       "      <th>3</th>\n",
       "      <td>BNBG02</td>\n",
       "      <td>10</td>\n",
       "      <td>3.49</td>\n",
       "    </tr>\n",
       "    <tr>\n",
       "      <th>4</th>\n",
       "      <td>BNBG03</td>\n",
       "      <td>10</td>\n",
       "      <td>3.49</td>\n",
       "    </tr>\n",
       "  </tbody>\n",
       "</table>\n",
       "</div>"
      ],
      "text/plain": [
       "  prod_id  quantity  item_price\n",
       "0  RGAN01         5        4.99\n",
       "1    BR03         5       11.99\n",
       "2  BNBG01        10        3.49\n",
       "3  BNBG02        10        3.49\n",
       "4  BNBG03        10        3.49"
      ]
     },
     "execution_count": 25,
     "metadata": {},
     "output_type": "execute_result"
    }
   ],
   "source": [
    "# В таблице Orders хранятся все полученные заказы, \n",
    "# а в таблице Order Items — списки товаров для каждого заказа. \n",
    "# Следующий запрос извлекает все товары, относящиеся к заказу с номером 20008.\n",
    "\n",
    "pd.read_sql(\"SELECT prod_id, quantity, item_price \\\n",
    "            FROM OrderItems\\\n",
    "            WHERE order_num = 20008;\", db)"
   ]
  },
  {
   "cell_type": "code",
   "execution_count": 26,
   "id": "19ad6f71",
   "metadata": {},
   "outputs": [
    {
     "data": {
      "text/html": [
       "<div>\n",
       "<style scoped>\n",
       "    .dataframe tbody tr th:only-of-type {\n",
       "        vertical-align: middle;\n",
       "    }\n",
       "\n",
       "    .dataframe tbody tr th {\n",
       "        vertical-align: top;\n",
       "    }\n",
       "\n",
       "    .dataframe thead th {\n",
       "        text-align: right;\n",
       "    }\n",
       "</style>\n",
       "<table border=\"1\" class=\"dataframe\">\n",
       "  <thead>\n",
       "    <tr style=\"text-align: right;\">\n",
       "      <th></th>\n",
       "      <th>prod_id</th>\n",
       "      <th>quantity</th>\n",
       "      <th>item_price</th>\n",
       "      <th>expanded_price</th>\n",
       "    </tr>\n",
       "  </thead>\n",
       "  <tbody>\n",
       "    <tr>\n",
       "      <th>0</th>\n",
       "      <td>RGAN01</td>\n",
       "      <td>5</td>\n",
       "      <td>4.99</td>\n",
       "      <td>24.95</td>\n",
       "    </tr>\n",
       "    <tr>\n",
       "      <th>1</th>\n",
       "      <td>BR03</td>\n",
       "      <td>5</td>\n",
       "      <td>11.99</td>\n",
       "      <td>59.95</td>\n",
       "    </tr>\n",
       "    <tr>\n",
       "      <th>2</th>\n",
       "      <td>BNBG01</td>\n",
       "      <td>10</td>\n",
       "      <td>3.49</td>\n",
       "      <td>34.90</td>\n",
       "    </tr>\n",
       "    <tr>\n",
       "      <th>3</th>\n",
       "      <td>BNBG02</td>\n",
       "      <td>10</td>\n",
       "      <td>3.49</td>\n",
       "      <td>34.90</td>\n",
       "    </tr>\n",
       "    <tr>\n",
       "      <th>4</th>\n",
       "      <td>BNBG03</td>\n",
       "      <td>10</td>\n",
       "      <td>3.49</td>\n",
       "      <td>34.90</td>\n",
       "    </tr>\n",
       "  </tbody>\n",
       "</table>\n",
       "</div>"
      ],
      "text/plain": [
       "  prod_id  quantity  item_price  expanded_price\n",
       "0  RGAN01         5        4.99           24.95\n",
       "1    BR03         5       11.99           59.95\n",
       "2  BNBG01        10        3.49           34.90\n",
       "3  BNBG02        10        3.49           34.90\n",
       "4  BNBG03        10        3.49           34.90"
      ]
     },
     "execution_count": 26,
     "metadata": {},
     "output_type": "execute_result"
    }
   ],
   "source": [
    "# В столбце item_price содержится цена за единицу товара, \n",
    "# включенного в заказ. Чтобы узнать полную стоимость \n",
    "# (цена за единицу, умноженная на количество товаров в заказе), \n",
    "# необходимо модифицировать запрос следующим образом.\n",
    "\n",
    "pd.read_sql(\"SELECT prod_id, quantity, item_price, quantity*item_price AS expanded_price\\\n",
    "            FROM OrderItems\\\n",
    "            WHERE order_num = 20008;\", db)"
   ]
  },
  {
   "cell_type": "code",
   "execution_count": 27,
   "id": "b867bb0c",
   "metadata": {},
   "outputs": [
    {
     "data": {
      "text/html": [
       "<div>\n",
       "<style scoped>\n",
       "    .dataframe tbody tr th:only-of-type {\n",
       "        vertical-align: middle;\n",
       "    }\n",
       "\n",
       "    .dataframe tbody tr th {\n",
       "        vertical-align: top;\n",
       "    }\n",
       "\n",
       "    .dataframe thead th {\n",
       "        text-align: right;\n",
       "    }\n",
       "</style>\n",
       "<table border=\"1\" class=\"dataframe\">\n",
       "  <thead>\n",
       "    <tr style=\"text-align: right;\">\n",
       "      <th></th>\n",
       "      <th>DATE()</th>\n",
       "    </tr>\n",
       "  </thead>\n",
       "  <tbody>\n",
       "    <tr>\n",
       "      <th>0</th>\n",
       "      <td>2022-06-13</td>\n",
       "    </tr>\n",
       "  </tbody>\n",
       "</table>\n",
       "</div>"
      ],
      "text/plain": [
       "       DATE()\n",
       "0  2022-06-13"
      ]
     },
     "execution_count": 27,
     "metadata": {},
     "output_type": "execute_result"
    }
   ],
   "source": [
    "# С помощью инструкции select удобно экспериментировать с различными \n",
    "# функциями и вычислениями. Обычно эта инструкция применяется для извлечения \n",
    "# данных из таблицы, однако предложение from можно просто опустить и работать \n",
    "# только с выражениями, указанными в списке столбцов. \n",
    "# Например, инструкция SELECT 3*2; вернет б, инструкция SELECT Trim (' abc ') ; вернет abc, \n",
    "# а инструкция select Now(); использует функцию Now ( ) для определения текущих даты и времени.\n",
    "\n",
    "pd.read_sql(\"SELECT DATE();\", db)"
   ]
  },
  {
   "cell_type": "markdown",
   "id": "0e100102",
   "metadata": {},
   "source": [
    "# УРОК 8\n",
    "# Использование функций обработки данных\n",
    "На этом уроке вы узнаете, что такое функции, какие типы функций\n",
    "поддерживаются в СУБД, как применять функции и какие проблемы\n",
    "при этом могут возникать."
   ]
  },
  {
   "cell_type": "code",
   "execution_count": 28,
   "id": "6bb1d8c8",
   "metadata": {},
   "outputs": [],
   "source": [
    "%load_ext sql"
   ]
  },
  {
   "cell_type": "code",
   "execution_count": 29,
   "id": "82407b7d",
   "metadata": {},
   "outputs": [],
   "source": [
    "%sql sqlite:///tysql/tysql.sqlite"
   ]
  },
  {
   "cell_type": "code",
   "execution_count": 30,
   "id": "676caaf0",
   "metadata": {
    "scrolled": true
   },
   "outputs": [
    {
     "name": "stdout",
     "output_type": "stream",
     "text": [
      " * sqlite:///tysql/tysql.sqlite\n",
      "Done.\n"
     ]
    },
    {
     "data": {
      "text/html": [
       "<table>\n",
       "    <tr>\n",
       "        <th>prod_id</th>\n",
       "        <th>prod_price</th>\n",
       "        <th>prod_name</th>\n",
       "        <th>vend_id</th>\n",
       "    </tr>\n",
       "    <tr>\n",
       "        <td>BR02</td>\n",
       "        <td>8.99</td>\n",
       "        <td>12 inch teddy bear</td>\n",
       "        <td>BRS01</td>\n",
       "    </tr>\n",
       "    <tr>\n",
       "        <td>BR03</td>\n",
       "        <td>11.99</td>\n",
       "        <td>18 inch teddy bear</td>\n",
       "        <td>BRS01</td>\n",
       "    </tr>\n",
       "    <tr>\n",
       "        <td>BR01</td>\n",
       "        <td>5.99</td>\n",
       "        <td>8 inch teddy bear</td>\n",
       "        <td>BRS01</td>\n",
       "    </tr>\n",
       "    <tr>\n",
       "        <td>BNBG02</td>\n",
       "        <td>3.49</td>\n",
       "        <td>Bird bean bag toy</td>\n",
       "        <td>DLL01</td>\n",
       "    </tr>\n",
       "    <tr>\n",
       "        <td>BNBG01</td>\n",
       "        <td>3.49</td>\n",
       "        <td>Fish bean bag toy</td>\n",
       "        <td>DLL01</td>\n",
       "    </tr>\n",
       "    <tr>\n",
       "        <td>BNBG03</td>\n",
       "        <td>3.49</td>\n",
       "        <td>Rabbit bean bag toy</td>\n",
       "        <td>DLL01</td>\n",
       "    </tr>\n",
       "    <tr>\n",
       "        <td>RGAN01</td>\n",
       "        <td>4.99</td>\n",
       "        <td>Raggedy Ann</td>\n",
       "        <td>DLL01</td>\n",
       "    </tr>\n",
       "</table>"
      ],
      "text/plain": [
       "[('BR02', 8.99, '12 inch teddy bear', 'BRS01'),\n",
       " ('BR03', 11.99, '18 inch teddy bear', 'BRS01'),\n",
       " ('BR01', 5.99, '8 inch teddy bear', 'BRS01'),\n",
       " ('BNBG02', 3.49, 'Bird bean bag toy', 'DLL01'),\n",
       " ('BNBG01', 3.49, 'Fish bean bag toy', 'DLL01'),\n",
       " ('BNBG03', 3.49, 'Rabbit bean bag toy', 'DLL01'),\n",
       " ('RGAN01', 4.99, 'Raggedy Ann', 'DLL01')]"
      ]
     },
     "execution_count": 30,
     "metadata": {},
     "output_type": "execute_result"
    }
   ],
   "source": [
    "%sql SELECT prod_id, prod_price, prod_name, vend_id \\\n",
    "            FROM Products \\\n",
    "            WHERE vend_id IN ('DLL01', 'BRS01')\\\n",
    "            AND prod_price >= 1 ORDER BY prod_name;"
   ]
  },
  {
   "cell_type": "code",
   "execution_count": 31,
   "id": "fced90b6",
   "metadata": {},
   "outputs": [
    {
     "name": "stdout",
     "output_type": "stream",
     "text": [
      " * sqlite:///tysql/tysql.sqlite\n",
      "Done.\n"
     ]
    },
    {
     "data": {
      "text/html": [
       "<table>\n",
       "    <tr>\n",
       "        <th>vend_name</th>\n",
       "        <th>vend_name_upcase</th>\n",
       "    </tr>\n",
       "    <tr>\n",
       "        <td>Bear Emporium</td>\n",
       "        <td>BEAR EMPORIUM</td>\n",
       "    </tr>\n",
       "    <tr>\n",
       "        <td>Bears R Us</td>\n",
       "        <td>BEARS R US</td>\n",
       "    </tr>\n",
       "    <tr>\n",
       "        <td>Doll House Inc.</td>\n",
       "        <td>DOLL HOUSE INC.</td>\n",
       "    </tr>\n",
       "    <tr>\n",
       "        <td>Fun and Games</td>\n",
       "        <td>FUN AND GAMES</td>\n",
       "    </tr>\n",
       "    <tr>\n",
       "        <td>Furball Inc.</td>\n",
       "        <td>FURBALL INC.</td>\n",
       "    </tr>\n",
       "    <tr>\n",
       "        <td>Jouets et ours</td>\n",
       "        <td>JOUETS ET OURS</td>\n",
       "    </tr>\n",
       "</table>"
      ],
      "text/plain": [
       "[('Bear Emporium', 'BEAR EMPORIUM'),\n",
       " ('Bears R Us', 'BEARS R US'),\n",
       " ('Doll House Inc.', 'DOLL HOUSE INC.'),\n",
       " ('Fun and Games', 'FUN AND GAMES'),\n",
       " ('Furball Inc.', 'FURBALL INC.'),\n",
       " ('Jouets et ours', 'JOUETS ET OURS')]"
      ]
     },
     "execution_count": 31,
     "metadata": {},
     "output_type": "execute_result"
    }
   ],
   "source": [
    "# Функция UPPER () преобразует символы в верхний регистр, \n",
    "# поэтому в данном примере имя каждого поставщика перечислено дважды\n",
    "\n",
    "%sql SELECT vend_name, UPPER(vend_name) AS vend_name_upcase\\\n",
    "FROM Vendors\\\n",
    "ORDER BY vend_name;"
   ]
  },
  {
   "cell_type": "code",
   "execution_count": 32,
   "id": "819b4f00",
   "metadata": {},
   "outputs": [
    {
     "name": "stdout",
     "output_type": "stream",
     "text": [
      " * sqlite:///tysql/tysql.sqlite\n",
      "Done.\n"
     ]
    },
    {
     "data": {
      "text/html": [
       "<table>\n",
       "    <tr>\n",
       "        <th>order_num</th>\n",
       "    </tr>\n",
       "    <tr>\n",
       "        <td>20005</td>\n",
       "    </tr>\n",
       "    <tr>\n",
       "        <td>20006</td>\n",
       "    </tr>\n",
       "    <tr>\n",
       "        <td>20007</td>\n",
       "    </tr>\n",
       "    <tr>\n",
       "        <td>20008</td>\n",
       "    </tr>\n",
       "    <tr>\n",
       "        <td>20009</td>\n",
       "    </tr>\n",
       "</table>"
      ],
      "text/plain": [
       "[(20005,), (20006,), (20007,), (20008,), (20009,)]"
      ]
     },
     "execution_count": 32,
     "metadata": {},
     "output_type": "execute_result"
    }
   ],
   "source": [
    "# В этом примере извлекается только часть даты (год).\n",
    "%sql SELECT order_num FROM Orders\\\n",
    "WHERE strftime('%Y', order_date) ='2012';"
   ]
  },
  {
   "cell_type": "markdown",
   "id": "314d881e",
   "metadata": {},
   "source": [
    "##### ABS() Модуль числа\n",
    "##### COS() Косинус заданного угла\n",
    "##### EXP() Экспонента заданного числа\n",
    "##### PI() Число п\n",
    "##### SIN() Синус заданного угла\n",
    "##### SQRT() Квадратный корень заданного числа\n",
    "##### TAN() Тангенс заданного угла"
   ]
  },
  {
   "cell_type": "markdown",
   "id": "6b65b574",
   "metadata": {},
   "source": [
    "# УРОК 9\n",
    "# Итоговые вычисления\n",
    "На этом уроке вы узнаете, что такое итоговые ЗОЬ-функции и как\n",
    "их применять для обработки табличных данных."
   ]
  },
  {
   "cell_type": "code",
   "execution_count": 33,
   "id": "b405e490",
   "metadata": {},
   "outputs": [
    {
     "name": "stdout",
     "output_type": "stream",
     "text": [
      " * sqlite:///tysql/tysql.sqlite\n",
      "Done.\n"
     ]
    },
    {
     "data": {
      "text/html": [
       "<table>\n",
       "    <tr>\n",
       "        <th>avg_price</th>\n",
       "    </tr>\n",
       "    <tr>\n",
       "        <td>6.823333333333334</td>\n",
       "    </tr>\n",
       "</table>"
      ],
      "text/plain": [
       "[(6.823333333333334,)]"
      ]
     },
     "execution_count": 33,
     "metadata": {},
     "output_type": "execute_result"
    }
   ],
   "source": [
    "# Функция AVG () предназначена для определения \n",
    "# среднего значения по столбцу путем подсчета \n",
    "# числа строк в таблице и суммирования их значений. \n",
    "# Эту функцию можно применять для вычисления среднего \n",
    "# значения всех столбцов или же определенных столбцов либо строк.\n",
    "# В первом примере функция AVG () используется для нахождения \n",
    "# средней цены всех товаров в таблице Products.\n",
    "\n",
    "%sql SELECT AVG(prod_price) AS avg_price FROM Products;"
   ]
  },
  {
   "cell_type": "code",
   "execution_count": 34,
   "id": "2cf35373",
   "metadata": {},
   "outputs": [
    {
     "name": "stdout",
     "output_type": "stream",
     "text": [
      " * sqlite:///tysql/tysql.sqlite\n",
      "Done.\n"
     ]
    },
    {
     "data": {
      "text/html": [
       "<table>\n",
       "    <tr>\n",
       "        <th>avg_price</th>\n",
       "    </tr>\n",
       "    <tr>\n",
       "        <td>3.865</td>\n",
       "    </tr>\n",
       "</table>"
      ],
      "text/plain": [
       "[(3.865,)]"
      ]
     },
     "execution_count": 34,
     "metadata": {},
     "output_type": "execute_result"
    }
   ],
   "source": [
    "# Функцию AVG () можно также применять для нахождения \n",
    "# среднего значения по определенным столбцам или строкам.\n",
    "# В следущем примере возвращается средняя цена товаров, \n",
    "# предлагаемых поставщиком DLL01.\n",
    "# Строки столбца, содержащие значения NULL, игнорируются функцией AVG ().\n",
    "\n",
    "%sql SELECT AVG(prod_price) AS avg_price \\\n",
    "FROM Products\\\n",
    "WHERE vend_id = 'DLL01';"
   ]
  },
  {
   "cell_type": "code",
   "execution_count": 35,
   "id": "04b24d32",
   "metadata": {},
   "outputs": [
    {
     "name": "stdout",
     "output_type": "stream",
     "text": [
      " * sqlite:///tysql/tysql.sqlite\n",
      "Done.\n"
     ]
    },
    {
     "data": {
      "text/html": [
       "<table>\n",
       "    <tr>\n",
       "        <th>num_cust</th>\n",
       "    </tr>\n",
       "    <tr>\n",
       "        <td>6</td>\n",
       "    </tr>\n",
       "</table>"
      ],
      "text/plain": [
       "[(6,)]"
      ]
     },
     "execution_count": 35,
     "metadata": {},
     "output_type": "execute_result"
    }
   ],
   "source": [
    "# Функция COUNT () подсчитывает число строк. \n",
    "# С ее помощью можно узнать общее число строк в таблице или число строк, \n",
    "# удовлетворяющих определенному критерию.\n",
    "# Эту функцию можно использовать двумя способами:\n",
    "# ► в виде выражения COUNT (*) для подсчета числа строк \n",
    "# в таблице независимо от того, содержат столбцы значения NULL или нет;\n",
    "# ► в виде выражения COUNT (столбец) для подсчета числа строк, \n",
    "# которые имеют значения в указанных столбцах, причем значения NULL игнорируются.\n",
    "\n",
    "%sql SELECT COUNT(*) AS num_cust FROM Customers;"
   ]
  },
  {
   "cell_type": "code",
   "execution_count": 36,
   "id": "2f70e999",
   "metadata": {},
   "outputs": [
    {
     "name": "stdout",
     "output_type": "stream",
     "text": [
      " * sqlite:///tysql/tysql.sqlite\n",
      "Done.\n"
     ]
    },
    {
     "data": {
      "text/html": [
       "<table>\n",
       "    <tr>\n",
       "        <th>num_cust</th>\n",
       "    </tr>\n",
       "    <tr>\n",
       "        <td>3</td>\n",
       "    </tr>\n",
       "</table>"
      ],
      "text/plain": [
       "[(3,)]"
      ]
     },
     "execution_count": 36,
     "metadata": {},
     "output_type": "execute_result"
    }
   ],
   "source": [
    "# В следующем примере подсчитываются только клиенты, имеющие адреса электронной почты.\n",
    "%sql SELECT COUNT(cust_email) AS num_cust FROM Customers;"
   ]
  },
  {
   "cell_type": "code",
   "execution_count": 37,
   "id": "52a3ddac",
   "metadata": {},
   "outputs": [
    {
     "name": "stdout",
     "output_type": "stream",
     "text": [
      " * sqlite:///tysql/tysql.sqlite\n",
      "Done.\n"
     ]
    },
    {
     "data": {
      "text/html": [
       "<table>\n",
       "    <tr>\n",
       "        <th>max_price</th>\n",
       "    </tr>\n",
       "    <tr>\n",
       "        <td>11.99</td>\n",
       "    </tr>\n",
       "</table>"
      ],
      "text/plain": [
       "[(11.99,)]"
      ]
     },
     "execution_count": 37,
     "metadata": {},
     "output_type": "execute_result"
    }
   ],
   "source": [
    "# Функция МАХ () возвращает наибольшее значение в указанном столбце. \n",
    "# Для этой функции необходимо задать имя столбца, как показано ниже.\n",
    "\n",
    "%sql SELECT MAX(prod_price) AS max_price FROM Products;"
   ]
  },
  {
   "cell_type": "code",
   "execution_count": 38,
   "id": "c2d20341",
   "metadata": {},
   "outputs": [
    {
     "name": "stdout",
     "output_type": "stream",
     "text": [
      " * sqlite:///tysql/tysql.sqlite\n",
      "Done.\n"
     ]
    },
    {
     "data": {
      "text/html": [
       "<table>\n",
       "    <tr>\n",
       "        <th>item_ordered</th>\n",
       "    </tr>\n",
       "    <tr>\n",
       "        <td>200</td>\n",
       "    </tr>\n",
       "</table>"
      ],
      "text/plain": [
       "[(200,)]"
      ]
     },
     "execution_count": 38,
     "metadata": {},
     "output_type": "execute_result"
    }
   ],
   "source": [
    "# Функция SUM () возвращает сумму значений в указанном столбце. \n",
    "# Рассмотрим пример. В таблице Order Items содержатся элементы заказа, \n",
    "# причем каждому элементу соответствует определенное количество, \n",
    "# указанное в заказе. Общее число заказанных товаров \n",
    "# (сумму всех значений столбца quantity) можно определить следующим образом.\n",
    "\n",
    "%sql SELECT SUM(quantity) AS item_ordered\\\n",
    "FROM OrderItems\\\n",
    "WHERE order_num = 20005;"
   ]
  },
  {
   "cell_type": "code",
   "execution_count": 39,
   "id": "b5251dcd",
   "metadata": {},
   "outputs": [
    {
     "name": "stdout",
     "output_type": "stream",
     "text": [
      " * sqlite:///tysql/tysql.sqlite\n",
      "Done.\n"
     ]
    },
    {
     "data": {
      "text/html": [
       "<table>\n",
       "    <tr>\n",
       "        <th>avg_price</th>\n",
       "    </tr>\n",
       "    <tr>\n",
       "        <td>4.24</td>\n",
       "    </tr>\n",
       "</table>"
      ],
      "text/plain": [
       "[(4.24,)]"
      ]
     },
     "execution_count": 39,
     "metadata": {},
     "output_type": "execute_result"
    }
   ],
   "source": [
    "# В следующем примере функция AVG () используется для \n",
    "# определения средней цены товаров, предлагаемых заданным поставщиком.\n",
    "\n",
    "%sql SELECT AVG(DISTINCT prod_price) AS avg_price\\\n",
    "FROM Products\\\n",
    "WHERE vend_id = 'DLL01';"
   ]
  },
  {
   "cell_type": "markdown",
   "id": "5964b3e0",
   "metadata": {},
   "source": [
    "# УРОК 10\n",
    "# Группировка данных"
   ]
  },
  {
   "cell_type": "code",
   "execution_count": 40,
   "id": "8c297021",
   "metadata": {},
   "outputs": [
    {
     "name": "stdout",
     "output_type": "stream",
     "text": [
      " * sqlite:///tysql/tysql.sqlite\n",
      "Done.\n"
     ]
    },
    {
     "data": {
      "text/html": [
       "<table>\n",
       "    <tr>\n",
       "        <th>vend_id</th>\n",
       "        <th>num_prods</th>\n",
       "    </tr>\n",
       "    <tr>\n",
       "        <td>FNG01</td>\n",
       "        <td>2</td>\n",
       "    </tr>\n",
       "    <tr>\n",
       "        <td>BRS01</td>\n",
       "        <td>3</td>\n",
       "    </tr>\n",
       "    <tr>\n",
       "        <td>DLL01</td>\n",
       "        <td>4</td>\n",
       "    </tr>\n",
       "</table>"
      ],
      "text/plain": [
       "[('FNG01', 2), ('BRS01', 3), ('DLL01', 4)]"
      ]
     },
     "execution_count": 40,
     "metadata": {},
     "output_type": "execute_result"
    }
   ],
   "source": [
    "# Данная инструкция SELECT выводит два столбца: vend_id, \n",
    "# содержащий идентификатор поставщика товара, и num_prods, \n",
    "# содержащий вычисляемые поля (он создается с помощью \n",
    "# функции COUNT (*)). Предложение GROUP BY заставляет СУБД \n",
    "# отсортировать данные и сгруппировать их по столбцу vend id. \n",
    "# В результате значение num_prods будет вычисляться по одному \n",
    "# разу для каждой группы записей vend id, а не один раз для всей таблицы products.\n",
    "\n",
    "%sql SELECT vend_id, COUNT(*) AS num_prods\\\n",
    "FROM Products\\\n",
    "GROUP BY vend_id order by num_prods;"
   ]
  },
  {
   "cell_type": "code",
   "execution_count": 41,
   "id": "72d09cd8",
   "metadata": {},
   "outputs": [
    {
     "name": "stdout",
     "output_type": "stream",
     "text": [
      " * sqlite:///tysql/tysql.sqlite\n",
      "Done.\n"
     ]
    },
    {
     "data": {
      "text/html": [
       "<table>\n",
       "    <tr>\n",
       "        <th>cust_id</th>\n",
       "        <th>orders</th>\n",
       "    </tr>\n",
       "    <tr>\n",
       "        <td>1000000001</td>\n",
       "        <td>2</td>\n",
       "    </tr>\n",
       "</table>"
      ],
      "text/plain": [
       "[('1000000001', 2)]"
      ]
     },
     "execution_count": 41,
     "metadata": {},
     "output_type": "execute_result"
    }
   ],
   "source": [
    "# в последней строке появляется предложение HAVING, \n",
    "# которое фильтрует группы с помощью выражения COUNT (*) >= 2 \n",
    "# — два или больше заказов.\n",
    "\n",
    "%sql SELECT cust_id, COUNT(*) AS orders FROM Orders GROUP BY cust_id HAVING COUNT(*) >= 2;"
   ]
  },
  {
   "cell_type": "code",
   "execution_count": 42,
   "id": "5699580f",
   "metadata": {
    "scrolled": true
   },
   "outputs": [
    {
     "name": "stdout",
     "output_type": "stream",
     "text": [
      " * sqlite:///tysql/tysql.sqlite\n",
      "Done.\n"
     ]
    },
    {
     "data": {
      "text/html": [
       "<table>\n",
       "    <tr>\n",
       "        <th>vend_id</th>\n",
       "        <th>numjprods</th>\n",
       "    </tr>\n",
       "    <tr>\n",
       "        <td>BRS01</td>\n",
       "        <td>3</td>\n",
       "    </tr>\n",
       "    <tr>\n",
       "        <td>FNG01</td>\n",
       "        <td>2</td>\n",
       "    </tr>\n",
       "</table>"
      ],
      "text/plain": [
       "[('BRS01', 3), ('FNG01', 2)]"
      ]
     },
     "execution_count": 42,
     "metadata": {},
     "output_type": "execute_result"
    }
   ],
   "source": [
    "# следующий пример, в котором перечисляются все поставщики, \n",
    "# предлагающие не менее двух товаров по цене 4 доллара и более за единицу.\n",
    "\n",
    "%sql SELECT vend_id, COUNT(*) AS numjprods\\\n",
    "FROM Products\\\n",
    "WHERE prod_price >= 4\\\n",
    "GROUP BY vend_id HAVING COUNT(*) >= 2;"
   ]
  },
  {
   "cell_type": "markdown",
   "id": "24513683",
   "metadata": {},
   "source": [
    "# УРОК 11\n",
    "# Подзапросы"
   ]
  },
  {
   "cell_type": "code",
   "execution_count": 43,
   "id": "8e77fff5",
   "metadata": {},
   "outputs": [
    {
     "name": "stdout",
     "output_type": "stream",
     "text": [
      " * sqlite:///tysql/tysql.sqlite\n",
      "Done.\n"
     ]
    },
    {
     "data": {
      "text/html": [
       "<table>\n",
       "    <tr>\n",
       "        <th>cust_name</th>\n",
       "        <th>cust_contact</th>\n",
       "    </tr>\n",
       "    <tr>\n",
       "        <td>Fun4All</td>\n",
       "        <td>Denise L. Stephens</td>\n",
       "    </tr>\n",
       "    <tr>\n",
       "        <td>The Toy Store</td>\n",
       "        <td>Kim Howard</td>\n",
       "    </tr>\n",
       "</table>"
      ],
      "text/plain": [
       "[('Fun4All', 'Denise L. Stephens'), ('The Toy Store', 'Kim Howard')]"
      ]
     },
     "execution_count": 43,
     "metadata": {},
     "output_type": "execute_result"
    }
   ],
   "source": [
    "# Подзапросы всегда обрабатываются, начиная с самой внутренней \n",
    "# инструкции SELECT в направлении “изнутри наружу”. При обработке \n",
    "# предыдущей инструкции СУБД в действительности выполняет две операции.\n",
    "\n",
    "%sql SELECT cust_name, cust_contact FROM Customers\\\n",
    "WHERE cust_id IN(SELECT cust_id FROM Orders\\\n",
    "                 WHERE order_num in (SELECT order_num FROM OrderItems WHERE prod_id = 'RGAN01'));"
   ]
  },
  {
   "cell_type": "markdown",
   "id": "aef5a00a",
   "metadata": {},
   "source": [
    "# УРОК 12\n",
    "# Объединение таблиц"
   ]
  },
  {
   "cell_type": "code",
   "execution_count": 44,
   "id": "98c358ec",
   "metadata": {
    "scrolled": true
   },
   "outputs": [
    {
     "name": "stdout",
     "output_type": "stream",
     "text": [
      " * sqlite:///tysql/tysql.sqlite\n",
      "Done.\n"
     ]
    },
    {
     "data": {
      "text/html": [
       "<table>\n",
       "    <tr>\n",
       "        <th>vend_name</th>\n",
       "        <th>prod_name</th>\n",
       "        <th>prod_price</th>\n",
       "    </tr>\n",
       "    <tr>\n",
       "        <td>Bears R Us</td>\n",
       "        <td>8 inch teddy bear</td>\n",
       "        <td>5.99</td>\n",
       "    </tr>\n",
       "    <tr>\n",
       "        <td>Bears R Us</td>\n",
       "        <td>12 inch teddy bear</td>\n",
       "        <td>8.99</td>\n",
       "    </tr>\n",
       "    <tr>\n",
       "        <td>Bears R Us</td>\n",
       "        <td>18 inch teddy bear</td>\n",
       "        <td>11.99</td>\n",
       "    </tr>\n",
       "    <tr>\n",
       "        <td>Doll House Inc.</td>\n",
       "        <td>Fish bean bag toy</td>\n",
       "        <td>3.49</td>\n",
       "    </tr>\n",
       "    <tr>\n",
       "        <td>Doll House Inc.</td>\n",
       "        <td>Bird bean bag toy</td>\n",
       "        <td>3.49</td>\n",
       "    </tr>\n",
       "    <tr>\n",
       "        <td>Doll House Inc.</td>\n",
       "        <td>Rabbit bean bag toy</td>\n",
       "        <td>3.49</td>\n",
       "    </tr>\n",
       "    <tr>\n",
       "        <td>Doll House Inc.</td>\n",
       "        <td>Raggedy Ann</td>\n",
       "        <td>4.99</td>\n",
       "    </tr>\n",
       "    <tr>\n",
       "        <td>Fun and Games</td>\n",
       "        <td>King doll</td>\n",
       "        <td>9.49</td>\n",
       "    </tr>\n",
       "    <tr>\n",
       "        <td>Fun and Games</td>\n",
       "        <td>Queen doll</td>\n",
       "        <td>9.49</td>\n",
       "    </tr>\n",
       "</table>"
      ],
      "text/plain": [
       "[('Bears R Us', '8 inch teddy bear', 5.99),\n",
       " ('Bears R Us', '12 inch teddy bear', 8.99),\n",
       " ('Bears R Us', '18 inch teddy bear', 11.99),\n",
       " ('Doll House Inc.', 'Fish bean bag toy', 3.49),\n",
       " ('Doll House Inc.', 'Bird bean bag toy', 3.49),\n",
       " ('Doll House Inc.', 'Rabbit bean bag toy', 3.49),\n",
       " ('Doll House Inc.', 'Raggedy Ann', 4.99),\n",
       " ('Fun and Games', 'King doll', 9.49),\n",
       " ('Fun and Games', 'Queen doll', 9.49)]"
      ]
     },
     "execution_count": 44,
     "metadata": {},
     "output_type": "execute_result"
    }
   ],
   "source": [
    "%sql SELECT vend_name, prod_name, prod_price FROM Vendors, Products\\\n",
    "WHERE Vendors.vend_id = Products.vend_id;"
   ]
  },
  {
   "cell_type": "code",
   "execution_count": 45,
   "id": "65aecf6d",
   "metadata": {},
   "outputs": [
    {
     "name": "stdout",
     "output_type": "stream",
     "text": [
      " * sqlite:///tysql/tysql.sqlite\n",
      "Done.\n"
     ]
    },
    {
     "data": {
      "text/html": [
       "<table>\n",
       "    <tr>\n",
       "        <th>vend_name</th>\n",
       "        <th>prod_name</th>\n",
       "        <th>prod_price</th>\n",
       "    </tr>\n",
       "    <tr>\n",
       "        <td>Bears R Us</td>\n",
       "        <td>8 inch teddy bear</td>\n",
       "        <td>5.99</td>\n",
       "    </tr>\n",
       "    <tr>\n",
       "        <td>Bears R Us</td>\n",
       "        <td>12 inch teddy bear</td>\n",
       "        <td>8.99</td>\n",
       "    </tr>\n",
       "    <tr>\n",
       "        <td>Bears R Us</td>\n",
       "        <td>18 inch teddy bear</td>\n",
       "        <td>11.99</td>\n",
       "    </tr>\n",
       "    <tr>\n",
       "        <td>Doll House Inc.</td>\n",
       "        <td>Fish bean bag toy</td>\n",
       "        <td>3.49</td>\n",
       "    </tr>\n",
       "    <tr>\n",
       "        <td>Doll House Inc.</td>\n",
       "        <td>Bird bean bag toy</td>\n",
       "        <td>3.49</td>\n",
       "    </tr>\n",
       "    <tr>\n",
       "        <td>Doll House Inc.</td>\n",
       "        <td>Rabbit bean bag toy</td>\n",
       "        <td>3.49</td>\n",
       "    </tr>\n",
       "    <tr>\n",
       "        <td>Doll House Inc.</td>\n",
       "        <td>Raggedy Ann</td>\n",
       "        <td>4.99</td>\n",
       "    </tr>\n",
       "    <tr>\n",
       "        <td>Fun and Games</td>\n",
       "        <td>King doll</td>\n",
       "        <td>9.49</td>\n",
       "    </tr>\n",
       "    <tr>\n",
       "        <td>Fun and Games</td>\n",
       "        <td>Queen doll</td>\n",
       "        <td>9.49</td>\n",
       "    </tr>\n",
       "</table>"
      ],
      "text/plain": [
       "[('Bears R Us', '8 inch teddy bear', 5.99),\n",
       " ('Bears R Us', '12 inch teddy bear', 8.99),\n",
       " ('Bears R Us', '18 inch teddy bear', 11.99),\n",
       " ('Doll House Inc.', 'Fish bean bag toy', 3.49),\n",
       " ('Doll House Inc.', 'Bird bean bag toy', 3.49),\n",
       " ('Doll House Inc.', 'Rabbit bean bag toy', 3.49),\n",
       " ('Doll House Inc.', 'Raggedy Ann', 4.99),\n",
       " ('Fun and Games', 'King doll', 9.49),\n",
       " ('Fun and Games', 'Queen doll', 9.49)]"
      ]
     },
     "execution_count": 45,
     "metadata": {},
     "output_type": "execute_result"
    }
   ],
   "source": [
    "# При использовании такого синтаксиса условие объединения \n",
    "# задается с помощью специального предложения ON, а не WHERE. \n",
    "# Фактическое условие, указываемое в предложении ON, то же самое, \n",
    "# которое задавалось бы в предложение WHERE.\n",
    "\n",
    "%sql SELECT vend_name, prod_name, prod_price FROM Vendors INNER JOIN Products\\\n",
    "ON Vendors.vend_id = Products.vend_id;"
   ]
  },
  {
   "cell_type": "code",
   "execution_count": 46,
   "id": "c50bfd47",
   "metadata": {},
   "outputs": [
    {
     "name": "stdout",
     "output_type": "stream",
     "text": [
      " * sqlite:///tysql/tysql.sqlite\n",
      "Done.\n"
     ]
    },
    {
     "data": {
      "text/html": [
       "<table>\n",
       "    <tr>\n",
       "        <th>prod_name</th>\n",
       "        <th>vend_name</th>\n",
       "        <th>prod_price</th>\n",
       "        <th>quantity</th>\n",
       "    </tr>\n",
       "    <tr>\n",
       "        <td>18 inch teddy bear</td>\n",
       "        <td>Bears R Us</td>\n",
       "        <td>11.99</td>\n",
       "        <td>50</td>\n",
       "    </tr>\n",
       "    <tr>\n",
       "        <td>Fish bean bag toy</td>\n",
       "        <td>Doll House Inc.</td>\n",
       "        <td>3.49</td>\n",
       "        <td>100</td>\n",
       "    </tr>\n",
       "    <tr>\n",
       "        <td>Bird bean bag toy</td>\n",
       "        <td>Doll House Inc.</td>\n",
       "        <td>3.49</td>\n",
       "        <td>100</td>\n",
       "    </tr>\n",
       "    <tr>\n",
       "        <td>Rabbit bean bag toy</td>\n",
       "        <td>Doll House Inc.</td>\n",
       "        <td>3.49</td>\n",
       "        <td>100</td>\n",
       "    </tr>\n",
       "    <tr>\n",
       "        <td>Raggedy Ann</td>\n",
       "        <td>Doll House Inc.</td>\n",
       "        <td>4.99</td>\n",
       "        <td>50</td>\n",
       "    </tr>\n",
       "</table>"
      ],
      "text/plain": [
       "[('18 inch teddy bear', 'Bears R Us', 11.99, 50),\n",
       " ('Fish bean bag toy', 'Doll House Inc.', 3.49, 100),\n",
       " ('Bird bean bag toy', 'Doll House Inc.', 3.49, 100),\n",
       " ('Rabbit bean bag toy', 'Doll House Inc.', 3.49, 100),\n",
       " ('Raggedy Ann', 'Doll House Inc.', 4.99, 50)]"
      ]
     },
     "execution_count": 46,
     "metadata": {},
     "output_type": "execute_result"
    }
   ],
   "source": [
    "%sql SELECT prod_name, vend_name, prod_price, quantity \\\n",
    "FROM OrderItems, Products, Vendors \\\n",
    "WHERE Products.vend_id = Vendors.vend_id \\\n",
    "AND OrderItems.prod_id = Products.prod_id AND order_num = 20007;"
   ]
  },
  {
   "cell_type": "code",
   "execution_count": 47,
   "id": "d545de41",
   "metadata": {},
   "outputs": [
    {
     "name": "stdout",
     "output_type": "stream",
     "text": [
      " * sqlite:///tysql/tysql.sqlite\n",
      "Done.\n"
     ]
    },
    {
     "data": {
      "text/html": [
       "<table>\n",
       "    <tr>\n",
       "        <th>cust_name</th>\n",
       "        <th>cust_contact</th>\n",
       "    </tr>\n",
       "    <tr>\n",
       "        <td>Fun4All</td>\n",
       "        <td>Denise L. Stephens</td>\n",
       "    </tr>\n",
       "    <tr>\n",
       "        <td>The Toy Store</td>\n",
       "        <td>Kim Howard</td>\n",
       "    </tr>\n",
       "</table>"
      ],
      "text/plain": [
       "[('Fun4All', 'Denise L. Stephens'), ('The Toy Store', 'Kim Howard')]"
      ]
     },
     "execution_count": 47,
     "metadata": {},
     "output_type": "execute_result"
    }
   ],
   "source": [
    "# подзапросы не всегда являются самым эффективным способом \n",
    "# выполнения сложных инструкций SELECT, поэтому тот же самый \n",
    "# запрос можно переписать с использованием синтаксиса объединений.\n",
    "\n",
    "%sql SELECT cust_name, cust_contact \\\n",
    "FROM Customers, Orders, OrderItems \\\n",
    "WHERE Customers.cust_id = Orders.cust_id \\\n",
    "AND OrderItems.order_num = Orders.order_num \\\n",
    "AND prod_id = 'RGAN01';"
   ]
  },
  {
   "cell_type": "markdown",
   "id": "5737e6d1",
   "metadata": {},
   "source": [
    "# УРОК 13\n",
    "# Создание расширенных объединений\n"
   ]
  },
  {
   "cell_type": "code",
   "execution_count": 48,
   "id": "e8728be1",
   "metadata": {},
   "outputs": [
    {
     "name": "stdout",
     "output_type": "stream",
     "text": [
      " * sqlite:///tysql/tysql.sqlite\n",
      "Done.\n"
     ]
    },
    {
     "data": {
      "text/html": [
       "<table>\n",
       "    <tr>\n",
       "        <th>cust_name</th>\n",
       "        <th>cust_contact</th>\n",
       "    </tr>\n",
       "    <tr>\n",
       "        <td>Fun4All</td>\n",
       "        <td>Denise L. Stephens</td>\n",
       "    </tr>\n",
       "    <tr>\n",
       "        <td>The Toy Store</td>\n",
       "        <td>Kim Howard</td>\n",
       "    </tr>\n",
       "</table>"
      ],
      "text/plain": [
       "[('Fun4All', 'Denise L. Stephens'), ('The Toy Store', 'Kim Howard')]"
      ]
     },
     "execution_count": 48,
     "metadata": {},
     "output_type": "execute_result"
    }
   ],
   "source": [
    "# SELECT. В основном она такая же, как и в примерах предыдущего урока, \n",
    "# но здесь она модифицирована с учетом псевдонимов.\n",
    "\n",
    "%sql SELECT cust_name, cust_contact\\\n",
    "FROM Customers AS C, Orders AS O, OrderItems AS OI\\\n",
    "WHERE C.cust_id = O.cust_id \\\n",
    "AND OI.order_num = O.order_num AND prod_id = 'RGAN01';"
   ]
  },
  {
   "cell_type": "code",
   "execution_count": 49,
   "id": "8d72a379",
   "metadata": {},
   "outputs": [
    {
     "name": "stdout",
     "output_type": "stream",
     "text": [
      " * sqlite:///tysql/tysql.sqlite\n",
      "Done.\n"
     ]
    },
    {
     "data": {
      "text/html": [
       "<table>\n",
       "    <tr>\n",
       "        <th>cust_id</th>\n",
       "        <th>cust_name</th>\n",
       "        <th>cust_contact</th>\n",
       "    </tr>\n",
       "    <tr>\n",
       "        <td>1000000003</td>\n",
       "        <td>Fun4All</td>\n",
       "        <td>Jim Jones</td>\n",
       "    </tr>\n",
       "    <tr>\n",
       "        <td>1000000004</td>\n",
       "        <td>Fun4All</td>\n",
       "        <td>Denise L. Stephens</td>\n",
       "    </tr>\n",
       "</table>"
      ],
      "text/plain": [
       "[('1000000003', 'Fun4All', 'Jim Jones'),\n",
       " ('1000000004', 'Fun4All', 'Denise L. Stephens')]"
      ]
     },
     "execution_count": 49,
     "metadata": {},
     "output_type": "execute_result"
    }
   ],
   "source": [
    "# Предположим, вы хотите послать письма по всем контактным \n",
    "# адресам клиентов, которые работают с той же компанией, \n",
    "# с которой работает Джим Джонс. Такой запрос требует, чтобы \n",
    "# вначале вы выяснили, с какой компанией работает Джим Джонс, \n",
    "# а затем — какие клиенты работают с этой же компанией.\n",
    "\n",
    "%sql SELECT cust_id, cust_name, cust_contact FROM Customers \\\n",
    "WHERE cust_name = (SELECT cust_name FROM Customers \\\n",
    "WHERE \\\n",
    "cust_contact = 'Jim Jones');"
   ]
  },
  {
   "cell_type": "code",
   "execution_count": 50,
   "id": "4e944ef9",
   "metadata": {},
   "outputs": [
    {
     "name": "stdout",
     "output_type": "stream",
     "text": [
      " * sqlite:///tysql/tysql.sqlite\n",
      "Done.\n"
     ]
    },
    {
     "data": {
      "text/html": [
       "<table>\n",
       "    <tr>\n",
       "        <th>cust_id</th>\n",
       "        <th>cust_name</th>\n",
       "        <th>cust_contact</th>\n",
       "    </tr>\n",
       "    <tr>\n",
       "        <td>1000000003</td>\n",
       "        <td>Fun4All</td>\n",
       "        <td>Jim Jones</td>\n",
       "    </tr>\n",
       "    <tr>\n",
       "        <td>1000000004</td>\n",
       "        <td>Fun4All</td>\n",
       "        <td>Denise L. Stephens</td>\n",
       "    </tr>\n",
       "</table>"
      ],
      "text/plain": [
       "[('1000000003', 'Fun4All', 'Jim Jones'),\n",
       " ('1000000004', 'Fun4All', 'Denise L. Stephens')]"
      ]
     },
     "execution_count": 50,
     "metadata": {},
     "output_type": "execute_result"
    }
   ],
   "source": [
    "# Теперь рассмотрим тот же самый запрос, но с использованием объединений.\n",
    "\n",
    "%sql SELECT c1.cust_id, c1.cust_name, c1.cust_contact \\\n",
    "FROM Customers c1, Customers c2 \\\n",
    "WHERE c1.cust_name = c2.cust_name AND c2.cust_contact = 'Jim Jones';"
   ]
  },
  {
   "cell_type": "code",
   "execution_count": 51,
   "id": "21ada376",
   "metadata": {},
   "outputs": [
    {
     "name": "stdout",
     "output_type": "stream",
     "text": [
      " * sqlite:///tysql/tysql.sqlite\n",
      "Done.\n"
     ]
    },
    {
     "data": {
      "text/html": [
       "<table>\n",
       "    <tr>\n",
       "        <th>cust_id</th>\n",
       "        <th>cust_name</th>\n",
       "        <th>cust_address</th>\n",
       "        <th>cust_city</th>\n",
       "        <th>cust_state</th>\n",
       "        <th>cust_zip</th>\n",
       "        <th>cust_country</th>\n",
       "        <th>cust_contact</th>\n",
       "        <th>cust_email</th>\n",
       "        <th>order_num</th>\n",
       "        <th>order_date</th>\n",
       "        <th>prod_id</th>\n",
       "        <th>quantity</th>\n",
       "        <th>item_price</th>\n",
       "    </tr>\n",
       "    <tr>\n",
       "        <td>1000000004</td>\n",
       "        <td>Fun4All</td>\n",
       "        <td>829 Riverside Drive</td>\n",
       "        <td>Phoenix</td>\n",
       "        <td>AZ</td>\n",
       "        <td>88888</td>\n",
       "        <td>USA</td>\n",
       "        <td>Denise L. Stephens</td>\n",
       "        <td>dstephens@fun4all.com</td>\n",
       "        <td>20007</td>\n",
       "        <td>2012-01-30</td>\n",
       "        <td>RGAN01</td>\n",
       "        <td>50</td>\n",
       "        <td>4.49</td>\n",
       "    </tr>\n",
       "    <tr>\n",
       "        <td>1000000005</td>\n",
       "        <td>The Toy Store</td>\n",
       "        <td>4545 53rd Street</td>\n",
       "        <td>Chicago</td>\n",
       "        <td>IL</td>\n",
       "        <td>54545</td>\n",
       "        <td>USA</td>\n",
       "        <td>Kim Howard</td>\n",
       "        <td>None</td>\n",
       "        <td>20008</td>\n",
       "        <td>2012-02-03</td>\n",
       "        <td>RGAN01</td>\n",
       "        <td>5</td>\n",
       "        <td>4.99</td>\n",
       "    </tr>\n",
       "</table>"
      ],
      "text/plain": [
       "[('1000000004', 'Fun4All', '829 Riverside Drive', 'Phoenix', 'AZ', '88888', 'USA', 'Denise L. Stephens', 'dstephens@fun4all.com', 20007, '2012-01-30', 'RGAN01', 50, 4.49),\n",
       " ('1000000005', 'The Toy Store', '4545 53rd Street', 'Chicago', 'IL', '54545', 'USA', 'Kim Howard', None, 20008, '2012-02-03', 'RGAN01', 5, 4.99)]"
      ]
     },
     "execution_count": 51,
     "metadata": {},
     "output_type": "execute_result"
    }
   ],
   "source": [
    "# Естественным называется объединение, в котором извлекаются \n",
    "# только не повторяющиеся столбцы. Обычно это делается с помощью \n",
    "# метасимвола (SELECT *) для одной таблицы и указания явного подмножества \n",
    "# столбцов для всех остальных таблиц. Рассмотрим пример.\n",
    "\n",
    "%sql SELECT C.*, O.order_num, O.order_date,\\\n",
    "OI.prod_id, OI.quantity, OI.item_price FROM Customers AS C, Orders AS O,\\\n",
    "OrderItems AS OI\\\n",
    "WHERE C.cust_id = O.cust_id\\\n",
    "AND OI.order_num = O.order_num \\\n",
    "AND prod_id = 'RGAN01';"
   ]
  },
  {
   "cell_type": "code",
   "execution_count": 52,
   "id": "9959d640",
   "metadata": {},
   "outputs": [
    {
     "name": "stdout",
     "output_type": "stream",
     "text": [
      " * sqlite:///tysql/tysql.sqlite\n",
      "Done.\n"
     ]
    },
    {
     "data": {
      "text/html": [
       "<table>\n",
       "    <tr>\n",
       "        <th>cust_id</th>\n",
       "        <th>order_num</th>\n",
       "    </tr>\n",
       "    <tr>\n",
       "        <td>1000000001</td>\n",
       "        <td>20005</td>\n",
       "    </tr>\n",
       "    <tr>\n",
       "        <td>1000000001</td>\n",
       "        <td>20009</td>\n",
       "    </tr>\n",
       "    <tr>\n",
       "        <td>1000000002</td>\n",
       "        <td>None</td>\n",
       "    </tr>\n",
       "    <tr>\n",
       "        <td>1000000003</td>\n",
       "        <td>20006</td>\n",
       "    </tr>\n",
       "    <tr>\n",
       "        <td>1000000004</td>\n",
       "        <td>20007</td>\n",
       "    </tr>\n",
       "    <tr>\n",
       "        <td>1000000005</td>\n",
       "        <td>20008</td>\n",
       "    </tr>\n",
       "    <tr>\n",
       "        <td>1000000010</td>\n",
       "        <td>20100</td>\n",
       "    </tr>\n",
       "</table>"
      ],
      "text/plain": [
       "[('1000000001', 20005),\n",
       " ('1000000001', 20009),\n",
       " ('1000000002', None),\n",
       " ('1000000003', 20006),\n",
       " ('1000000004', 20007),\n",
       " ('1000000005', 20008),\n",
       " ('1000000010', 20100)]"
      ]
     },
     "execution_count": 52,
     "metadata": {},
     "output_type": "execute_result"
    }
   ],
   "source": [
    "# Синтаксис внешнего объединения похож на этот. \n",
    "# Для получения имен всех клиентов, включая тех, \n",
    "# которые еще не сделали заказов, можно сделать следующее.\n",
    "\n",
    "%sql SELECT Customers.cust_id, Orders.order_num \\\n",
    "FROM Customers LEFT OUTER JOIN Orders \\\n",
    "ON Customers.cust_id = Orders.cust_id;"
   ]
  },
  {
   "cell_type": "code",
   "execution_count": 53,
   "id": "cf99f756",
   "metadata": {},
   "outputs": [
    {
     "name": "stdout",
     "output_type": "stream",
     "text": [
      " * sqlite:///tysql/tysql.sqlite\n",
      "(sqlite3.OperationalError) RIGHT and FULL OUTER JOINs are not currently supported\n",
      "[SQL: SELECT Customers.cust_id, Orders.order_num FROM Customers RIGHT OUTER JOIN Orders ON Orders.cust_id = Customers.cust_id;]\n",
      "(Background on this error at: http://sqlalche.me/e/13/e3q8)\n"
     ]
    }
   ],
   "source": [
    "# SQLite поддерживает левое внешнее объединение, но не правое. \n",
    "# К счастью, существует очень простое решение, объясняемое в следующем совете.\n",
    "# Существуют две основные формы внешнего объединения: левое и правое. \n",
    "# Единственная разница между ними состоит в порядке указания связываемых таблиц.\n",
    "# Раз так, то эти два типа внешнего объединения могут заменять друг друга\n",
    "\n",
    "%sql SELECT Customers.cust_id, Orders.order_num \\\n",
    "FROM Customers RIGHT OUTER JOIN Orders \\\n",
    "ON Orders.cust_id = Customers.cust_id;"
   ]
  },
  {
   "cell_type": "code",
   "execution_count": 54,
   "id": "23b7a398",
   "metadata": {},
   "outputs": [
    {
     "name": "stdout",
     "output_type": "stream",
     "text": [
      " * sqlite:///tysql/tysql.sqlite\n",
      "Done.\n"
     ]
    },
    {
     "data": {
      "text/html": [
       "<table>\n",
       "    <tr>\n",
       "        <th>cust_id</th>\n",
       "        <th>num_ord</th>\n",
       "    </tr>\n",
       "    <tr>\n",
       "        <td>1000000001</td>\n",
       "        <td>2</td>\n",
       "    </tr>\n",
       "    <tr>\n",
       "        <td>1000000003</td>\n",
       "        <td>1</td>\n",
       "    </tr>\n",
       "    <tr>\n",
       "        <td>1000000004</td>\n",
       "        <td>1</td>\n",
       "    </tr>\n",
       "    <tr>\n",
       "        <td>1000000005</td>\n",
       "        <td>1</td>\n",
       "    </tr>\n",
       "    <tr>\n",
       "        <td>1000000010</td>\n",
       "        <td>1</td>\n",
       "    </tr>\n",
       "</table>"
      ],
      "text/plain": [
       "[('1000000001', 2),\n",
       " ('1000000003', 1),\n",
       " ('1000000004', 1),\n",
       " ('1000000005', 1),\n",
       " ('1000000010', 1)]"
      ]
     },
     "execution_count": 54,
     "metadata": {},
     "output_type": "execute_result"
    }
   ],
   "source": [
    "# вы хотите получить список всех клиентов и число сделанных ими заказов. \n",
    "# Для этого в следующем запросе применяется функция COUNT ().\n",
    "\n",
    "%sql SELECT Customers.cust_id, \\\n",
    "COUNT(Orders.order_num) AS num_ord \\\n",
    "FROM Customers INNER JOIN Orders \\\n",
    "ON Customers.cust_id = Orders.cust_id GROUP BY Customers.cust_id;"
   ]
  },
  {
   "cell_type": "code",
   "execution_count": 55,
   "id": "2cef642e",
   "metadata": {},
   "outputs": [
    {
     "name": "stdout",
     "output_type": "stream",
     "text": [
      " * sqlite:///tysql/tysql.sqlite\n",
      "Done.\n"
     ]
    },
    {
     "data": {
      "text/html": [
       "<table>\n",
       "    <tr>\n",
       "        <th>cust_id</th>\n",
       "        <th>num_ord</th>\n",
       "    </tr>\n",
       "    <tr>\n",
       "        <td>1000000001</td>\n",
       "        <td>2</td>\n",
       "    </tr>\n",
       "    <tr>\n",
       "        <td>1000000002</td>\n",
       "        <td>0</td>\n",
       "    </tr>\n",
       "    <tr>\n",
       "        <td>1000000003</td>\n",
       "        <td>1</td>\n",
       "    </tr>\n",
       "    <tr>\n",
       "        <td>1000000004</td>\n",
       "        <td>1</td>\n",
       "    </tr>\n",
       "    <tr>\n",
       "        <td>1000000005</td>\n",
       "        <td>1</td>\n",
       "    </tr>\n",
       "    <tr>\n",
       "        <td>1000000010</td>\n",
       "        <td>1</td>\n",
       "    </tr>\n",
       "</table>"
      ],
      "text/plain": [
       "[('1000000001', 2),\n",
       " ('1000000002', 0),\n",
       " ('1000000003', 1),\n",
       " ('1000000004', 1),\n",
       " ('1000000005', 1),\n",
       " ('1000000010', 1)]"
      ]
     },
     "execution_count": 55,
     "metadata": {},
     "output_type": "execute_result"
    }
   ],
   "source": [
    "# Итоговые функции можно также использовать с объединениями других типов.\n",
    "\n",
    "%sql SELECT Customers.cust_id,\\\n",
    "COUNT(Orders.order_num) AS num_ord \\\n",
    "FROM Customers LEFT OUTER JOIN Orders \\\n",
    "ON Customers.cust_id = Orders.cust_id GROUP BY Customers.cust_id;"
   ]
  },
  {
   "cell_type": "markdown",
   "id": "9407b24c",
   "metadata": {},
   "source": [
    "# УРОК 14\n",
    "Комбинированные\n",
    "запросы\n",
    "\n",
    "На этом уроке вы узнаете, как применять оператор UNION для объединения нескольких инструкций SELECT с целью получения единого набора результатов."
   ]
  },
  {
   "cell_type": "markdown",
   "id": "5ee24d5d",
   "metadata": {},
   "source": [
    "Запросы в SQL комбинируются с помощью оператора UNION, \n",
    "который позволяет многократно указывать инструкцию SELECT, \n",
    "возвращая один набор результатов."
   ]
  },
  {
   "cell_type": "code",
   "execution_count": 56,
   "id": "231cabf6",
   "metadata": {},
   "outputs": [
    {
     "name": "stdout",
     "output_type": "stream",
     "text": [
      " * sqlite:///tysql/tysql.sqlite\n",
      "Done.\n"
     ]
    },
    {
     "data": {
      "text/html": [
       "<table>\n",
       "    <tr>\n",
       "        <th>cust_name</th>\n",
       "        <th>cust_contact</th>\n",
       "        <th>cust_email</th>\n",
       "    </tr>\n",
       "    <tr>\n",
       "        <td>Fun4All</td>\n",
       "        <td>Denise L. Stephens</td>\n",
       "        <td>dstephens@fun4all.com</td>\n",
       "    </tr>\n",
       "    <tr>\n",
       "        <td>Fun4All</td>\n",
       "        <td>Jim Jones</td>\n",
       "        <td>jjones@fun4all.com</td>\n",
       "    </tr>\n",
       "    <tr>\n",
       "        <td>Village Toys</td>\n",
       "        <td>John Smith</td>\n",
       "        <td>sales@villagetoys.com</td>\n",
       "    </tr>\n",
       "</table>"
      ],
      "text/plain": [
       "[('Fun4All', 'Denise L. Stephens', 'dstephens@fun4all.com'),\n",
       " ('Fun4All', 'Jim Jones', 'jjones@fun4all.com'),\n",
       " ('Village Toys', 'John Smith', 'sales@villagetoys.com')]"
      ]
     },
     "execution_count": 56,
     "metadata": {},
     "output_type": "execute_result"
    }
   ],
   "source": [
    "# требуется получить отчет, содержащий сведения обо всех \n",
    "# клиентах из штатов Иллинойс, Индиана и Мичиган. Вы также \n",
    "# хотите включить в него данные о клиенте Fun4All независимо \n",
    "# от штата. Конечно, можно создать условие WHERE, благодаря \n",
    "# которому будут выполнены указанные требования, но в данном \n",
    "# случае гораздо удобнее прибегнуть к оператору UNION.\n",
    "\n",
    "%sql SELECT cust_name, cust_contact, cust_email FROM Customers\\\n",
    "WHERE cust_state IN ('IL1','IN','MI')\\\n",
    "UNION\\\n",
    "SELECT cust_name, cust_contact, cust_email FROM Customers\\\n",
    "WHERE cust_name = 'Fun4All';"
   ]
  },
  {
   "cell_type": "markdown",
   "id": "7c6fca63",
   "metadata": {},
   "source": [
    "# УРОК 15\n",
    "Добавление данных\n",
    "На этом уроке вы узнаете, как добавлять данные в таблицы, используя инструкцию INSERT."
   ]
  },
  {
   "cell_type": "markdown",
   "id": "7d48ce86",
   "metadata": {},
   "source": [
    "Простейший способ добавления данных в таблицу реализуется с помощью базового синтаксиса инструкции INSERT. Для этого нужно указать имя таблицы и значения, которые должны быть введены в новую строку. Рассмотрим пример."
   ]
  },
  {
   "cell_type": "code",
   "execution_count": 57,
   "id": "0584f071",
   "metadata": {},
   "outputs": [],
   "source": [
    "# %sql INSERT INTO Customers VALUES('1000000006',\\\n",
    "# 'Toy Land',\\\n",
    "# '123 Any Street', 'New York',\\\n",
    "# 'NY',\\\n",
    "# '11111',\\\n",
    "# 'USA',\\\n",
    "# NULL,\\\n",
    "# NULL);"
   ]
  },
  {
   "cell_type": "markdown",
   "id": "432665cd",
   "metadata": {},
   "source": [
    "Безопасный (и, к сожалению, более громоздкий) способ записи инструкции INSERT таков."
   ]
  },
  {
   "cell_type": "code",
   "execution_count": 76,
   "id": "a8b489d5",
   "metadata": {},
   "outputs": [
    {
     "name": "stdout",
     "output_type": "stream",
     "text": [
      " * sqlite:///tysql/tysql.sqlite\n",
      "1 rows affected.\n"
     ]
    },
    {
     "data": {
      "text/plain": [
       "[]"
      ]
     },
     "execution_count": 76,
     "metadata": {},
     "output_type": "execute_result"
    }
   ],
   "source": [
    "%sql INSERT INTO Customers(cust_id,\\\n",
    "cust_name,\\\n",
    "cust_address,\\\n",
    "cust_city,\\\n",
    "cust_state,\\\n",
    "cust_zip,\\\n",
    "cust_country,\\\n",
    "cust_contact,\\\n",
    "cust_email)\\\n",
    "VALUES('1000000006',\\\n",
    "'Toy Land',\\\n",
    "'123 Any Street',\\\n",
    "'New York',\\\n",
    "'NY',\\\n",
    "'11111', \\\n",
    "'USA',\\\n",
    "NULL,\\\n",
    "NULL);"
   ]
  },
  {
   "cell_type": "markdown",
   "id": "9b24adcf",
   "metadata": {},
   "source": [
    "Чтобы скопировать содержимое какой-то таблицы в новую таблицу (которая создается на лету), можно использовать инструкцию SELECT INTO."
   ]
  },
  {
   "cell_type": "code",
   "execution_count": 59,
   "id": "de5144f2",
   "metadata": {},
   "outputs": [
    {
     "name": "stdout",
     "output_type": "stream",
     "text": [
      " * sqlite:///tysql/tysql.sqlite\n",
      "Done.\n"
     ]
    },
    {
     "data": {
      "text/plain": [
       "[]"
      ]
     },
     "execution_count": 59,
     "metadata": {},
     "output_type": "execute_result"
    }
   ],
   "source": [
    "%sql CREATE TABLE CustCopy AS SELECT * FROM Customers;"
   ]
  },
  {
   "cell_type": "code",
   "execution_count": 60,
   "id": "abd544a0",
   "metadata": {},
   "outputs": [
    {
     "name": "stdout",
     "output_type": "stream",
     "text": [
      " * sqlite:///tysql/tysql.sqlite\n",
      "Done.\n"
     ]
    },
    {
     "data": {
      "text/plain": [
       "[]"
      ]
     },
     "execution_count": 60,
     "metadata": {},
     "output_type": "execute_result"
    }
   ],
   "source": [
    "%sql drop TABLE CustCopy"
   ]
  },
  {
   "cell_type": "markdown",
   "id": "7102b749",
   "metadata": {},
   "source": [
    "# УРОК 16\n",
    "Обновление и удаление данных"
   ]
  },
  {
   "cell_type": "markdown",
   "id": "875e7389",
   "metadata": {},
   "source": [
    "###### инструкции UPDATE и DELETE для обновления и удаления записей в таблицах."
   ]
  },
  {
   "cell_type": "markdown",
   "id": "f1cb6b78",
   "metadata": {},
   "source": [
    "Инструкция UPDATE всегда начинается с имени таблицы, подлежащей обновлению. В нашем примере это таблица Customers. Затем используется предложение SET, чтобы ввести в столбец новое значение. В данном случае обновляется значение столбца cust_ email.\n",
    "\n",
    "SET cust_email = 'kim@thetoystore.com'\n",
    "\n",
    "Заканчивается инструкция UPDATE предложением WHERE, которое сообщает СУБД, какая строка подлежит обновлению. При отсутствии такого предложения СУБД обновила бы все строки таблицы Customers, введя в них новый (причем один и тот же!) адрес электронной почты, а это, конечно же, не то, что нам нужно:\n",
    "Для обновления нескольких столбцов необходим иной синтаксис."
   ]
  },
  {
   "cell_type": "code",
   "execution_count": 77,
   "id": "c1bcc67c",
   "metadata": {},
   "outputs": [
    {
     "name": "stdout",
     "output_type": "stream",
     "text": [
      " * sqlite:///tysql/tysql.sqlite\n",
      "Done.\n"
     ]
    },
    {
     "data": {
      "text/html": [
       "<table>\n",
       "    <tr>\n",
       "        <th>cust_id</th>\n",
       "        <th>cust_name</th>\n",
       "        <th>cust_address</th>\n",
       "        <th>cust_city</th>\n",
       "        <th>cust_state</th>\n",
       "        <th>cust_zip</th>\n",
       "        <th>cust_country</th>\n",
       "        <th>cust_contact</th>\n",
       "        <th>cust_email</th>\n",
       "    </tr>\n",
       "    <tr>\n",
       "        <td>1000000006</td>\n",
       "        <td>Toy Land</td>\n",
       "        <td>123 Any Street</td>\n",
       "        <td>New York</td>\n",
       "        <td>NY</td>\n",
       "        <td>11111</td>\n",
       "        <td>USA</td>\n",
       "        <td>None</td>\n",
       "        <td>None</td>\n",
       "    </tr>\n",
       "</table>"
      ],
      "text/plain": [
       "[('1000000006', 'Toy Land', '123 Any Street', 'New York', 'NY', '11111', 'USA', None, None)]"
      ]
     },
     "execution_count": 77,
     "metadata": {},
     "output_type": "execute_result"
    }
   ],
   "source": [
    "%sql Select * from Customers where cust_id = '1000000006';"
   ]
  },
  {
   "cell_type": "code",
   "execution_count": 78,
   "id": "80d39c38",
   "metadata": {},
   "outputs": [
    {
     "name": "stdout",
     "output_type": "stream",
     "text": [
      " * sqlite:///tysql/tysql.sqlite\n",
      "1 rows affected.\n"
     ]
    },
    {
     "data": {
      "text/plain": [
       "[]"
      ]
     },
     "execution_count": 78,
     "metadata": {},
     "output_type": "execute_result"
    }
   ],
   "source": [
    "%sql UPDATE Customers\\\n",
    "SET cust_contact = 'Sam Roberts', cust_email = 'sam@toyland.com'\\\n",
    "WHERE cust_id = '1000000006';"
   ]
  },
  {
   "cell_type": "code",
   "execution_count": 79,
   "id": "7bf41a24",
   "metadata": {},
   "outputs": [
    {
     "name": "stdout",
     "output_type": "stream",
     "text": [
      " * sqlite:///tysql/tysql.sqlite\n",
      "Done.\n"
     ]
    },
    {
     "data": {
      "text/html": [
       "<table>\n",
       "    <tr>\n",
       "        <th>cust_id</th>\n",
       "        <th>cust_name</th>\n",
       "        <th>cust_address</th>\n",
       "        <th>cust_city</th>\n",
       "        <th>cust_state</th>\n",
       "        <th>cust_zip</th>\n",
       "        <th>cust_country</th>\n",
       "        <th>cust_contact</th>\n",
       "        <th>cust_email</th>\n",
       "    </tr>\n",
       "    <tr>\n",
       "        <td>1000000006</td>\n",
       "        <td>Toy Land</td>\n",
       "        <td>123 Any Street</td>\n",
       "        <td>New York</td>\n",
       "        <td>NY</td>\n",
       "        <td>11111</td>\n",
       "        <td>USA</td>\n",
       "        <td>Sam Roberts</td>\n",
       "        <td>sam@toyland.com</td>\n",
       "    </tr>\n",
       "</table>"
      ],
      "text/plain": [
       "[('1000000006', 'Toy Land', '123 Any Street', 'New York', 'NY', '11111', 'USA', 'Sam Roberts', 'sam@toyland.com')]"
      ]
     },
     "execution_count": 79,
     "metadata": {},
     "output_type": "execute_result"
    }
   ],
   "source": [
    "%sql Select * from Customers where cust_id = '1000000006';"
   ]
  },
  {
   "cell_type": "markdown",
   "id": "24238e9e",
   "metadata": {},
   "source": [
    "Чтобы удалить значение из столбца, можно присвоить ему значение NULL (если определение таблицы позволяет вводить в нее значения NULL). Это можно сделать следующим образом."
   ]
  },
  {
   "cell_type": "code",
   "execution_count": 80,
   "id": "2c592c0f",
   "metadata": {},
   "outputs": [
    {
     "name": "stdout",
     "output_type": "stream",
     "text": [
      " * sqlite:///tysql/tysql.sqlite\n",
      "1 rows affected.\n",
      "Done.\n"
     ]
    },
    {
     "data": {
      "text/html": [
       "<table>\n",
       "    <tr>\n",
       "        <th>cust_id</th>\n",
       "        <th>cust_name</th>\n",
       "        <th>cust_address</th>\n",
       "        <th>cust_city</th>\n",
       "        <th>cust_state</th>\n",
       "        <th>cust_zip</th>\n",
       "        <th>cust_country</th>\n",
       "        <th>cust_contact</th>\n",
       "        <th>cust_email</th>\n",
       "    </tr>\n",
       "    <tr>\n",
       "        <td>1000000006</td>\n",
       "        <td>Toy Land</td>\n",
       "        <td>123 Any Street</td>\n",
       "        <td>New York</td>\n",
       "        <td>NY</td>\n",
       "        <td>11111</td>\n",
       "        <td>USA</td>\n",
       "        <td>Sam Roberts</td>\n",
       "        <td>None</td>\n",
       "    </tr>\n",
       "</table>"
      ],
      "text/plain": [
       "[('1000000006', 'Toy Land', '123 Any Street', 'New York', 'NY', '11111', 'USA', 'Sam Roberts', None)]"
      ]
     },
     "execution_count": 80,
     "metadata": {},
     "output_type": "execute_result"
    }
   ],
   "source": [
    "%sql UPDATE Customers\\\n",
    "SET cust_email = NULL\\\n",
    "WHERE cust_id = '1000000006';\\\n",
    "Select * from Customers where cust_id = '1000000006';"
   ]
  },
  {
   "cell_type": "markdown",
   "id": "29b0a45f",
   "metadata": {},
   "source": [
    "# Удаление данных\n",
    "Для удаления данных из таблицы предназначена инструкция DELETE. Ее можно использовать двумя способами:\\\n",
    "► для удаления определенных строк из таблицы;\\\n",
    "► для удаления всех строк из таблицы."
   ]
  },
  {
   "cell_type": "markdown",
   "id": "fca3ca5e",
   "metadata": {},
   "source": [
    "Следующая инструкция удаляет одну строку из таблицы Customers."
   ]
  },
  {
   "cell_type": "code",
   "execution_count": 81,
   "id": "c72106ad",
   "metadata": {},
   "outputs": [
    {
     "name": "stdout",
     "output_type": "stream",
     "text": [
      " * sqlite:///tysql/tysql.sqlite\n",
      "1 rows affected.\n",
      "Done.\n"
     ]
    },
    {
     "data": {
      "text/html": [
       "<table>\n",
       "    <tr>\n",
       "        <th>cust_id</th>\n",
       "        <th>cust_name</th>\n",
       "        <th>cust_address</th>\n",
       "        <th>cust_city</th>\n",
       "        <th>cust_state</th>\n",
       "        <th>cust_zip</th>\n",
       "        <th>cust_country</th>\n",
       "        <th>cust_contact</th>\n",
       "        <th>cust_email</th>\n",
       "    </tr>\n",
       "    <tr>\n",
       "        <td>1000000001</td>\n",
       "        <td>Village Toys</td>\n",
       "        <td>200 Maple Lane</td>\n",
       "        <td>Detroit</td>\n",
       "        <td>MI</td>\n",
       "        <td>44444</td>\n",
       "        <td>USA</td>\n",
       "        <td>John Smith</td>\n",
       "        <td>sales@villagetoys.com</td>\n",
       "    </tr>\n",
       "    <tr>\n",
       "        <td>1000000002</td>\n",
       "        <td>Kids Place</td>\n",
       "        <td>333 South Lake Drive</td>\n",
       "        <td>Columbus</td>\n",
       "        <td>OH</td>\n",
       "        <td>43333</td>\n",
       "        <td>USA</td>\n",
       "        <td>Michelle Green</td>\n",
       "        <td>None</td>\n",
       "    </tr>\n",
       "    <tr>\n",
       "        <td>1000000003</td>\n",
       "        <td>Fun4All</td>\n",
       "        <td>1 Sunny Place</td>\n",
       "        <td>Muncie</td>\n",
       "        <td>IN</td>\n",
       "        <td>42222</td>\n",
       "        <td>USA</td>\n",
       "        <td>Jim Jones</td>\n",
       "        <td>jjones@fun4all.com</td>\n",
       "    </tr>\n",
       "    <tr>\n",
       "        <td>1000000004</td>\n",
       "        <td>Fun4All</td>\n",
       "        <td>829 Riverside Drive</td>\n",
       "        <td>Phoenix</td>\n",
       "        <td>AZ</td>\n",
       "        <td>88888</td>\n",
       "        <td>USA</td>\n",
       "        <td>Denise L. Stephens</td>\n",
       "        <td>dstephens@fun4all.com</td>\n",
       "    </tr>\n",
       "    <tr>\n",
       "        <td>1000000005</td>\n",
       "        <td>The Toy Store</td>\n",
       "        <td>4545 53rd Street</td>\n",
       "        <td>Chicago</td>\n",
       "        <td>IL</td>\n",
       "        <td>54545</td>\n",
       "        <td>USA</td>\n",
       "        <td>Sam Roberts</td>\n",
       "        <td>None</td>\n",
       "    </tr>\n",
       "    <tr>\n",
       "        <td>1000000010</td>\n",
       "        <td>Toys Emporium</td>\n",
       "        <td>None</td>\n",
       "        <td>None</td>\n",
       "        <td>None</td>\n",
       "        <td>None</td>\n",
       "        <td>None</td>\n",
       "        <td>None</td>\n",
       "        <td>None</td>\n",
       "    </tr>\n",
       "</table>"
      ],
      "text/plain": [
       "[('1000000001', 'Village Toys', '200 Maple Lane', 'Detroit', 'MI', '44444', 'USA', 'John Smith', 'sales@villagetoys.com'),\n",
       " ('1000000002', 'Kids Place', '333 South Lake Drive', 'Columbus', 'OH', '43333', 'USA', 'Michelle Green', None),\n",
       " ('1000000003', 'Fun4All', '1 Sunny Place', 'Muncie', 'IN', '42222', 'USA', 'Jim Jones', 'jjones@fun4all.com'),\n",
       " ('1000000004', 'Fun4All', '829 Riverside Drive', 'Phoenix', 'AZ', '88888', 'USA', 'Denise L. Stephens', 'dstephens@fun4all.com'),\n",
       " ('1000000005', 'The Toy Store', '4545 53rd Street', 'Chicago', 'IL', '54545', 'USA', 'Sam Roberts', None),\n",
       " ('1000000010', 'Toys Emporium', None, None, None, None, None, None, None)]"
      ]
     },
     "execution_count": 81,
     "metadata": {},
     "output_type": "execute_result"
    }
   ],
   "source": [
    "%sql DELETE FROM Customers WHERE cust_id = '1000000006';\\\n",
    "Select * from Customers"
   ]
  },
  {
   "cell_type": "markdown",
   "id": "efc08ec4",
   "metadata": {},
   "source": [
    "###### СОВЕТ: более быстрое удаление\n",
    "Если необходимо удалить все строки из таблицы, не используйте \\\n",
    "инструкцию delete. Для этого существует инструкция TRUNCATE table, \\\n",
    "которая делает то же самое, но гораздо быстрее (потому что\\\n",
    "изменения данных не регистрируются в журнале СУБД)."
   ]
  },
  {
   "cell_type": "markdown",
   "id": "a68c4cf7",
   "metadata": {},
   "source": [
    "## УРОК 17\n",
    "# Создание таблиц и работа с ними"
   ]
  },
  {
   "cell_type": "code",
   "execution_count": 82,
   "id": "4024231a",
   "metadata": {},
   "outputs": [
    {
     "name": "stdout",
     "output_type": "stream",
     "text": [
      " * sqlite:///tysql/tysql.sqlite\n",
      "Done.\n"
     ]
    },
    {
     "data": {
      "text/plain": [
       "[]"
      ]
     },
     "execution_count": 82,
     "metadata": {},
     "output_type": "execute_result"
    }
   ],
   "source": [
    "%sql CREATE TABLE Products2 (\\\n",
    "prod_id    CHAR(10)      NOT NULL,\\\n",
    "vend_id    CHAR(10)      NOT NULL,\\\n",
    "prod_name  CHAR(254)     NOT NULL,\\\n",
    "prod_price DECIMAL(8,2)  NOT NULL,\\\n",
    "prod_desc  VARCHAR(1000) NULL);"
   ]
  },
  {
   "cell_type": "markdown",
   "id": "bd142d52",
   "metadata": {},
   "source": [
    "синтаксис инструкции CREATE TABLE зависит от СУБД, \\\n",
    "и данный пример наглядно доказывает это. В Oracle, \\\n",
    "PostgreSQL, SQL Server и SQLite инструкция будет \\\n",
    "работать в приведенной форме, а вот в MySQL тип \\\n",
    "VARCHAR должен быть заменен типом text. В DB2 \\\n",
    "значение NULL должно быть удалено из последнего столбца."
   ]
  },
  {
   "cell_type": "code",
   "execution_count": 83,
   "id": "3d3daf99",
   "metadata": {},
   "outputs": [
    {
     "name": "stdout",
     "output_type": "stream",
     "text": [
      " * sqlite:///tysql/tysql.sqlite\n",
      "Done.\n"
     ]
    },
    {
     "data": {
      "text/html": [
       "<table>\n",
       "    <tr>\n",
       "        <th>type</th>\n",
       "        <th>name</th>\n",
       "        <th>tbl_name</th>\n",
       "        <th>rootpage</th>\n",
       "        <th>sql</th>\n",
       "    </tr>\n",
       "    <tr>\n",
       "        <td>table</td>\n",
       "        <td>Customers</td>\n",
       "        <td>Customers</td>\n",
       "        <td>2</td>\n",
       "        <td>CREATE TABLE Customers<br>(<br>  cust_id      char(10)  NOT NULL ,<br>  cust_name    char(50)  NOT NULL ,<br>  cust_address char(50)  NULL ,<br>  cust_city    char(50)  NULL ,<br>  cust_state   char(5)   NULL ,<br>  cust_zip     char(10)  NULL ,<br>  cust_country char(50)  NULL ,<br>  cust_contact char(50)  NULL ,<br>  cust_email   char(255) NULL ,<br>  PRIMARY KEY (cust_id)<br>)</td>\n",
       "    </tr>\n",
       "    <tr>\n",
       "        <td>table</td>\n",
       "        <td>OrderItems</td>\n",
       "        <td>OrderItems</td>\n",
       "        <td>4</td>\n",
       "        <td>CREATE TABLE OrderItems<br>(<br>  order_num  int          NOT NULL                      ,<br>  order_item int          NOT NULL                      ,<br>  prod_id    char(10)     NOT NULL                      ,<br>  quantity   int          NOT NULL                      ,<br>  item_price decimal(8,2) NOT NULL                      ,<br>  PRIMARY KEY (order_num, order_item)                   ,<br>  FOREIGN KEY (order_num) REFERENCES Orders (order_num) ,<br>  FOREIGN KEY (prod_id) REFERENCES Products (prod_id)<br>)</td>\n",
       "    </tr>\n",
       "    <tr>\n",
       "        <td>table</td>\n",
       "        <td>Orders</td>\n",
       "        <td>Orders</td>\n",
       "        <td>7</td>\n",
       "        <td>CREATE TABLE Orders<br>(<br>  order_num  int      NOT NULL ,<br>  order_date datetime NOT NULL ,<br>  cust_id    char(10) NOT NULL ,<br>  PRIMARY KEY (order_num)      ,<br>  FOREIGN KEY (cust_id) REFERENCES Customers (cust_id)<br>)</td>\n",
       "    </tr>\n",
       "    <tr>\n",
       "        <td>table</td>\n",
       "        <td>Products</td>\n",
       "        <td>Products</td>\n",
       "        <td>10</td>\n",
       "        <td>CREATE TABLE Products<br>(<br>  prod_id    char(10)      NOT NULL ,<br>  vend_id    char(10)      NOT NULL ,<br>  prod_name  char(255)     NOT NULL ,<br>  prod_price decimal(8,2)  NOT NULL ,<br>  prod_desc  text          NULL     ,<br>  PRIMARY KEY (prod_id)             ,<br>  FOREIGN KEY (vend_id) REFERENCES Vendors (vend_id)<br>)</td>\n",
       "    </tr>\n",
       "    <tr>\n",
       "        <td>table</td>\n",
       "        <td>Vendors</td>\n",
       "        <td>Vendors</td>\n",
       "        <td>12</td>\n",
       "        <td>CREATE TABLE Vendors<br>(<br>  vend_id      char(10) NOT NULL ,<br>  vend_name    char(50) NOT NULL ,<br>  vend_address char(50) NULL     ,<br>  vend_city    char(50) NULL     ,<br>  vend_state   char(5)  NULL     ,<br>  vend_zip     char(10) NULL     ,<br>  vend_country char(50) NULL     ,<br>  PRIMARY KEY (vend_id)<br>)</td>\n",
       "    </tr>\n",
       "    <tr>\n",
       "        <td>table</td>\n",
       "        <td>Products2</td>\n",
       "        <td>Products2</td>\n",
       "        <td>15</td>\n",
       "        <td>CREATE TABLE Products2 ( prod_id CHAR(10) NOT NULL, vend_id CHAR(10) NOT NULL, prod_name CHAR(254) NOT NULL, prod_price DECIMAL(8,2) NOT NULL, prod_desc VARCHAR(1000) NULL)</td>\n",
       "    </tr>\n",
       "</table>"
      ],
      "text/plain": [
       "[('table', 'Customers', 'Customers', 2, 'CREATE TABLE Customers\\n(\\n  cust_id      char(10)  NOT NULL ,\\n  cust_name    char(50)  NOT NULL ,\\n  cust_address char(50)  NULL ,\\n  cust_city     ... (60 characters truncated) ... p     char(10)  NULL ,\\n  cust_country char(50)  NULL ,\\n  cust_contact char(50)  NULL ,\\n  cust_email   char(255) NULL ,\\n  PRIMARY KEY (cust_id)\\n)'),\n",
       " ('table', 'OrderItems', 'OrderItems', 4, 'CREATE TABLE OrderItems\\n(\\n  order_num  int          NOT NULL                      ,\\n  order_item int          NOT NULL                      ,\\n  p ... (199 characters truncated) ...  order_item)                   ,\\n  FOREIGN KEY (order_num) REFERENCES Orders (order_num) ,\\n  FOREIGN KEY (prod_id) REFERENCES Products (prod_id)\\n)'),\n",
       " ('table', 'Orders', 'Orders', 7, 'CREATE TABLE Orders\\n(\\n  order_num  int      NOT NULL ,\\n  order_date datetime NOT NULL ,\\n  cust_id    char(10) NOT NULL ,\\n  PRIMARY KEY (order_num)      ,\\n  FOREIGN KEY (cust_id) REFERENCES Customers (cust_id)\\n)'),\n",
       " ('table', 'Products', 'Products', 10, 'CREATE TABLE Products\\n(\\n  prod_id    char(10)      NOT NULL ,\\n  vend_id    char(10)      NOT NULL ,\\n  prod_name  char(255)     NOT NULL ,\\n  prod ... (17 characters truncated) ... 2)  NOT NULL ,\\n  prod_desc  text          NULL     ,\\n  PRIMARY KEY (prod_id)             ,\\n  FOREIGN KEY (vend_id) REFERENCES Vendors (vend_id)\\n)'),\n",
       " ('table', 'Vendors', 'Vendors', 12, 'CREATE TABLE Vendors\\n(\\n  vend_id      char(10) NOT NULL ,\\n  vend_name    char(50) NOT NULL ,\\n  vend_address char(50) NULL     ,\\n  vend_city    c ... (5 characters truncated) ... 0) NULL     ,\\n  vend_state   char(5)  NULL     ,\\n  vend_zip     char(10) NULL     ,\\n  vend_country char(50) NULL     ,\\n  PRIMARY KEY (vend_id)\\n)'),\n",
       " ('table', 'Products2', 'Products2', 15, 'CREATE TABLE Products2 ( prod_id CHAR(10) NOT NULL, vend_id CHAR(10) NOT NULL, prod_name CHAR(254) NOT NULL, prod_price DECIMAL(8,2) NOT NULL, prod_desc VARCHAR(1000) NULL)')]"
      ]
     },
     "execution_count": 83,
     "metadata": {},
     "output_type": "execute_result"
    }
   ],
   "source": [
    "%sql SELECT * FROM sqlite_master WHERE type='table'"
   ]
  },
  {
   "cell_type": "code",
   "execution_count": 84,
   "id": "a5c9b4bf",
   "metadata": {},
   "outputs": [
    {
     "name": "stdout",
     "output_type": "stream",
     "text": [
      " * sqlite:///tysql/tysql.sqlite\n",
      "Done.\n"
     ]
    },
    {
     "data": {
      "text/html": [
       "<table>\n",
       "    <tr>\n",
       "        <th>prod_id</th>\n",
       "        <th>vend_id</th>\n",
       "        <th>prod_name</th>\n",
       "        <th>prod_price</th>\n",
       "        <th>prod_desc</th>\n",
       "    </tr>\n",
       "</table>"
      ],
      "text/plain": [
       "[]"
      ]
     },
     "execution_count": 84,
     "metadata": {},
     "output_type": "execute_result"
    }
   ],
   "source": [
    "%sql SELECT * FROM Products2"
   ]
  },
  {
   "attachments": {
    "image.png": {
     "image/png": "[encoded data removed]"
    }
   },
   "cell_type": "markdown",
   "id": "f576987d",
   "metadata": {},
   "source": [
    "![image.png](attachment:image.png)"
   ]
  },
  {
   "cell_type": "code",
   "execution_count": 85,
   "id": "fc3f3e55",
   "metadata": {},
   "outputs": [
    {
     "name": "stdout",
     "output_type": "stream",
     "text": [
      " * sqlite:///tysql/tysql.sqlite\n",
      "Done.\n"
     ]
    },
    {
     "data": {
      "text/html": [
       "<table>\n",
       "    <tr>\n",
       "        <th>date(&#x27;now&#x27;)</th>\n",
       "    </tr>\n",
       "    <tr>\n",
       "        <td>2022-06-13</td>\n",
       "    </tr>\n",
       "</table>"
      ],
      "text/plain": [
       "[('2022-06-13',)]"
      ]
     },
     "execution_count": 85,
     "metadata": {},
     "output_type": "execute_result"
    }
   ],
   "source": [
    "%sql SELECT date('now')"
   ]
  },
  {
   "cell_type": "markdown",
   "id": "c96216b1",
   "metadata": {},
   "source": [
    "# Обновление таблиц\n",
    "Для того чтобы обновить определение таблицы, следует воспользоваться инструкцией ALTER TABLE."
   ]
  },
  {
   "cell_type": "code",
   "execution_count": 86,
   "id": "f228d66d",
   "metadata": {},
   "outputs": [
    {
     "name": "stdout",
     "output_type": "stream",
     "text": [
      " * sqlite:///tysql/tysql.sqlite\n",
      "Done.\n",
      "Done.\n"
     ]
    },
    {
     "data": {
      "text/html": [
       "<table>\n",
       "    <tr>\n",
       "        <th>vend_id</th>\n",
       "        <th>vend_name</th>\n",
       "        <th>vend_address</th>\n",
       "        <th>vend_city</th>\n",
       "        <th>vend_state</th>\n",
       "        <th>vend_zip</th>\n",
       "        <th>vend_country</th>\n",
       "        <th>vend_phone</th>\n",
       "    </tr>\n",
       "    <tr>\n",
       "        <td>BRS01</td>\n",
       "        <td>Bears R Us</td>\n",
       "        <td>123 Main Street</td>\n",
       "        <td>Bear Town</td>\n",
       "        <td>MI</td>\n",
       "        <td>44444</td>\n",
       "        <td>USA</td>\n",
       "        <td>None</td>\n",
       "    </tr>\n",
       "    <tr>\n",
       "        <td>BRE02</td>\n",
       "        <td>Bear Emporium</td>\n",
       "        <td>500 Park Street</td>\n",
       "        <td>Anytown</td>\n",
       "        <td>OH</td>\n",
       "        <td>44333</td>\n",
       "        <td>USA</td>\n",
       "        <td>None</td>\n",
       "    </tr>\n",
       "    <tr>\n",
       "        <td>DLL01</td>\n",
       "        <td>Doll House Inc.</td>\n",
       "        <td>555 High Street</td>\n",
       "        <td>Dollsville</td>\n",
       "        <td>CA</td>\n",
       "        <td>99999</td>\n",
       "        <td>USA</td>\n",
       "        <td>None</td>\n",
       "    </tr>\n",
       "    <tr>\n",
       "        <td>FRB01</td>\n",
       "        <td>Furball Inc.</td>\n",
       "        <td>1000 5th Avenue</td>\n",
       "        <td>New York</td>\n",
       "        <td>NY</td>\n",
       "        <td>11111</td>\n",
       "        <td>USA</td>\n",
       "        <td>None</td>\n",
       "    </tr>\n",
       "    <tr>\n",
       "        <td>FNG01</td>\n",
       "        <td>Fun and Games</td>\n",
       "        <td>42 Galaxy Road</td>\n",
       "        <td>London</td>\n",
       "        <td>None</td>\n",
       "        <td>N16 6PS</td>\n",
       "        <td>England</td>\n",
       "        <td>None</td>\n",
       "    </tr>\n",
       "    <tr>\n",
       "        <td>JTS01</td>\n",
       "        <td>Jouets et ours</td>\n",
       "        <td>1 Rue Amusement</td>\n",
       "        <td>Paris</td>\n",
       "        <td>None</td>\n",
       "        <td>45678</td>\n",
       "        <td>France</td>\n",
       "        <td>None</td>\n",
       "    </tr>\n",
       "</table>"
      ],
      "text/plain": [
       "[('BRS01', 'Bears R Us', '123 Main Street', 'Bear Town', 'MI', '44444', 'USA', None),\n",
       " ('BRE02', 'Bear Emporium', '500 Park Street', 'Anytown', 'OH', '44333', 'USA', None),\n",
       " ('DLL01', 'Doll House Inc.', '555 High Street', 'Dollsville', 'CA', '99999', 'USA', None),\n",
       " ('FRB01', 'Furball Inc.', '1000 5th Avenue', 'New York', 'NY', '11111', 'USA', None),\n",
       " ('FNG01', 'Fun and Games', '42 Galaxy Road', 'London', None, 'N16 6PS', 'England', None),\n",
       " ('JTS01', 'Jouets et ours', '1 Rue Amusement', 'Paris', None, '45678', 'France', None)]"
      ]
     },
     "execution_count": 86,
     "metadata": {},
     "output_type": "execute_result"
    }
   ],
   "source": [
    "# Поскольку добавление столбцов в таблицу — единственная операция, \n",
    "# поддерживаемая всеми СУБД, именно ее мы и рассмотрим в качестве примера.\n",
    "# Посредством этой инструкции в таблицу Vendors добавляется столбец vend_phone. \n",
    "# Должен быть указан тип данных столбца.\n",
    "\n",
    "%sql ALTER TABLE Vendors ADD vend_phone CHAR(20);\\\n",
    "SELECT * FROM Vendors"
   ]
  },
  {
   "cell_type": "code",
   "execution_count": 87,
   "id": "4832a6de",
   "metadata": {},
   "outputs": [
    {
     "name": "stdout",
     "output_type": "stream",
     "text": [
      " * sqlite:///tysql/tysql.sqlite\n",
      "Done.\n",
      "Done.\n"
     ]
    },
    {
     "data": {
      "text/html": [
       "<table>\n",
       "    <tr>\n",
       "        <th>vend_id</th>\n",
       "        <th>vend_name</th>\n",
       "        <th>vend_address</th>\n",
       "        <th>vend_city</th>\n",
       "        <th>vend_state</th>\n",
       "        <th>vend_zip</th>\n",
       "        <th>vend_country</th>\n",
       "    </tr>\n",
       "    <tr>\n",
       "        <td>BRS01</td>\n",
       "        <td>Bears R Us</td>\n",
       "        <td>123 Main Street</td>\n",
       "        <td>Bear Town</td>\n",
       "        <td>MI</td>\n",
       "        <td>44444</td>\n",
       "        <td>USA</td>\n",
       "    </tr>\n",
       "    <tr>\n",
       "        <td>BRE02</td>\n",
       "        <td>Bear Emporium</td>\n",
       "        <td>500 Park Street</td>\n",
       "        <td>Anytown</td>\n",
       "        <td>OH</td>\n",
       "        <td>44333</td>\n",
       "        <td>USA</td>\n",
       "    </tr>\n",
       "    <tr>\n",
       "        <td>DLL01</td>\n",
       "        <td>Doll House Inc.</td>\n",
       "        <td>555 High Street</td>\n",
       "        <td>Dollsville</td>\n",
       "        <td>CA</td>\n",
       "        <td>99999</td>\n",
       "        <td>USA</td>\n",
       "    </tr>\n",
       "    <tr>\n",
       "        <td>FRB01</td>\n",
       "        <td>Furball Inc.</td>\n",
       "        <td>1000 5th Avenue</td>\n",
       "        <td>New York</td>\n",
       "        <td>NY</td>\n",
       "        <td>11111</td>\n",
       "        <td>USA</td>\n",
       "    </tr>\n",
       "    <tr>\n",
       "        <td>FNG01</td>\n",
       "        <td>Fun and Games</td>\n",
       "        <td>42 Galaxy Road</td>\n",
       "        <td>London</td>\n",
       "        <td>None</td>\n",
       "        <td>N16 6PS</td>\n",
       "        <td>England</td>\n",
       "    </tr>\n",
       "    <tr>\n",
       "        <td>JTS01</td>\n",
       "        <td>Jouets et ours</td>\n",
       "        <td>1 Rue Amusement</td>\n",
       "        <td>Paris</td>\n",
       "        <td>None</td>\n",
       "        <td>45678</td>\n",
       "        <td>France</td>\n",
       "    </tr>\n",
       "</table>"
      ],
      "text/plain": [
       "[('BRS01', 'Bears R Us', '123 Main Street', 'Bear Town', 'MI', '44444', 'USA'),\n",
       " ('BRE02', 'Bear Emporium', '500 Park Street', 'Anytown', 'OH', '44333', 'USA'),\n",
       " ('DLL01', 'Doll House Inc.', '555 High Street', 'Dollsville', 'CA', '99999', 'USA'),\n",
       " ('FRB01', 'Furball Inc.', '1000 5th Avenue', 'New York', 'NY', '11111', 'USA'),\n",
       " ('FNG01', 'Fun and Games', '42 Galaxy Road', 'London', None, 'N16 6PS', 'England'),\n",
       " ('JTS01', 'Jouets et ours', '1 Rue Amusement', 'Paris', None, '45678', 'France')]"
      ]
     },
     "execution_count": 87,
     "metadata": {},
     "output_type": "execute_result"
    }
   ],
   "source": [
    "# Другие операции, такие как изменение или удаление столбцов, \n",
    "# задание ограничений или ключей, требуют похожего синтаксиса. \n",
    "# (Отметим, что следующий пример будет работать уже не во всех СУБД.)\n",
    "\n",
    "%sql ALTER TABLE Vendors DROP COLUMN vend_phone;\\\n",
    "SELECT * FROM Vendors"
   ]
  },
  {
   "cell_type": "markdown",
   "id": "6fddcc81",
   "metadata": {},
   "source": [
    "ПРИМЕЧАНИЕ: инструкция ALTER TABLE в SQLite\\\n",
    "SQLite ограничивает перечень операций, которые можно выполнять \\\n",
    "с помощью инструкции alter table. Одно из наиболее важных \\\n",
    "ограничений заключается в том, что в этой СУБД нельзя применять \\\n",
    "данную инструкцию для изменения первичных и внешних ключей. \\\n",
    "Они должны указываться только в начальной ИНСТРУКЦИИ CREATE TABLE."
   ]
  },
  {
   "cell_type": "markdown",
   "id": "d6ad135e",
   "metadata": {},
   "source": [
    "# Удаление таблиц"
   ]
  },
  {
   "cell_type": "code",
   "execution_count": 88,
   "id": "bc214623",
   "metadata": {},
   "outputs": [
    {
     "name": "stdout",
     "output_type": "stream",
     "text": [
      " * sqlite:///tysql/tysql.sqlite\n",
      "Done.\n"
     ]
    },
    {
     "data": {
      "text/plain": [
       "[]"
      ]
     },
     "execution_count": 88,
     "metadata": {},
     "output_type": "execute_result"
    }
   ],
   "source": [
    "# Удаление таблиц (имеется в виду удаление самих таблиц, \n",
    "# а не их содержимого) — очень простой процесс. \n",
    "# Таблицы удаляются с помощью инструкции DROP TABLE.\n",
    "\n",
    "%sql DROP TABLE Products2;"
   ]
  },
  {
   "cell_type": "markdown",
   "id": "b6e663ab",
   "metadata": {},
   "source": [
    "# Переименование таблиц"
   ]
  },
  {
   "cell_type": "code",
   "execution_count": 90,
   "id": "401ba650",
   "metadata": {},
   "outputs": [
    {
     "name": "stdout",
     "output_type": "stream",
     "text": [
      " * sqlite:///tysql/tysql.sqlite\n",
      "Done.\n",
      "Done.\n"
     ]
    },
    {
     "data": {
      "text/plain": [
       "[]"
      ]
     },
     "execution_count": 90,
     "metadata": {},
     "output_type": "execute_result"
    }
   ],
   "source": [
    "# Пользователи DB2, MariaDB, MySQL, Oracle и PostgreSQL могут \n",
    "# применять инструкцию RENAME. \n",
    "# Пользователям SQL Server доступна хранимая процедура sp_rename. \n",
    "# SQLite поддерживает переименование таблиц посредством инструкции ALTER TABLE.\n",
    "\n",
    "%sql CREATE TABLE CustCopy AS SELECT * FROM Customers;\\\n",
    "ALTER TABLE CustCopy RENAME TO CustCopy2;"
   ]
  },
  {
   "cell_type": "code",
   "execution_count": 91,
   "id": "086cd8bd",
   "metadata": {},
   "outputs": [
    {
     "name": "stdout",
     "output_type": "stream",
     "text": [
      " * sqlite:///tysql/tysql.sqlite\n",
      "Done.\n"
     ]
    },
    {
     "data": {
      "text/html": [
       "<table>\n",
       "    <tr>\n",
       "        <th>type</th>\n",
       "        <th>name</th>\n",
       "        <th>tbl_name</th>\n",
       "        <th>rootpage</th>\n",
       "        <th>sql</th>\n",
       "    </tr>\n",
       "    <tr>\n",
       "        <td>table</td>\n",
       "        <td>CustCopy2</td>\n",
       "        <td>CustCopy2</td>\n",
       "        <td>15</td>\n",
       "        <td>CREATE TABLE &quot;CustCopy2&quot;(<br>  cust_id TEXT,<br>  cust_name TEXT,<br>  cust_address TEXT,<br>  cust_city TEXT,<br>  cust_state TEXT,<br>  cust_zip TEXT,<br>  cust_country TEXT,<br>  cust_contact TEXT,<br>  cust_email TEXT<br>)</td>\n",
       "    </tr>\n",
       "</table>"
      ],
      "text/plain": [
       "[('table', 'CustCopy2', 'CustCopy2', 15, 'CREATE TABLE \"CustCopy2\"(\\n  cust_id TEXT,\\n  cust_name TEXT,\\n  cust_address TEXT,\\n  cust_city TEXT,\\n  cust_state TEXT,\\n  cust_zip TEXT,\\n  cust_country TEXT,\\n  cust_contact TEXT,\\n  cust_email TEXT\\n)')]"
      ]
     },
     "execution_count": 91,
     "metadata": {},
     "output_type": "execute_result"
    }
   ],
   "source": [
    "%sql SELECT * FROM sqlite_master WHERE type='table' AND name = 'CustCopy2'"
   ]
  },
  {
   "cell_type": "markdown",
   "id": "286a9f3b",
   "metadata": {},
   "source": [
    "# УРОК 18\n",
    "Представления"
   ]
  },
  {
   "cell_type": "markdown",
   "id": "6d1b2553",
   "metadata": {},
   "source": [
    "## Зачем нужны представления\n",
    "► Повторное использование инструкций SQL.\\\n",
    "► Упрощение сложных запросов. После того как запрос подготовлен, его можно с легкостью использовать повторно, и для этого не придется разбираться в нюансах его работы.\\\n",
    "► Вывод фрагментов таблицы вместо всей таблицы.\\\n",
    "► Защита данных. Пользователям можно предоставить доступ к определенному подмножеству таблиц, а не ко всем таблицам.\\\n",
    "► Изменение форматирования и способа отображения данных. Представления могут возвращать данные, отформатированные и отображаемые не так, как они хранятся в таблицах."
   ]
  },
  {
   "cell_type": "code",
   "execution_count": 92,
   "id": "f13f1234",
   "metadata": {},
   "outputs": [
    {
     "name": "stdout",
     "output_type": "stream",
     "text": [
      " * sqlite:///tysql/tysql.sqlite\n",
      "Done.\n"
     ]
    },
    {
     "data": {
      "text/plain": [
       "[]"
      ]
     },
     "execution_count": 92,
     "metadata": {},
     "output_type": "execute_result"
    }
   ],
   "source": [
    "%sql CREATE VIEW ProductCustomers \\\n",
    "AS SELECT cust_name, cust_contact, prod_id \\\n",
    "FROM Customers, Orders, OrderItems \\\n",
    "WHERE Customers.cust_id = Orders.cust_id \\\n",
    "AND OrderItems.order_num = Orders.order_num;"
   ]
  },
  {
   "cell_type": "code",
   "execution_count": 93,
   "id": "559a0372",
   "metadata": {},
   "outputs": [
    {
     "name": "stdout",
     "output_type": "stream",
     "text": [
      " * sqlite:///tysql/tysql.sqlite\n",
      "Done.\n"
     ]
    },
    {
     "data": {
      "text/html": [
       "<table>\n",
       "    <tr>\n",
       "        <th>cust_name</th>\n",
       "        <th>cust_contact</th>\n",
       "        <th>prod_id</th>\n",
       "    </tr>\n",
       "    <tr>\n",
       "        <td>Fun4All</td>\n",
       "        <td>Denise L. Stephens</td>\n",
       "        <td>BNBG01</td>\n",
       "    </tr>\n",
       "    <tr>\n",
       "        <td>The Toy Store</td>\n",
       "        <td>Sam Roberts</td>\n",
       "        <td>BNBG01</td>\n",
       "    </tr>\n",
       "    <tr>\n",
       "        <td>Village Toys</td>\n",
       "        <td>John Smith</td>\n",
       "        <td>BNBG01</td>\n",
       "    </tr>\n",
       "    <tr>\n",
       "        <td>Fun4All</td>\n",
       "        <td>Denise L. Stephens</td>\n",
       "        <td>BNBG02</td>\n",
       "    </tr>\n",
       "    <tr>\n",
       "        <td>The Toy Store</td>\n",
       "        <td>Sam Roberts</td>\n",
       "        <td>BNBG02</td>\n",
       "    </tr>\n",
       "    <tr>\n",
       "        <td>Village Toys</td>\n",
       "        <td>John Smith</td>\n",
       "        <td>BNBG02</td>\n",
       "    </tr>\n",
       "    <tr>\n",
       "        <td>Fun4All</td>\n",
       "        <td>Denise L. Stephens</td>\n",
       "        <td>BNBG03</td>\n",
       "    </tr>\n",
       "    <tr>\n",
       "        <td>The Toy Store</td>\n",
       "        <td>Sam Roberts</td>\n",
       "        <td>BNBG03</td>\n",
       "    </tr>\n",
       "    <tr>\n",
       "        <td>Village Toys</td>\n",
       "        <td>John Smith</td>\n",
       "        <td>BNBG03</td>\n",
       "    </tr>\n",
       "    <tr>\n",
       "        <td>Village Toys</td>\n",
       "        <td>John Smith</td>\n",
       "        <td>BR01</td>\n",
       "    </tr>\n",
       "    <tr>\n",
       "        <td>Fun4All</td>\n",
       "        <td>Jim Jones</td>\n",
       "        <td>BR01</td>\n",
       "    </tr>\n",
       "    <tr>\n",
       "        <td>Toys Emporium</td>\n",
       "        <td>None</td>\n",
       "        <td>BR01</td>\n",
       "    </tr>\n",
       "    <tr>\n",
       "        <td>Fun4All</td>\n",
       "        <td>Jim Jones</td>\n",
       "        <td>BR02</td>\n",
       "    </tr>\n",
       "    <tr>\n",
       "        <td>Village Toys</td>\n",
       "        <td>John Smith</td>\n",
       "        <td>BR03</td>\n",
       "    </tr>\n",
       "    <tr>\n",
       "        <td>Fun4All</td>\n",
       "        <td>Jim Jones</td>\n",
       "        <td>BR03</td>\n",
       "    </tr>\n",
       "    <tr>\n",
       "        <td>Fun4All</td>\n",
       "        <td>Denise L. Stephens</td>\n",
       "        <td>BR03</td>\n",
       "    </tr>\n",
       "    <tr>\n",
       "        <td>The Toy Store</td>\n",
       "        <td>Sam Roberts</td>\n",
       "        <td>BR03</td>\n",
       "    </tr>\n",
       "    <tr>\n",
       "        <td>Fun4All</td>\n",
       "        <td>Denise L. Stephens</td>\n",
       "        <td>RGAN01</td>\n",
       "    </tr>\n",
       "    <tr>\n",
       "        <td>The Toy Store</td>\n",
       "        <td>Sam Roberts</td>\n",
       "        <td>RGAN01</td>\n",
       "    </tr>\n",
       "</table>"
      ],
      "text/plain": [
       "[('Fun4All', 'Denise L. Stephens', 'BNBG01'),\n",
       " ('The Toy Store', 'Sam Roberts', 'BNBG01'),\n",
       " ('Village Toys', 'John Smith', 'BNBG01'),\n",
       " ('Fun4All', 'Denise L. Stephens', 'BNBG02'),\n",
       " ('The Toy Store', 'Sam Roberts', 'BNBG02'),\n",
       " ('Village Toys', 'John Smith', 'BNBG02'),\n",
       " ('Fun4All', 'Denise L. Stephens', 'BNBG03'),\n",
       " ('The Toy Store', 'Sam Roberts', 'BNBG03'),\n",
       " ('Village Toys', 'John Smith', 'BNBG03'),\n",
       " ('Village Toys', 'John Smith', 'BR01'),\n",
       " ('Fun4All', 'Jim Jones', 'BR01'),\n",
       " ('Toys Emporium', None, 'BR01'),\n",
       " ('Fun4All', 'Jim Jones', 'BR02'),\n",
       " ('Village Toys', 'John Smith', 'BR03'),\n",
       " ('Fun4All', 'Jim Jones', 'BR03'),\n",
       " ('Fun4All', 'Denise L. Stephens', 'BR03'),\n",
       " ('The Toy Store', 'Sam Roberts', 'BR03'),\n",
       " ('Fun4All', 'Denise L. Stephens', 'RGAN01'),\n",
       " ('The Toy Store', 'Sam Roberts', 'RGAN01')]"
      ]
     },
     "execution_count": 93,
     "metadata": {},
     "output_type": "execute_result"
    }
   ],
   "source": [
    "%sql SELECT * FROM ProductCustomers order by prod_id"
   ]
  },
  {
   "cell_type": "markdown",
   "id": "08cec522",
   "metadata": {},
   "source": [
    "Для удаления представления предназначена инструкция drop view. Ее синтаксис прост:\n",
    "DROP VIEW имя_представления;\n",
    "\n",
    "%sql drop VIEW ProductCustomers"
   ]
  },
  {
   "cell_type": "code",
   "execution_count": 94,
   "id": "71faa0bb",
   "metadata": {},
   "outputs": [
    {
     "name": "stdout",
     "output_type": "stream",
     "text": [
      " * sqlite:///tysql/tysql.sqlite\n",
      "Done.\n"
     ]
    },
    {
     "data": {
      "text/html": [
       "<table>\n",
       "    <tr>\n",
       "        <th>cust_name</th>\n",
       "        <th>cust_contact</th>\n",
       "    </tr>\n",
       "    <tr>\n",
       "        <td>Fun4All</td>\n",
       "        <td>Denise L. Stephens</td>\n",
       "    </tr>\n",
       "    <tr>\n",
       "        <td>The Toy Store</td>\n",
       "        <td>Sam Roberts</td>\n",
       "    </tr>\n",
       "</table>"
      ],
      "text/plain": [
       "[('Fun4All', 'Denise L. Stephens'), ('The Toy Store', 'Sam Roberts')]"
      ]
     },
     "execution_count": 94,
     "metadata": {},
     "output_type": "execute_result"
    }
   ],
   "source": [
    "# Для получения списка клиентов, заказавших товар RGAN01, необходимо выполнить следующее.\n",
    "\n",
    "%sql select cust_name, cust_contact\\\n",
    "from ProductCustomers WHERE prod_id = 'RGAN01';"
   ]
  },
  {
   "cell_type": "markdown",
   "id": "17f55446",
   "metadata": {},
   "source": [
    "Вместо того чтобы выполнять конкатенацию всякий раз, когда в этом \n",
    "возникает необходимость, можно создать представление и \n",
    "использовать его вместо объединения"
   ]
  },
  {
   "cell_type": "code",
   "execution_count": 95,
   "id": "d63e63fc",
   "metadata": {},
   "outputs": [
    {
     "name": "stdout",
     "output_type": "stream",
     "text": [
      " * sqlite:///tysql/tysql.sqlite\n",
      "Done.\n"
     ]
    },
    {
     "data": {
      "text/plain": [
       "[]"
      ]
     },
     "execution_count": 95,
     "metadata": {},
     "output_type": "execute_result"
    }
   ],
   "source": [
    "%sql CREATE VIEW VendorLocations AS\\\n",
    "SELECT RTRIM(vend_name) || ' (' || RTRIM(vend_country) || ') '\\\n",
    "AS vend_title FROM Vendors;"
   ]
  },
  {
   "cell_type": "code",
   "execution_count": 96,
   "id": "184ce79f",
   "metadata": {},
   "outputs": [
    {
     "name": "stdout",
     "output_type": "stream",
     "text": [
      " * sqlite:///tysql/tysql.sqlite\n",
      "Done.\n"
     ]
    },
    {
     "data": {
      "text/html": [
       "<table>\n",
       "    <tr>\n",
       "        <th>vend_title</th>\n",
       "    </tr>\n",
       "    <tr>\n",
       "        <td>Bears R Us (USA) </td>\n",
       "    </tr>\n",
       "    <tr>\n",
       "        <td>Bear Emporium (USA) </td>\n",
       "    </tr>\n",
       "    <tr>\n",
       "        <td>Doll House Inc. (USA) </td>\n",
       "    </tr>\n",
       "    <tr>\n",
       "        <td>Furball Inc. (USA) </td>\n",
       "    </tr>\n",
       "    <tr>\n",
       "        <td>Fun and Games (England) </td>\n",
       "    </tr>\n",
       "    <tr>\n",
       "        <td>Jouets et ours (France) </td>\n",
       "    </tr>\n",
       "</table>"
      ],
      "text/plain": [
       "[('Bears R Us (USA) ',),\n",
       " ('Bear Emporium (USA) ',),\n",
       " ('Doll House Inc. (USA) ',),\n",
       " ('Furball Inc. (USA) ',),\n",
       " ('Fun and Games (England) ',),\n",
       " ('Jouets et ours (France) ',)]"
      ]
     },
     "execution_count": 96,
     "metadata": {},
     "output_type": "execute_result"
    }
   ],
   "source": [
    "%sql SELECT * FROM VendorLocations;"
   ]
  },
  {
   "cell_type": "markdown",
   "id": "7e5157a9",
   "metadata": {},
   "source": [
    "Например, вам может понадобиться определить представление CustomerEMailList таким образом, чтобы оно отфильтровывало клиентов, не имеющих адресов электронной почты."
   ]
  },
  {
   "cell_type": "code",
   "execution_count": 97,
   "id": "db767d95",
   "metadata": {},
   "outputs": [
    {
     "name": "stdout",
     "output_type": "stream",
     "text": [
      " * sqlite:///tysql/tysql.sqlite\n",
      "Done.\n"
     ]
    },
    {
     "data": {
      "text/plain": [
       "[]"
      ]
     },
     "execution_count": 97,
     "metadata": {},
     "output_type": "execute_result"
    }
   ],
   "source": [
    "%sql CREATE VIEW CustomerEMailList AS SELECT cust_id, cust_name, cust_email FROM Customers\\\n",
    "WHERE cust_email IS NOT NULL;"
   ]
  },
  {
   "cell_type": "code",
   "execution_count": 98,
   "id": "d716b793",
   "metadata": {},
   "outputs": [
    {
     "name": "stdout",
     "output_type": "stream",
     "text": [
      " * sqlite:///tysql/tysql.sqlite\n",
      "Done.\n"
     ]
    },
    {
     "data": {
      "text/html": [
       "<table>\n",
       "    <tr>\n",
       "        <th>cust_id</th>\n",
       "        <th>cust_name</th>\n",
       "        <th>cust_email</th>\n",
       "    </tr>\n",
       "    <tr>\n",
       "        <td>1000000001</td>\n",
       "        <td>Village Toys</td>\n",
       "        <td>sales@villagetoys.com</td>\n",
       "    </tr>\n",
       "    <tr>\n",
       "        <td>1000000003</td>\n",
       "        <td>Fun4All</td>\n",
       "        <td>jjones@fun4all.com</td>\n",
       "    </tr>\n",
       "    <tr>\n",
       "        <td>1000000004</td>\n",
       "        <td>Fun4All</td>\n",
       "        <td>dstephens@fun4all.com</td>\n",
       "    </tr>\n",
       "</table>"
      ],
      "text/plain": [
       "[('1000000001', 'Village Toys', 'sales@villagetoys.com'),\n",
       " ('1000000003', 'Fun4All', 'jjones@fun4all.com'),\n",
       " ('1000000004', 'Fun4All', 'dstephens@fun4all.com')]"
      ]
     },
     "execution_count": 98,
     "metadata": {},
     "output_type": "execute_result"
    }
   ],
   "source": [
    "%sql SELECT * FROM CustomerEMailList;"
   ]
  },
  {
   "cell_type": "markdown",
   "id": "82daba1f",
   "metadata": {},
   "source": [
    "Представления чрезвычайно полезны для упрощения запросов с вычисляемыми полями."
   ]
  },
  {
   "cell_type": "code",
   "execution_count": 99,
   "id": "3aedd518",
   "metadata": {},
   "outputs": [],
   "source": [
    "# CREATE VIEW OrderltemsExpanded AS SELECT order_num, prod_id, quantity, item_price,\n",
    "# quantity*item_price AS expanded_price FROM OrderIterns;"
   ]
  },
  {
   "cell_type": "markdown",
   "id": "066fa33d",
   "metadata": {},
   "source": [
    "# УРОК 19\n",
    "## Хранимые процедуры"
   ]
  },
  {
   "cell_type": "markdown",
   "id": "2efcb467",
   "metadata": {},
   "source": [
    "Хранимые процедуры не поддерживаются в Access и SQLite. Таким образом, примеры данного урока не применимы в этих СУБД.\n",
    "Поддержка хранимых процедур была добавлена в MySQL версии 5. В более ранних версиях СУБД примеры урока работать не будут."
   ]
  },
  {
   "cell_type": "markdown",
   "id": "47756641",
   "metadata": {},
   "source": [
    "Хранимые процедуры выполняются намного чаще, чем пишутся, поэтому мы начнем именно с их выполнения. Инструкция SQL для запуска хранимой процедуры — EXECUTE — принимает имя хранимой процедуры и передаваемые ей аргументы. Рассмотрим следующий пример.\n",
    "Ввод ▼\\\n",
    "_________________________________\\\n",
    "EXECUTE AddNewProduct('JTS01',\\\n",
    "'Stuffed Eiffel Tower',\\\n",
    "6.49,\\\n",
    "'Plush stuffed toy with the text La Tour Eiffel in red white and blue')"
   ]
  },
  {
   "cell_type": "markdown",
   "id": "bf36c898",
   "metadata": {},
   "source": [
    "# УРОК 20\n",
    "## Обработка транзакций"
   ]
  },
  {
   "cell_type": "markdown",
   "id": "3796e574",
   "metadata": {},
   "source": [
    "На этом уроке вы узнаете, что такое транзакции и как применять инструкции COMMIT и ROLLBACK для их обработки."
   ]
  },
  {
   "cell_type": "markdown",
   "id": "a8845e94",
   "metadata": {},
   "source": [
    "► Транзакция. Единый набор SQL-запросов.\\\n",
    "► Откат. Процесс отмены указанных инструкций SQL.\\\n",
    "► Фиксация. Запись несохраненных инструкций SQL в таблицы базы данных.\\\n",
    "► Точка сохранения. Временное состояние в ходе выполнения транзакции, \\\n",
    "в которое можно вернуться после отмены части инструкций набора \\\n",
    "(в отличие от отмены всей транзакции).\\\n",
    "\n",
    "Ключ к управлению транзакциями заключается в том, чтобы сгруппировать SQL-запросы в логические блоки и явно указать, когда может быть выполнен откат, а когда — нет."
   ]
  },
  {
   "cell_type": "code",
   "execution_count": 100,
   "id": "59163474",
   "metadata": {},
   "outputs": [],
   "source": [
    "# %sql BEGIN TRANSACTION; \\\n",
    "# INSERT INTO Customers(cust_id, cust_name)\\\n",
    "# VALUES('1000000010', 'Toys Emporium');\\\n",
    "# SAVE TRANSACTION StartOrder;\\\n",
    "# INSERT INTO Orders(order_num, order_date, cust_id) \\\n",
    "# VALUES(20100,'2001/12/1','1000000010');\\\n",
    "# IF @@ERROR <> 0 ROLLBACK TRANSACTION StartOrder;\\\n",
    "# INSERT INTO OrderItems(order_num, order_item, prod_id,\\\n",
    "# quantity, item_price)\\\n",
    "# VALUES(20100, 1, 'BR01', 100, 5.49);\\\n",
    "# IF @@ERROR <> 0 ROLLBACK TRANSACTION StartOrder;\\\n",
    "# INSERT INTO OrderItems(order_num, order_item, prod_id,\\\n",
    "# quantity, item_price)\\\n",
    "# VALUES(20100, 2, 'BR03', 100, 10.99);\\\n",
    "# IF @@ERROR <> 0 ROLLBACK TRANSACTION StartOrder;\\\n",
    "# %sql COMMIT TRANSACTION"
   ]
  },
  {
   "cell_type": "markdown",
   "id": "2a79ab58",
   "metadata": {},
   "source": [
    "Здесь выполняется набор из четырех инструкций INSERT, обье- диненных в транзакцию. Точка сохранения определена после первой инструкции INSERT, так что если один из последующих запросов INSERT закончится неудачей, отмена транзакции произойдет лишь до этой точки. В SQL Server для контроля успешности запроса можно использовать системную переменную @@ ERROR. (В других СУБД применяются иные функции или переменные.) Если переменная 0@ ERROR содержит ненулевое значение, значит, произошла ошибка и транзакция отменяется до точки сохранения. Если транзакция в целом завершается успешно, для сохранения данных выполняется инструкция COMMIT."
   ]
  },
  {
   "cell_type": "code",
   "execution_count": 106,
   "id": "418160d2",
   "metadata": {},
   "outputs": [
    {
     "name": "stdout",
     "output_type": "stream",
     "text": [
      " * sqlite:///tysql/tysql.sqlite\n",
      "1 rows affected.\n",
      "1 rows affected.\n",
      "1 rows affected.\n",
      "Done.\n"
     ]
    },
    {
     "data": {
      "text/html": [
       "<table>\n",
       "    <tr>\n",
       "        <th>order_num</th>\n",
       "        <th>order_date</th>\n",
       "        <th>cust_id</th>\n",
       "    </tr>\n",
       "    <tr>\n",
       "        <td>20005</td>\n",
       "        <td>2012-05-01</td>\n",
       "        <td>1000000001</td>\n",
       "    </tr>\n",
       "    <tr>\n",
       "        <td>20006</td>\n",
       "        <td>2012-01-12</td>\n",
       "        <td>1000000003</td>\n",
       "    </tr>\n",
       "    <tr>\n",
       "        <td>20007</td>\n",
       "        <td>2012-01-30</td>\n",
       "        <td>1000000004</td>\n",
       "    </tr>\n",
       "    <tr>\n",
       "        <td>20008</td>\n",
       "        <td>2012-02-03</td>\n",
       "        <td>1000000005</td>\n",
       "    </tr>\n",
       "    <tr>\n",
       "        <td>20009</td>\n",
       "        <td>2012-02-08</td>\n",
       "        <td>1000000001</td>\n",
       "    </tr>\n",
       "</table>"
      ],
      "text/plain": [
       "[(20005, '2012-05-01', '1000000001'),\n",
       " (20006, '2012-01-12', '1000000003'),\n",
       " (20007, '2012-01-30', '1000000004'),\n",
       " (20008, '2012-02-03', '1000000005'),\n",
       " (20009, '2012-02-08', '1000000001')]"
      ]
     },
     "execution_count": 106,
     "metadata": {},
     "output_type": "execute_result"
    }
   ],
   "source": [
    "%sql DELETE FROM Customers WHERE cust_id = '1000000010';\\\n",
    "DELETE FROM Orders WHERE order_num = '20100';\\\n",
    "DELETE FROM OrderItems WHERE order_num = '20100';\\\n",
    "SELECT * FROM Orders"
   ]
  },
  {
   "cell_type": "code",
   "execution_count": 107,
   "id": "98d5bf13",
   "metadata": {},
   "outputs": [],
   "source": [
    "con.execute(\"BEGIN TRANSACTION;\")\n",
    "try:\n",
    "    con.execute(\"INSERT INTO Customers(cust_id, cust_name) \\\n",
    "    VALUES('1000000010', 'Toys Emporium');\")\n",
    "    con.execute(\"SAVEPOINT StartOrder;\")\n",
    "    con.execute(\"INSERT INTO Orders(order_num, order_date, cust_id) \\\n",
    "    VALUES(20100,'2001/12/1','1000000010');\")\n",
    "    con.execute(\"COMMIT TRANSACTION\")\n",
    "except con.Error:\n",
    "    print(\"failed!\")\n",
    "    con.execute(\"rollback\")"
   ]
  },
  {
   "cell_type": "code",
   "execution_count": 108,
   "id": "3faca244",
   "metadata": {},
   "outputs": [
    {
     "data": {
      "text/plain": [
       "[('1000000001',\n",
       "  'Village Toys',\n",
       "  '200 Maple Lane',\n",
       "  'Detroit',\n",
       "  'MI',\n",
       "  '44444',\n",
       "  'USA',\n",
       "  'John Smith',\n",
       "  'sales@villagetoys.com'),\n",
       " ('1000000002',\n",
       "  'Kids Place',\n",
       "  '333 South Lake Drive',\n",
       "  'Columbus',\n",
       "  'OH',\n",
       "  '43333',\n",
       "  'USA',\n",
       "  'Michelle Green',\n",
       "  None),\n",
       " ('1000000003',\n",
       "  'Fun4All',\n",
       "  '1 Sunny Place',\n",
       "  'Muncie',\n",
       "  'IN',\n",
       "  '42222',\n",
       "  'USA',\n",
       "  'Jim Jones',\n",
       "  'jjones@fun4all.com'),\n",
       " ('1000000004',\n",
       "  'Fun4All',\n",
       "  '829 Riverside Drive',\n",
       "  'Phoenix',\n",
       "  'AZ',\n",
       "  '88888',\n",
       "  'USA',\n",
       "  'Denise L. Stephens',\n",
       "  'dstephens@fun4all.com'),\n",
       " ('1000000005',\n",
       "  'The Toy Store',\n",
       "  '4545 53rd Street',\n",
       "  'Chicago',\n",
       "  'IL',\n",
       "  '54545',\n",
       "  'USA',\n",
       "  'Sam Roberts',\n",
       "  None),\n",
       " ('1000000010', 'Toys Emporium', None, None, None, None, None, None, None)]"
      ]
     },
     "execution_count": 108,
     "metadata": {},
     "output_type": "execute_result"
    }
   ],
   "source": [
    "query2 = \"\"\"SELECT * FROM Customers;\"\"\"\n",
    "cursor = con.execute(query2)\n",
    "cursor.fetchall()"
   ]
  },
  {
   "cell_type": "markdown",
   "id": "efc236d3",
   "metadata": {},
   "source": [
    "# УРОК 21\n",
    "## Курсоры"
   ]
  },
  {
   "cell_type": "markdown",
   "id": "7ead0c4c",
   "metadata": {},
   "source": [
    "иногда бывает необходимо просмотреть строки в прямом или обратном порядке по одной или по нескольку строк за раз. Именно для этого и нужны курсоры. Курсор представляет собой запрос к базе данных, хранящийся на сервере СУБД, — это не инструкция SELECT, но результирующий набор, выборка, полученная в результате выполнения инструкции SELECT. После того как курсор сохранен, приложения могут “прокручивать” (просматривать) строки в прямом или обратном порядке, когда возникает такая необходимость."
   ]
  },
  {
   "cell_type": "code",
   "execution_count": 109,
   "id": "4e1eebcc",
   "metadata": {},
   "outputs": [],
   "source": [
    "# Приведенная ниже версия подходит для DB2, MariaDB, MySQL и SQL Server.\n",
    "# Ввод ▼\n",
    "# ___________\n",
    "# DECLARE CustCursor CURSOR FOR\n",
    "# SELECT * FROM Customers WHERE oust email IS NULL\n",
    "\n",
    "# версия для Oracle и PostgreSQL.\n",
    "# DECLARE CURSOR CustCursor IS\n",
    "# SELECT * FROM Customers WHERE oust email IS NULL\n",
    "\n",
    "# Курсоры открываются с помощью инструкции OPEN CURSOR, синтаксис \n",
    "# которой настолько прост, что его поддерживает большинство СУБД.\n",
    "# OPEN CURSOR CustCursor\n",
    "\n",
    "# Доступ к содержимому курсора можно получить с помощью инструкции FETCH\n",
    "# DECLARE TYPE CustCursor IS REF CURSOR RETURN Customers%ROWTYPE;\n",
    "# DECLARE CustRecord Customers%ROWTYPE BEGIN\n",
    "# OPEN CustCursor;\n",
    "# LOOP\n",
    "# FETCH CustCursor INTO CustRecord;\n",
    "# EXIT WHEN CustCursor%NOTFOUND;\n",
    "# END LOOP;\n",
    "# CLOSE CustCursor;\n",
    "# END;\n",
    "\n",
    "# CLOSE CustCursor\n",
    "\n",
    "# CLOSE CustCursor DEALLOCATE CURSOR CustCursor"
   ]
  },
  {
   "cell_type": "markdown",
   "id": "a91de668",
   "metadata": {},
   "source": [
    "# УРОК 22\n",
    "Расширенные возможности SQL"
   ]
  },
  {
   "cell_type": "markdown",
   "id": "32dff8f2",
   "metadata": {},
   "source": [
    "На этом уроке мы рассмотрим несколько расширенных средств обработки данных в SQL: ограничения, индексы и триггеры."
   ]
  },
  {
   "cell_type": "markdown",
   "id": "23aef69e",
   "metadata": {},
   "source": [
    "СУБД принудительно обеспечивает ссылочную целостность за счет ограничений, налагаемых на таблицы базы данных. Большинство ограничений задается в определениях таблиц (с помощью инструкций CREATE TABLE или ALTER TABLE; СМ. урок 17)."
   ]
  },
  {
   "cell_type": "markdown",
   "id": "1d30d41c",
   "metadata": {},
   "source": [
    "# Первичные ключи\n",
    "Один из способов определить первичный ключ — указать соответствующее ограничение в процессе создания таблицы."
   ]
  },
  {
   "cell_type": "code",
   "execution_count": 110,
   "id": "c5af06ef",
   "metadata": {},
   "outputs": [
    {
     "name": "stdout",
     "output_type": "stream",
     "text": [
      " * sqlite:///tysql/tysql.sqlite\n",
      "Done.\n"
     ]
    },
    {
     "data": {
      "text/plain": [
       "[]"
      ]
     },
     "execution_count": 110,
     "metadata": {},
     "output_type": "execute_result"
    }
   ],
   "source": [
    "%sql CREATE TABLE Vendors2\\\n",
    "(vend_id CHAR(10) NOT NULL PRIMARY KEY, \\\n",
    "vend_name CHAR(50) NOT NULL,\\\n",
    "vend_address CHAR(50) NULL,\\\n",
    "vend_city CHAR(50) NULL,\\\n",
    "vend_state CHAR(5) NULL,\\\n",
    "vend_zip CHAR(10) NULL,\\\n",
    "vend_country CHAR(50) NULL);"
   ]
  },
  {
   "cell_type": "code",
   "execution_count": 111,
   "id": "23f48db2",
   "metadata": {},
   "outputs": [
    {
     "name": "stdout",
     "output_type": "stream",
     "text": [
      " * sqlite:///tysql/tysql.sqlite\n",
      "(sqlite3.OperationalError) near \"CONSTRAINT\": syntax error\n",
      "[SQL: ALTER TABLE Vendors ADD CONSTRAINT PRIMARY KEY * (vend_id);]\n",
      "(Background on this error at: http://sqlalche.me/e/13/e3q8)\n"
     ]
    }
   ],
   "source": [
    "%sql ALTER TABLE Vendors ADD CONSTRAINT PRIMARY KEY * (vend_id);"
   ]
  },
  {
   "cell_type": "markdown",
   "id": "a0820b0b",
   "metadata": {},
   "source": [
    "ПРИМЕЧАНИЕ: ключи в SQLite\n",
    "В SQLite нельзя определять ключи с помощью инструкции ALTER TABLE. Это можно делать только в первоначальной инструкции\n",
    "CREATE TABLE."
   ]
  },
  {
   "cell_type": "markdown",
   "id": "2a04ad74",
   "metadata": {},
   "source": [
    "Вот один из способов определения внешнего ключа."
   ]
  },
  {
   "cell_type": "code",
   "execution_count": 112,
   "id": "e4b2b957",
   "metadata": {},
   "outputs": [
    {
     "name": "stdout",
     "output_type": "stream",
     "text": [
      " * sqlite:///tysql/tysql.sqlite\n",
      "Done.\n"
     ]
    },
    {
     "data": {
      "text/plain": [
       "[]"
      ]
     },
     "execution_count": 112,
     "metadata": {},
     "output_type": "execute_result"
    }
   ],
   "source": [
    "%sql CREATE TABLE Orders2 \\\n",
    "(order_num INTEGER NOT NULL PRIMARY KEY,\\\n",
    "order_date DATETIME NOT NULL,\\\n",
    "cust_id CHAR(10) NOT NULL REFERENCES Customers(cust_id));"
   ]
  },
  {
   "cell_type": "markdown",
   "id": "648c9367",
   "metadata": {},
   "source": [
    "Аналогичного результата можно добиться с помощью ключевого слова CONSTRAINT в инструкции ALTER TABLE."
   ]
  },
  {
   "cell_type": "markdown",
   "id": "2fbf2ceb",
   "metadata": {},
   "source": [
    "ALTER TABLE Orders ADD CONSTRAINT FOREIGN KEY (cust_id) REFERENCES Customers(cust_id)"
   ]
  },
  {
   "cell_type": "markdown",
   "id": "b03d60da",
   "metadata": {},
   "source": [
    "В следующем примере налагается ограничение на значения столбца quantity таблицы Orderltems, с тем чтобы для всех товаров указывалось количество, большее 0."
   ]
  },
  {
   "cell_type": "code",
   "execution_count": 113,
   "id": "c722ca81",
   "metadata": {},
   "outputs": [
    {
     "name": "stdout",
     "output_type": "stream",
     "text": [
      " * sqlite:///tysql/tysql.sqlite\n",
      "Done.\n"
     ]
    },
    {
     "data": {
      "text/plain": [
       "[]"
      ]
     },
     "execution_count": 113,
     "metadata": {},
     "output_type": "execute_result"
    }
   ],
   "source": [
    "%sql CREATE TABLE OrderItems2 (order_num INTEGER NOT NULL,\\\n",
    "order_item INTEGER NOT NULL,\\\n",
    "prod_id CHAR(10) NOT NULL,\\\n",
    "quantity INTEGER NOT NULL CHECK (quantity > 0),\\\n",
    "item_price MONEY NOT NULL)"
   ]
  },
  {
   "cell_type": "code",
   "execution_count": 114,
   "id": "c87853de",
   "metadata": {},
   "outputs": [
    {
     "name": "stdout",
     "output_type": "stream",
     "text": [
      " * sqlite:///tysql/tysql.sqlite\n",
      "Done.\n"
     ]
    },
    {
     "data": {
      "text/html": [
       "<table>\n",
       "    <tr>\n",
       "        <th>type</th>\n",
       "        <th>name</th>\n",
       "        <th>tbl_name</th>\n",
       "        <th>rootpage</th>\n",
       "        <th>sql</th>\n",
       "    </tr>\n",
       "    <tr>\n",
       "        <td>table</td>\n",
       "        <td>OrderItems</td>\n",
       "        <td>OrderItems</td>\n",
       "        <td>4</td>\n",
       "        <td>CREATE TABLE OrderItems<br>(<br>  order_num  int          NOT NULL                      ,<br>  order_item int          NOT NULL                      ,<br>  prod_id    char(10)     NOT NULL                      ,<br>  quantity   int          NOT NULL                      ,<br>  item_price decimal(8,2) NOT NULL                      ,<br>  PRIMARY KEY (order_num, order_item)                   ,<br>  FOREIGN KEY (order_num) REFERENCES Orders (order_num) ,<br>  FOREIGN KEY (prod_id) REFERENCES Products (prod_id)<br>)</td>\n",
       "    </tr>\n",
       "    <tr>\n",
       "        <td>table</td>\n",
       "        <td>OrderItems2</td>\n",
       "        <td>OrderItems2</td>\n",
       "        <td>20</td>\n",
       "        <td>CREATE TABLE OrderItems2 (order_num INTEGER NOT NULL, order_item INTEGER NOT NULL, prod_id CHAR(10) NOT NULL, quantity INTEGER NOT NULL CHECK (quantity &gt; 0), item_price MONEY NOT NULL)</td>\n",
       "    </tr>\n",
       "</table>"
      ],
      "text/plain": [
       "[('table', 'OrderItems', 'OrderItems', 4, 'CREATE TABLE OrderItems\\n(\\n  order_num  int          NOT NULL                      ,\\n  order_item int          NOT NULL                      ,\\n  p ... (199 characters truncated) ...  order_item)                   ,\\n  FOREIGN KEY (order_num) REFERENCES Orders (order_num) ,\\n  FOREIGN KEY (prod_id) REFERENCES Products (prod_id)\\n)'),\n",
       " ('table', 'OrderItems2', 'OrderItems2', 20, 'CREATE TABLE OrderItems2 (order_num INTEGER NOT NULL, order_item INTEGER NOT NULL, prod_id CHAR(10) NOT NULL, quantity INTEGER NOT NULL CHECK (quantity > 0), item_price MONEY NOT NULL)')]"
      ]
     },
     "execution_count": 114,
     "metadata": {},
     "output_type": "execute_result"
    }
   ],
   "source": [
    "%sql SELECT * FROM sqlite_master WHERE type='table' AND name like 'OrderItems%'"
   ]
  },
  {
   "cell_type": "code",
   "execution_count": 115,
   "id": "5020cf87",
   "metadata": {},
   "outputs": [
    {
     "name": "stdout",
     "output_type": "stream",
     "text": [
      " * sqlite:///tysql/tysql.sqlite\n",
      "1 rows affected.\n"
     ]
    },
    {
     "data": {
      "text/plain": [
       "[]"
      ]
     },
     "execution_count": 115,
     "metadata": {},
     "output_type": "execute_result"
    }
   ],
   "source": [
    "%sql INSERT INTO OrderItems2(\\\n",
    "order_num,\\\n",
    "order_item,\\\n",
    "prod_id,\\\n",
    "quantity,\\\n",
    "item_price)\\\n",
    "VALUES(\\\n",
    "'2005',\\\n",
    "2,\\\n",
    "'BR01',\\\n",
    "10,\\\n",
    "20);"
   ]
  },
  {
   "cell_type": "code",
   "execution_count": 116,
   "id": "1fdd3ee1",
   "metadata": {},
   "outputs": [
    {
     "name": "stdout",
     "output_type": "stream",
     "text": [
      " * sqlite:///tysql/tysql.sqlite\n",
      "Done.\n"
     ]
    },
    {
     "data": {
      "text/html": [
       "<table>\n",
       "    <tr>\n",
       "        <th>order_num</th>\n",
       "        <th>order_item</th>\n",
       "        <th>prod_id</th>\n",
       "        <th>quantity</th>\n",
       "        <th>item_price</th>\n",
       "    </tr>\n",
       "    <tr>\n",
       "        <td>2005</td>\n",
       "        <td>2</td>\n",
       "        <td>BR01</td>\n",
       "        <td>10</td>\n",
       "        <td>20</td>\n",
       "    </tr>\n",
       "</table>"
      ],
      "text/plain": [
       "[(2005, 2, 'BR01', 10, 20)]"
      ]
     },
     "execution_count": 116,
     "metadata": {},
     "output_type": "execute_result"
    }
   ],
   "source": [
    "%sql SELECT * FROM OrderItems2"
   ]
  },
  {
   "cell_type": "code",
   "execution_count": 117,
   "id": "b227116e",
   "metadata": {},
   "outputs": [],
   "source": [
    "# %sql INSERT INTO OrderItems2(\\\n",
    "# order_num,\\\n",
    "# order_item,\\\n",
    "# prod_id,\\\n",
    "# quantity,\\\n",
    "# item_price)\\\n",
    "# VALUES(\\\n",
    "# '2005',\\\n",
    "# 2,\\\n",
    "# 'BR01',\\\n",
    "# 0,\\ #со значением 0 работать не будет: quantity INTEGER NOT NULL CHECK (quantity > 0)\n",
    "# 22.3);"
   ]
  },
  {
   "cell_type": "markdown",
   "id": "85966836",
   "metadata": {},
   "source": [
    "Дабы проконтролировать тот факт, что в столбце с обозначением пола может содержаться только буква М или F, добавьте следующую строку в инструкцию ALTER TABLE.\\\n",
    "ADD CONSTRAINT CHECK (gender LIKE '[MF]')"
   ]
  },
  {
   "cell_type": "markdown",
   "id": "aeffa402",
   "metadata": {},
   "source": [
    "# Что такое индексы"
   ]
  },
  {
   "cell_type": "markdown",
   "id": "6c7056f0",
   "metadata": {},
   "source": [
    "Индексы предназначены для логической сортировки хранимых данных, что позволяет повысить скорость поиска и сортировки строк в запросах. "
   ]
  },
  {
   "cell_type": "code",
   "execution_count": 118,
   "id": "90ec74b1",
   "metadata": {},
   "outputs": [
    {
     "name": "stdout",
     "output_type": "stream",
     "text": [
      " * sqlite:///tysql/tysql.sqlite\n",
      "Done.\n"
     ]
    },
    {
     "data": {
      "text/html": [
       "<table>\n",
       "    <tr>\n",
       "        <th>prod_id</th>\n",
       "        <th>vend_id</th>\n",
       "        <th>prod_name</th>\n",
       "        <th>prod_price</th>\n",
       "        <th>prod_desc</th>\n",
       "    </tr>\n",
       "    <tr>\n",
       "        <td>BR01</td>\n",
       "        <td>BRS01</td>\n",
       "        <td>8 inch teddy bear</td>\n",
       "        <td>5.99</td>\n",
       "        <td>8 inch teddy bear, comes with cap and jacket</td>\n",
       "    </tr>\n",
       "    <tr>\n",
       "        <td>BR02</td>\n",
       "        <td>BRS01</td>\n",
       "        <td>12 inch teddy bear</td>\n",
       "        <td>8.99</td>\n",
       "        <td>12 inch teddy bear, comes with cap and jacket</td>\n",
       "    </tr>\n",
       "    <tr>\n",
       "        <td>BR03</td>\n",
       "        <td>BRS01</td>\n",
       "        <td>18 inch teddy bear</td>\n",
       "        <td>11.99</td>\n",
       "        <td>18 inch teddy bear, comes with cap and jacket</td>\n",
       "    </tr>\n",
       "    <tr>\n",
       "        <td>BNBG01</td>\n",
       "        <td>DLL01</td>\n",
       "        <td>Fish bean bag toy</td>\n",
       "        <td>3.49</td>\n",
       "        <td>Fish bean bag toy, complete with bean bag worms with which to feed it</td>\n",
       "    </tr>\n",
       "    <tr>\n",
       "        <td>BNBG02</td>\n",
       "        <td>DLL01</td>\n",
       "        <td>Bird bean bag toy</td>\n",
       "        <td>3.49</td>\n",
       "        <td>Bird bean bag toy, eggs are not included</td>\n",
       "    </tr>\n",
       "    <tr>\n",
       "        <td>BNBG03</td>\n",
       "        <td>DLL01</td>\n",
       "        <td>Rabbit bean bag toy</td>\n",
       "        <td>3.49</td>\n",
       "        <td>Rabbit bean bag toy, comes with bean bag carrots</td>\n",
       "    </tr>\n",
       "    <tr>\n",
       "        <td>RGAN01</td>\n",
       "        <td>DLL01</td>\n",
       "        <td>Raggedy Ann</td>\n",
       "        <td>4.99</td>\n",
       "        <td>18 inch Raggedy Ann doll</td>\n",
       "    </tr>\n",
       "    <tr>\n",
       "        <td>RYL01</td>\n",
       "        <td>FNG01</td>\n",
       "        <td>King doll</td>\n",
       "        <td>9.49</td>\n",
       "        <td>12 inch king doll with royal garments and crown</td>\n",
       "    </tr>\n",
       "    <tr>\n",
       "        <td>RYL02</td>\n",
       "        <td>FNG01</td>\n",
       "        <td>Queen doll</td>\n",
       "        <td>9.49</td>\n",
       "        <td>12 inch queen doll with royal garments and crown</td>\n",
       "    </tr>\n",
       "</table>"
      ],
      "text/plain": [
       "[('BR01', 'BRS01', '8 inch teddy bear', 5.99, '8 inch teddy bear, comes with cap and jacket'),\n",
       " ('BR02', 'BRS01', '12 inch teddy bear', 8.99, '12 inch teddy bear, comes with cap and jacket'),\n",
       " ('BR03', 'BRS01', '18 inch teddy bear', 11.99, '18 inch teddy bear, comes with cap and jacket'),\n",
       " ('BNBG01', 'DLL01', 'Fish bean bag toy', 3.49, 'Fish bean bag toy, complete with bean bag worms with which to feed it'),\n",
       " ('BNBG02', 'DLL01', 'Bird bean bag toy', 3.49, 'Bird bean bag toy, eggs are not included'),\n",
       " ('BNBG03', 'DLL01', 'Rabbit bean bag toy', 3.49, 'Rabbit bean bag toy, comes with bean bag carrots'),\n",
       " ('RGAN01', 'DLL01', 'Raggedy Ann', 4.99, '18 inch Raggedy Ann doll'),\n",
       " ('RYL01', 'FNG01', 'King doll', 9.49, '12 inch king doll with royal garments and crown'),\n",
       " ('RYL02', 'FNG01', 'Queen doll', 9.49, '12 inch queen doll with royal garments and crown')]"
      ]
     },
     "execution_count": 118,
     "metadata": {},
     "output_type": "execute_result"
    }
   ],
   "source": [
    "%sql SELECT * FROM Products"
   ]
  },
  {
   "cell_type": "code",
   "execution_count": 119,
   "id": "95a01109",
   "metadata": {},
   "outputs": [
    {
     "name": "stdout",
     "output_type": "stream",
     "text": [
      " * sqlite:///tysql/tysql.sqlite\n",
      "Done.\n",
      "Done.\n"
     ]
    },
    {
     "data": {
      "text/html": [
       "<table>\n",
       "    <tr>\n",
       "        <th>prod_id</th>\n",
       "        <th>vend_id</th>\n",
       "        <th>prod_name</th>\n",
       "        <th>prod_price</th>\n",
       "        <th>prod_desc</th>\n",
       "    </tr>\n",
       "    <tr>\n",
       "        <td>BR01</td>\n",
       "        <td>BRS01</td>\n",
       "        <td>8 inch teddy bear</td>\n",
       "        <td>5.99</td>\n",
       "        <td>8 inch teddy bear, comes with cap and jacket</td>\n",
       "    </tr>\n",
       "    <tr>\n",
       "        <td>BR02</td>\n",
       "        <td>BRS01</td>\n",
       "        <td>12 inch teddy bear</td>\n",
       "        <td>8.99</td>\n",
       "        <td>12 inch teddy bear, comes with cap and jacket</td>\n",
       "    </tr>\n",
       "    <tr>\n",
       "        <td>BR03</td>\n",
       "        <td>BRS01</td>\n",
       "        <td>18 inch teddy bear</td>\n",
       "        <td>11.99</td>\n",
       "        <td>18 inch teddy bear, comes with cap and jacket</td>\n",
       "    </tr>\n",
       "    <tr>\n",
       "        <td>BNBG01</td>\n",
       "        <td>DLL01</td>\n",
       "        <td>Fish bean bag toy</td>\n",
       "        <td>3.49</td>\n",
       "        <td>Fish bean bag toy, complete with bean bag worms with which to feed it</td>\n",
       "    </tr>\n",
       "    <tr>\n",
       "        <td>BNBG02</td>\n",
       "        <td>DLL01</td>\n",
       "        <td>Bird bean bag toy</td>\n",
       "        <td>3.49</td>\n",
       "        <td>Bird bean bag toy, eggs are not included</td>\n",
       "    </tr>\n",
       "    <tr>\n",
       "        <td>BNBG03</td>\n",
       "        <td>DLL01</td>\n",
       "        <td>Rabbit bean bag toy</td>\n",
       "        <td>3.49</td>\n",
       "        <td>Rabbit bean bag toy, comes with bean bag carrots</td>\n",
       "    </tr>\n",
       "    <tr>\n",
       "        <td>RGAN01</td>\n",
       "        <td>DLL01</td>\n",
       "        <td>Raggedy Ann</td>\n",
       "        <td>4.99</td>\n",
       "        <td>18 inch Raggedy Ann doll</td>\n",
       "    </tr>\n",
       "    <tr>\n",
       "        <td>RYL01</td>\n",
       "        <td>FNG01</td>\n",
       "        <td>King doll</td>\n",
       "        <td>9.49</td>\n",
       "        <td>12 inch king doll with royal garments and crown</td>\n",
       "    </tr>\n",
       "    <tr>\n",
       "        <td>RYL02</td>\n",
       "        <td>FNG01</td>\n",
       "        <td>Queen doll</td>\n",
       "        <td>9.49</td>\n",
       "        <td>12 inch queen doll with royal garments and crown</td>\n",
       "    </tr>\n",
       "</table>"
      ],
      "text/plain": [
       "[('BR01', 'BRS01', '8 inch teddy bear', 5.99, '8 inch teddy bear, comes with cap and jacket'),\n",
       " ('BR02', 'BRS01', '12 inch teddy bear', 8.99, '12 inch teddy bear, comes with cap and jacket'),\n",
       " ('BR03', 'BRS01', '18 inch teddy bear', 11.99, '18 inch teddy bear, comes with cap and jacket'),\n",
       " ('BNBG01', 'DLL01', 'Fish bean bag toy', 3.49, 'Fish bean bag toy, complete with bean bag worms with which to feed it'),\n",
       " ('BNBG02', 'DLL01', 'Bird bean bag toy', 3.49, 'Bird bean bag toy, eggs are not included'),\n",
       " ('BNBG03', 'DLL01', 'Rabbit bean bag toy', 3.49, 'Rabbit bean bag toy, comes with bean bag carrots'),\n",
       " ('RGAN01', 'DLL01', 'Raggedy Ann', 4.99, '18 inch Raggedy Ann doll'),\n",
       " ('RYL01', 'FNG01', 'King doll', 9.49, '12 inch king doll with royal garments and crown'),\n",
       " ('RYL02', 'FNG01', 'Queen doll', 9.49, '12 inch queen doll with royal garments and crown')]"
      ]
     },
     "execution_count": 119,
     "metadata": {},
     "output_type": "execute_result"
    }
   ],
   "source": [
    "%sql CREATE INDEX prod_name_ind ON Products (prod_name);\\\n",
    "SELECT * FROM Products"
   ]
  },
  {
   "cell_type": "markdown",
   "id": "7548c88c",
   "metadata": {},
   "source": [
    "# Что такое триггеры"
   ]
  },
  {
   "cell_type": "markdown",
   "id": "6175e92e",
   "metadata": {},
   "source": [
    "Триггеры — это особые хранимые процедуры, автоматически выполняемые при наступлении определенных событий в базе данных. Триггеры могут быть связаны с выполнением инструкций INSERT, UPDATE и DELETE по отношению к указанным таблицам."
   ]
  },
  {
   "cell_type": "markdown",
   "id": "9988efe2",
   "metadata": {},
   "source": [
    "Чаще всего триггеры применяются для следующих целей:\\\n",
    "► обеспечение непротиворечивости данных (например, для преобразования всех названий штатов в верхний регистр при выполнении инструкций INSERT или UPDATE);\\\n",
    "► выполнение действий по отношению к другим таблицам на основе изменений, которые были сделаны в какой-то таблице (например, для внесения записи в контрольный журнал с целью регистрации каждого случая обновления или удаления строки);\\\n",
    "► дополнительная проверка и, в случае необходимости, отмена ввода данных (например, дабы удостовериться в том, что разрешенная для клиента сумма кредита не превышена, в противном случае операция блокируется);\\\n",
    "► подсчет значений вычисляемых полей или обновление меток даты/времени."
   ]
  },
  {
   "cell_type": "markdown",
   "id": "a55ddc4e",
   "metadata": {},
   "source": [
    "# Безопасность баз данных"
   ]
  },
  {
   "cell_type": "markdown",
   "id": "2466ee48",
   "metadata": {},
   "source": [
    "Чаще всего применяются следующие ограничения безопасности:\\\n",
    "► ограничение доступа к административным функциям (создание таблиц, изменение или удаление существующих таблиц и т.п.);\\\n",
    "► ограничение доступа к отдельным базам данных или таблицам;\\\n",
    "► ограничение типа доступа (только для чтения, доступ к отдельным столбцам и т.п.);\\\n",
    "► организация доступа к таблицам только через представления или хранимые процедуры;\\\n",
    "► создание нескольких уровней безопасности, вследствие чего обеспечивается различная степень доступа и контроля на основе учетных записей пользователей.\\\n",
    "► ограничение возможности управлять учетными записями пользователей."
   ]
  },
  {
   "cell_type": "markdown",
   "id": "d794cbc9",
   "metadata": {},
   "source": [
    "Управление безопасностью осуществляется посредством инструкций GRANT и REVOKE, хотя большинство СУБД предлагает интерактивные утилиты администрирования, в которых применяются те же самые инструкции."
   ]
  },
  {
   "cell_type": "code",
   "execution_count": null,
   "id": "6010bb9f",
   "metadata": {},
   "outputs": [],
   "source": []
  }
 ],
 "metadata": {
  "kernelspec": {
   "display_name": "Python 3 (ipykernel)",
   "language": "python",
   "name": "python3"
  },
  "language_info": {
   "codemirror_mode": {
    "name": "ipython",
    "version": 3
   },
   "file_extension": ".py",
   "mimetype": "text/x-python",
   "name": "python",
   "nbconvert_exporter": "python",
   "pygments_lexer": "ipython3",
   "version": "3.9.7"
  }
 },
 "nbformat": 4,
 "nbformat_minor": 5
}
